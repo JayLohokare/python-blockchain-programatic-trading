{
  "nbformat": 4,
  "nbformat_minor": 0,
  "metadata": {
    "colab": {
      "name": "Exercise 5",
      "version": "0.3.2",
      "views": {},
      "default_view": {},
      "provenance": []
    },
    "kernelspec": {
      "name": "python3",
      "display_name": "Python 3"
    }
  },
  "cells": [
    {
      "metadata": {
        "id": "n_DNPYLpa_cK",
        "colab_type": "code",
        "colab": {
          "autoexec": {
            "startup": false,
            "wait_interval": 0
          },
          "base_uri": "https://localhost:8080/",
          "height": 35
        },
        "outputId": "898292fd-f70b-4a7e-b0e0-82831b60dabc",
        "executionInfo": {
          "status": "ok",
          "timestamp": 1527606173113,
          "user_tz": 240,
          "elapsed": 2597,
          "user": {
            "displayName": "Jay Lohokare",
            "photoUrl": "//lh3.googleusercontent.com/-0bBtDx-OpcA/AAAAAAAAAAI/AAAAAAAAo0k/wOog6yUZ1yM/s50-c-k-no/photo.jpg",
            "userId": "101298074449851112405"
          }
        }
      },
      "cell_type": "code",
      "source": [
        "!pip install bitcoin"
      ],
      "execution_count": 1,
      "outputs": [
        {
          "output_type": "stream",
          "text": [
            "Requirement already satisfied: bitcoin in /usr/local/lib/python3.6/dist-packages (1.1.42)\r\n"
          ],
          "name": "stdout"
        }
      ]
    },
    {
      "metadata": {
        "id": "1vopi0PLbBqD",
        "colab_type": "code",
        "colab": {
          "autoexec": {
            "startup": false,
            "wait_interval": 0
          }
        }
      },
      "cell_type": "code",
      "source": [
        "from bitcoin import *"
      ],
      "execution_count": 0,
      "outputs": []
    },
    {
      "metadata": {
        "id": "vH7dDZ3Jbeno",
        "colab_type": "code",
        "colab": {
          "autoexec": {
            "startup": false,
            "wait_interval": 0
          },
          "base_uri": "https://localhost:8080/",
          "height": 55
        },
        "outputId": "ac05d3a2-2a30-4612-f74a-7de300b0b2b2",
        "executionInfo": {
          "status": "ok",
          "timestamp": 1527606862757,
          "user_tz": 240,
          "elapsed": 403,
          "user": {
            "displayName": "Jay Lohokare",
            "photoUrl": "//lh3.googleusercontent.com/-0bBtDx-OpcA/AAAAAAAAAAI/AAAAAAAAo0k/wOog6yUZ1yM/s50-c-k-no/photo.jpg",
            "userId": "101298074449851112405"
          }
        }
      },
      "cell_type": "code",
      "source": [
        "private_key1 = random_key()\n",
        "public_key1 = privtopub(private_key1)\n",
        "\n",
        "private_key2 = random_key()\n",
        "public_key2 = privtopub(private_key2)\n",
        "\n",
        "private_key3 = random_key()\n",
        "public_key3 = privtopub(private_key3)\n",
        "\n",
        "private_key4 = random_key()\n",
        "public_key4 = privtopub(private_key4)\n",
        "\n",
        "multisig = mk_multisig_script(public_key1, public_key2, public_key3, public_key4, 4)\n",
        "print(multisig)\n"
      ],
      "execution_count": 8,
      "outputs": [
        {
          "output_type": "stream",
          "text": [
            "5441042202413425ca265da4e25d9b174450bef4b68b0d5832ff797445921b66bcc76e41a37dd5f8da4f6a53beff4275e867c19d102167d4ac204a47bd7c3f87508ffe4104705d68750174f19a3148b4457366804e5ccc77c4f1b51286c987a0922f1632446a3bfb71464b4de04ba7cae99f2564fb7a7d8407e1e71ff10ad803af3c51358941046d472178c7154ae8d4219aa1a4455a9583ba3bf6cc6b92cf0504e8cf6d42ad8bf29882b7c43ee33af85b6e7b46b0dae336c15d45599ec5d6e4843b8399ddc89441040f50c63f5c6e77080432364a9b477ff45f1c954d4be2a3e2dc6d5ab20e2ec9cde3750c903ca0ae9694088abf11a2fb6f14b71cb5333be1374910ab20722300ab54ae\n"
          ],
          "name": "stdout"
        }
      ]
    },
    {
      "metadata": {
        "id": "QYvZTbICdrqB",
        "colab_type": "code",
        "colab": {
          "autoexec": {
            "startup": false,
            "wait_interval": 0
          },
          "base_uri": "https://localhost:8080/",
          "height": 35
        },
        "outputId": "46074183-15f6-41d8-9ccd-8113b65dc36e",
        "executionInfo": {
          "status": "ok",
          "timestamp": 1527606863942,
          "user_tz": 240,
          "elapsed": 412,
          "user": {
            "displayName": "Jay Lohokare",
            "photoUrl": "//lh3.googleusercontent.com/-0bBtDx-OpcA/AAAAAAAAAAI/AAAAAAAAo0k/wOog6yUZ1yM/s50-c-k-no/photo.jpg",
            "userId": "101298074449851112405"
          }
        }
      },
      "cell_type": "code",
      "source": [
        "\n",
        "bitcoin_address = scriptaddr(multisig)\n",
        "print('Bitcoin address is', bitcoin_address)\n"
      ],
      "execution_count": 9,
      "outputs": [
        {
          "output_type": "stream",
          "text": [
            "Bitcoin address is 3G952C1oUhF7udn7eeHKhmzuYsywUQMYbx\n"
          ],
          "name": "stdout"
        }
      ]
    },
    {
      "metadata": {
        "id": "L-VwSpmUdI9G",
        "colab_type": "text"
      },
      "cell_type": "markdown",
      "source": [
        "Github repo of the library\n",
        "\n",
        "https://github.com/vbuterin/pybitcointools\n",
        "\n",
        "Fork the previous commits - Latest commit source code is deleted\n"
      ]
    },
    {
      "metadata": {
        "id": "tTpSG9A-dFVq",
        "colab_type": "code",
        "colab": {
          "autoexec": {
            "startup": false,
            "wait_interval": 0
          }
        }
      },
      "cell_type": "code",
      "source": [
        ""
      ],
      "execution_count": 0,
      "outputs": []
    }
  ]
}