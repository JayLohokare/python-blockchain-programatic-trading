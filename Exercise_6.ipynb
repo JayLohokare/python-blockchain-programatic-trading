{
  "nbformat": 4,
  "nbformat_minor": 0,
  "metadata": {
    "colab": {
      "name": "Exercise 6",
      "version": "0.3.2",
      "views": {},
      "default_view": {},
      "provenance": []
    },
    "kernelspec": {
      "name": "python3",
      "display_name": "Python 3"
    }
  },
  "cells": [
    {
      "metadata": {
        "id": "0Ind1WzEeN5z",
        "colab_type": "code",
        "colab": {
          "autoexec": {
            "startup": false,
            "wait_interval": 0
          }
        }
      },
      "cell_type": "code",
      "source": [
        "!pip install urllib3\n",
        "!pip install pandas"
      ],
      "execution_count": 0,
      "outputs": []
    },
    {
      "metadata": {
        "id": "Tg0utS0feRMe",
        "colab_type": "code",
        "colab": {
          "autoexec": {
            "startup": false,
            "wait_interval": 0
          }
        }
      },
      "cell_type": "code",
      "source": [
        "import requests, json, time, urllib3\n",
        "import pandas as pd"
      ],
      "execution_count": 0,
      "outputs": []
    },
    {
      "metadata": {
        "id": "cqWm4heUeiZV",
        "colab_type": "code",
        "colab": {
          "autoexec": {
            "startup": false,
            "wait_interval": 0
          },
          "base_uri": "https://localhost:8080/",
          "height": 129
        },
        "outputId": "66dbaf26-d52d-41bb-86e8-456c3d7a17eb",
        "executionInfo": {
          "status": "ok",
          "timestamp": 1527607261621,
          "user_tz": 240,
          "elapsed": 825,
          "user": {
            "displayName": "Jay Lohokare",
            "photoUrl": "//lh3.googleusercontent.com/-0bBtDx-OpcA/AAAAAAAAAAI/AAAAAAAAo0k/wOog6yUZ1yM/s50-c-k-no/photo.jpg",
            "userId": "101298074449851112405"
          }
        }
      },
      "cell_type": "code",
      "source": [
        "url = 'https://api.coinmarketcap.com/v1/ticker'\n",
        "http = urllib3.PoolManager()\n",
        "tickers_json = http.request('GET', url)\n",
        "print(tickers_json.data)"
      ],
      "execution_count": 7,
      "outputs": [
        {
          "output_type": "stream",
          "text": [
            "b'[\\n    {\\n        \"id\": \"bitcoin\", \\n        \"name\": \"Bitcoin\", \\n        \"symbol\": \"BTC\", \\n        \"rank\": \"1\", \\n        \"price_usd\": \"7426.55\", \\n        \"price_btc\": \"1.0\", \\n        \"24h_volume_usd\": \"5492610000.0\", \\n        \"market_cap_usd\": \"126713467074\", \\n        \"available_supply\": \"17062225.0\", \\n        \"total_supply\": \"17062225.0\", \\n        \"max_supply\": \"21000000.0\", \\n        \"percent_change_1h\": \"-0.33\", \\n        \"percent_change_24h\": \"2.13\", \\n        \"percent_change_7d\": \"-9.89\", \\n        \"last_updated\": \"1527607169\"\\n    }, \\n    {\\n        \"id\": \"ethereum\", \\n        \"name\": \"Ethereum\", \\n        \"symbol\": \"ETH\", \\n        \"rank\": \"2\", \\n        \"price_usd\": \"556.195\", \\n        \"price_btc\": \"0.075018\", \\n        \"24h_volume_usd\": \"2320550000.0\", \\n        \"market_cap_usd\": \"55475391648.0\", \\n        \"available_supply\": \"99740903.0\", \\n        \"total_supply\": \"99740903.0\", \\n        \"max_supply\": null, \\n        \"percent_change_1h\": \"-1.2\", \\n        \"percent_change_24h\": \"3.97\", \\n        \"percent_change_7d\": \"-18.38\", \\n        \"last_updated\": \"1527607158\"\\n    }, \\n    {\\n        \"id\": \"ripple\", \\n        \"name\": \"Ripple\", \\n        \"symbol\": \"XRP\", \\n        \"rank\": \"3\", \\n        \"price_usd\": \"0.590418\", \\n        \"price_btc\": \"0.00007963\", \\n        \"24h_volume_usd\": \"374202000.0\", \\n        \"market_cap_usd\": \"23138462668.0\", \\n        \"available_supply\": \"39189968239.0\", \\n        \"total_supply\": \"99992233977.0\", \\n        \"max_supply\": \"100000000000\", \\n        \"percent_change_1h\": \"-1.18\", \\n        \"percent_change_24h\": \"1.47\", \\n        \"percent_change_7d\": \"-11.87\", \\n        \"last_updated\": \"1527607144\"\\n    }, \\n    {\\n        \"id\": \"bitcoin-cash\", \\n        \"name\": \"Bitcoin Cash\", \\n        \"symbol\": \"BCH\", \\n        \"rank\": \"4\", \\n        \"price_usd\": \"970.082\", \\n        \"price_btc\": \"0.130842\", \\n        \"24h_volume_usd\": \"670063000.0\", \\n        \"market_cap_usd\": \"16640956392.0\", \\n        \"available_supply\": \"17154175.0\", \\n        \"total_supply\": \"17154175.0\", \\n        \"max_supply\": \"21000000.0\", \\n        \"percent_change_1h\": \"-1.43\", \\n        \"percent_change_24h\": \"3.97\", \\n        \"percent_change_7d\": \"-17.51\", \\n        \"last_updated\": \"1527607161\"\\n    }, \\n    {\\n        \"id\": \"eos\", \\n        \"name\": \"EOS\", \\n        \"symbol\": \"EOS\", \\n        \"rank\": \"5\", \\n        \"price_usd\": \"11.8759\", \\n        \"price_btc\": \"0.00160178\", \\n        \"24h_volume_usd\": \"1767370000.0\", \\n        \"market_cap_usd\": \"10543397712.0\", \\n        \"available_supply\": \"887797785.0\", \\n        \"total_supply\": \"900000000.0\", \\n        \"max_supply\": \"1000000000.0\", \\n        \"percent_change_1h\": \"-0.51\", \\n        \"percent_change_24h\": \"-3.01\", \\n        \"percent_change_7d\": \"-8.09\", \\n        \"last_updated\": \"1527607159\"\\n    }, \\n    {\\n        \"id\": \"litecoin\", \\n        \"name\": \"Litecoin\", \\n        \"symbol\": \"LTC\", \\n        \"rank\": \"6\", \\n        \"price_usd\": \"119.614\", \\n        \"price_btc\": \"0.0161332\", \\n        \"24h_volume_usd\": \"344876000.0\", \\n        \"market_cap_usd\": \"6787786266.0\", \\n        \"available_supply\": \"56747423.0\", \\n        \"total_supply\": \"56747423.0\", \\n        \"max_supply\": \"84000000.0\", \\n        \"percent_change_1h\": \"-0.95\", \\n        \"percent_change_24h\": \"4.08\", \\n        \"percent_change_7d\": \"-9.8\", \\n        \"last_updated\": \"1527607143\"\\n    }, \\n    {\\n        \"id\": \"cardano\", \\n        \"name\": \"Cardano\", \\n        \"symbol\": \"ADA\", \\n        \"rank\": \"7\", \\n        \"price_usd\": \"0.199781\", \\n        \"price_btc\": \"0.00002695\", \\n        \"24h_volume_usd\": \"158485000.0\", \\n        \"market_cap_usd\": \"5179736079.0\", \\n        \"available_supply\": \"25927070538.0\", \\n        \"total_supply\": \"31112483745.0\", \\n        \"max_supply\": \"45000000000.0\", \\n        \"percent_change_1h\": \"0.13\", \\n        \"percent_change_24h\": \"9.27\", \\n        \"percent_change_7d\": \"-16.39\", \\n        \"last_updated\": \"1527607164\"\\n    }, \\n    {\\n        \"id\": \"stellar\", \\n        \"name\": \"Stellar\", \\n        \"symbol\": \"XLM\", \\n        \"rank\": \"8\", \\n        \"price_usd\": \"0.275506\", \\n        \"price_btc\": \"0.00003716\", \\n        \"24h_volume_usd\": \"58756000.0\", \\n        \"market_cap_usd\": \"5118505092.0\", \\n        \"available_supply\": \"18578561237.0\", \\n        \"total_supply\": \"103986155722\", \\n        \"max_supply\": null, \\n        \"percent_change_1h\": \"-1.49\", \\n        \"percent_change_24h\": \"4.61\", \\n        \"percent_change_7d\": \"-12.66\", \\n        \"last_updated\": \"1527607145\"\\n    }, \\n    {\\n        \"id\": \"tron\", \\n        \"name\": \"TRON\", \\n        \"symbol\": \"TRX\", \\n        \"rank\": \"9\", \\n        \"price_usd\": \"0.0642126\", \\n        \"price_btc\": \"0.00000866\", \\n        \"24h_volume_usd\": \"599913000.0\", \\n        \"market_cap_usd\": \"4221857194.0\", \\n        \"available_supply\": \"65748111645.0\", \\n        \"total_supply\": \"100000000000\", \\n        \"max_supply\": null, \\n        \"percent_change_1h\": \"-1.47\", \\n        \"percent_change_24h\": \"-1.43\", \\n        \"percent_change_7d\": \"-18.92\", \\n        \"last_updated\": \"1527607162\"\\n    }, \\n    {\\n        \"id\": \"iota\", \\n        \"name\": \"IOTA\", \\n        \"symbol\": \"MIOTA\", \\n        \"rank\": \"10\", \\n        \"price_usd\": \"1.51348\", \\n        \"price_btc\": \"0.00020413\", \\n        \"24h_volume_usd\": \"75816000.0\", \\n        \"market_cap_usd\": \"4206763493.0\", \\n        \"available_supply\": \"2779530283.0\", \\n        \"total_supply\": \"2779530283.0\", \\n        \"max_supply\": \"2779530283.0\", \\n        \"percent_change_1h\": \"0.33\", \\n        \"percent_change_24h\": \"7.29\", \\n        \"percent_change_7d\": \"-11.38\", \\n        \"last_updated\": \"1527607158\"\\n    }, \\n    {\\n        \"id\": \"neo\", \\n        \"name\": \"NEO\", \\n        \"symbol\": \"NEO\", \\n        \"rank\": \"11\", \\n        \"price_usd\": \"51.9754\", \\n        \"price_btc\": \"0.0070103\", \\n        \"24h_volume_usd\": \"101679000.0\", \\n        \"market_cap_usd\": \"3378401000.0\", \\n        \"available_supply\": \"65000000.0\", \\n        \"total_supply\": \"100000000.0\", \\n        \"max_supply\": \"100000000.0\", \\n        \"percent_change_1h\": \"-1.15\", \\n        \"percent_change_24h\": \"4.45\", \\n        \"percent_change_7d\": \"-12.75\", \\n        \"last_updated\": \"1527607152\"\\n    }, \\n    {\\n        \"id\": \"monero\", \\n        \"name\": \"Monero\", \\n        \"symbol\": \"XMR\", \\n        \"rank\": \"12\", \\n        \"price_usd\": \"156.108\", \\n        \"price_btc\": \"0.0210554\", \\n        \"24h_volume_usd\": \"46277500.0\", \\n        \"market_cap_usd\": \"2510110266.0\", \\n        \"available_supply\": \"16079319.0\", \\n        \"total_supply\": \"16079319.0\", \\n        \"max_supply\": null, \\n        \"percent_change_1h\": \"-4.45\", \\n        \"percent_change_24h\": \"-0.69\", \\n        \"percent_change_7d\": \"-16.27\", \\n        \"last_updated\": \"1527607144\"\\n    }, \\n    {\\n        \"id\": \"tether\", \\n        \"name\": \"Tether\", \\n        \"symbol\": \"USDT\", \\n        \"rank\": \"13\", \\n        \"price_usd\": \"1.00068\", \\n        \"price_btc\": \"0.00013497\", \\n        \"24h_volume_usd\": \"2910270000.0\", \\n        \"market_cap_usd\": \"2508845669.0\", \\n        \"available_supply\": \"2507140814.0\", \\n        \"total_supply\": \"2830109970.0\", \\n        \"max_supply\": null, \\n        \"percent_change_1h\": \"-0.1\", \\n        \"percent_change_24h\": \"-0.02\", \\n        \"percent_change_7d\": \"-0.05\", \\n        \"last_updated\": \"1527607148\"\\n    }, \\n    {\\n        \"id\": \"dash\", \\n        \"name\": \"Dash\", \\n        \"symbol\": \"DASH\", \\n        \"rank\": \"14\", \\n        \"price_usd\": \"308.781\", \\n        \"price_btc\": \"0.0416475\", \\n        \"24h_volume_usd\": \"98017200.0\", \\n        \"market_cap_usd\": \"2500449472.0\", \\n        \"available_supply\": \"8097809.0\", \\n        \"total_supply\": \"8097809.0\", \\n        \"max_supply\": \"18900000.0\", \\n        \"percent_change_1h\": \"-0.17\", \\n        \"percent_change_24h\": \"1.8\", \\n        \"percent_change_7d\": \"-17.7\", \\n        \"last_updated\": \"1527607154\"\\n    }, \\n    {\\n        \"id\": \"nem\", \\n        \"name\": \"NEM\", \\n        \"symbol\": \"XEM\", \\n        \"rank\": \"15\", \\n        \"price_usd\": \"0.243265\", \\n        \"price_btc\": \"0.00003281\", \\n        \"24h_volume_usd\": \"16904800.0\", \\n        \"market_cap_usd\": \"2189385000.0\", \\n        \"available_supply\": \"8999999999.0\", \\n        \"total_supply\": \"8999999999.0\", \\n        \"max_supply\": null, \\n        \"percent_change_1h\": \"-1.79\", \\n        \"percent_change_24h\": \"1.87\", \\n        \"percent_change_7d\": \"-18.59\", \\n        \"last_updated\": \"1527607147\"\\n    }, \\n    {\\n        \"id\": \"vechain\", \\n        \"name\": \"VeChain\", \\n        \"symbol\": \"VEN\", \\n        \"rank\": \"16\", \\n        \"price_usd\": \"3.45006\", \\n        \"price_btc\": \"0.00046533\", \\n        \"24h_volume_usd\": \"60829400.0\", \\n        \"market_cap_usd\": \"1814893770.0\", \\n        \"available_supply\": \"526047017.0\", \\n        \"total_supply\": \"873378637.0\", \\n        \"max_supply\": null, \\n        \"percent_change_1h\": \"-0.77\", \\n        \"percent_change_24h\": \"5.37\", \\n        \"percent_change_7d\": \"-18.98\", \\n        \"last_updated\": \"1527607162\"\\n    }, \\n    {\\n        \"id\": \"ethereum-classic\", \\n        \"name\": \"Ethereum Classic\", \\n        \"symbol\": \"ETC\", \\n        \"rank\": \"17\", \\n        \"price_usd\": \"15.0278\", \\n        \"price_btc\": \"0.00202691\", \\n        \"24h_volume_usd\": \"152696000.0\", \\n        \"market_cap_usd\": \"1531328642.0\", \\n        \"available_supply\": \"101899722.0\", \\n        \"total_supply\": \"101899722.0\", \\n        \"max_supply\": null, \\n        \"percent_change_1h\": \"-0.87\", \\n        \"percent_change_24h\": \"1.52\", \\n        \"percent_change_7d\": \"-12.31\", \\n        \"last_updated\": \"1527607151\"\\n    }, \\n    {\\n        \"id\": \"binance-coin\", \\n        \"name\": \"Binance Coin\", \\n        \"symbol\": \"BNB\", \\n        \"rank\": \"18\", \\n        \"price_usd\": \"12.4032\", \\n        \"price_btc\": \"0.00167291\", \\n        \"24h_volume_usd\": \"43145700.0\", \\n        \"market_cap_usd\": \"1414476929.0\", \\n        \"available_supply\": \"114041290.0\", \\n        \"total_supply\": \"194972068.0\", \\n        \"max_supply\": null, \\n        \"percent_change_1h\": \"-0.57\", \\n        \"percent_change_24h\": \"1.64\", \\n        \"percent_change_7d\": \"-14.45\", \\n        \"last_updated\": \"1527607161\"\\n    }, \\n    {\\n        \"id\": \"qtum\", \\n        \"name\": \"Qtum\", \\n        \"symbol\": \"QTUM\", \\n        \"rank\": \"19\", \\n        \"price_usd\": \"13.0393\", \\n        \"price_btc\": \"0.00175871\", \\n        \"24h_volume_usd\": \"126439000.0\", \\n        \"market_cap_usd\": \"1155681243.0\", \\n        \"available_supply\": \"88630620.0\", \\n        \"total_supply\": \"100630620.0\", \\n        \"max_supply\": null, \\n        \"percent_change_1h\": \"-0.52\", \\n        \"percent_change_24h\": \"2.44\", \\n        \"percent_change_7d\": \"-16.52\", \\n        \"last_updated\": \"1527607157\"\\n    }, \\n    {\\n        \"id\": \"bytecoin-bcn\", \\n        \"name\": \"Bytecoin\", \\n        \"symbol\": \"BCN\", \\n        \"rank\": \"20\", \\n        \"price_usd\": \"0.00604436\", \\n        \"price_btc\": \"0.00000082\", \\n        \"24h_volume_usd\": \"19559600.0\", \\n        \"market_cap_usd\": \"1111500269.0\", \\n        \"available_supply\": \"183890481254\", \\n        \"total_supply\": \"183890481254\", \\n        \"max_supply\": \"184470000000\", \\n        \"percent_change_1h\": \"3.53\", \\n        \"percent_change_24h\": \"9.52\", \\n        \"percent_change_7d\": \"-28.03\", \\n        \"last_updated\": \"1527607144\"\\n    }, \\n    {\\n        \"id\": \"omisego\", \\n        \"name\": \"OmiseGO\", \\n        \"symbol\": \"OMG\", \\n        \"rank\": \"21\", \\n        \"price_usd\": \"10.3684\", \\n        \"price_btc\": \"0.00139846\", \\n        \"24h_volume_usd\": \"41030200.0\", \\n        \"market_cap_usd\": \"1058017994.0\", \\n        \"available_supply\": \"102042552.0\", \\n        \"total_supply\": \"140245398.0\", \\n        \"max_supply\": null, \\n        \"percent_change_1h\": \"-1.39\", \\n        \"percent_change_24h\": \"2.89\", \\n        \"percent_change_7d\": \"-15.55\", \\n        \"last_updated\": \"1527607160\"\\n    }, \\n    {\\n        \"id\": \"zcash\", \\n        \"name\": \"Zcash\", \\n        \"symbol\": \"ZEC\", \\n        \"rank\": \"22\", \\n        \"price_usd\": \"244.458\", \\n        \"price_btc\": \"0.0329719\", \\n        \"24h_volume_usd\": \"88084800.0\", \\n        \"market_cap_usd\": \"983254384.0\", \\n        \"available_supply\": \"4022181.0\", \\n        \"total_supply\": \"4022181.0\", \\n        \"max_supply\": null, \\n        \"percent_change_1h\": \"-2.53\", \\n        \"percent_change_24h\": \"-0.88\", \\n        \"percent_change_7d\": \"-27.11\", \\n        \"last_updated\": \"1527607152\"\\n    }, \\n    {\\n        \"id\": \"icon\", \\n        \"name\": \"ICON\", \\n        \"symbol\": \"ICX\", \\n        \"rank\": \"23\", \\n        \"price_usd\": \"2.52467\", \\n        \"price_btc\": \"0.00034052\", \\n        \"24h_volume_usd\": \"60627300.0\", \\n        \"market_cap_usd\": \"977631369.0\", \\n        \"available_supply\": \"387231348.0\", \\n        \"total_supply\": \"400228740.0\", \\n        \"max_supply\": null, \\n        \"percent_change_1h\": \"-2.37\", \\n        \"percent_change_24h\": \"9.14\", \\n        \"percent_change_7d\": \"-23.01\", \\n        \"last_updated\": \"1527607165\"\\n    }, \\n    {\\n        \"id\": \"lisk\", \\n        \"name\": \"Lisk\", \\n        \"symbol\": \"LSK\", \\n        \"rank\": \"24\", \\n        \"price_usd\": \"8.62621\", \\n        \"price_btc\": \"0.00116348\", \\n        \"24h_volume_usd\": \"13441300.0\", \\n        \"market_cap_usd\": \"917835027.0\", \\n        \"available_supply\": \"106400728.0\", \\n        \"total_supply\": \"121650344.0\", \\n        \"max_supply\": null, \\n        \"percent_change_1h\": \"-0.36\", \\n        \"percent_change_24h\": \"1.73\", \\n        \"percent_change_7d\": \"-16.63\", \\n        \"last_updated\": \"1527607150\"\\n    }, \\n    {\\n        \"id\": \"zilliqa\", \\n        \"name\": \"Zilliqa\", \\n        \"symbol\": \"ZIL\", \\n        \"rank\": \"25\", \\n        \"price_usd\": \"0.109376\", \\n        \"price_btc\": \"0.00001475\", \\n        \"24h_volume_usd\": \"53150700.0\", \\n        \"market_cap_usd\": \"801645902.0\", \\n        \"available_supply\": \"7329266952.0\", \\n        \"total_supply\": \"12600000000.0\", \\n        \"max_supply\": null, \\n        \"percent_change_1h\": \"-1.76\", \\n        \"percent_change_24h\": \"1.73\", \\n        \"percent_change_7d\": \"-24.75\", \\n        \"last_updated\": \"1527607174\"\\n    }, \\n    {\\n        \"id\": \"ontology\", \\n        \"name\": \"Ontology\", \\n        \"symbol\": \"ONT\", \\n        \"rank\": \"26\", \\n        \"price_usd\": \"6.50821\", \\n        \"price_btc\": \"0.00087781\", \\n        \"24h_volume_usd\": \"78550300.0\", \\n        \"market_cap_usd\": \"800328094.0\", \\n        \"available_supply\": \"122972076.0\", \\n        \"total_supply\": \"1000000000.0\", \\n        \"max_supply\": null, \\n        \"percent_change_1h\": \"2.2\", \\n        \"percent_change_24h\": \"7.08\", \\n        \"percent_change_7d\": \"-10.34\", \\n        \"last_updated\": \"1527607177\"\\n    }, \\n    {\\n        \"id\": \"aeternity\", \\n        \"name\": \"Aeternity\", \\n        \"symbol\": \"AE\", \\n        \"rank\": \"27\", \\n        \"price_usd\": \"3.13912\", \\n        \"price_btc\": \"0.0004234\", \\n        \"24h_volume_usd\": \"12206500.0\", \\n        \"market_cap_usd\": \"731479224.0\", \\n        \"available_supply\": \"233020472.0\", \\n        \"total_supply\": \"273685830.0\", \\n        \"max_supply\": null, \\n        \"percent_change_1h\": \"-1.24\", \\n        \"percent_change_24h\": \"1.67\", \\n        \"percent_change_7d\": \"-15.48\", \\n        \"last_updated\": \"1527607158\"\\n    }, \\n    {\\n        \"id\": \"bitcoin-gold\", \\n        \"name\": \"Bitcoin Gold\", \\n        \"symbol\": \"BTG\", \\n        \"rank\": \"28\", \\n        \"price_usd\": \"42.7466\", \\n        \"price_btc\": \"0.00576554\", \\n        \"24h_volume_usd\": \"13164600.0\", \\n        \"market_cap_usd\": \"728162623.0\", \\n        \"available_supply\": \"17034399.0\", \\n        \"total_supply\": \"17134399.0\", \\n        \"max_supply\": \"21000000.0\", \\n        \"percent_change_1h\": \"-0.53\", \\n        \"percent_change_24h\": \"2.34\", \\n        \"percent_change_7d\": \"-17.91\", \\n        \"last_updated\": \"1527607166\"\\n    }, \\n    {\\n        \"id\": \"decred\", \\n        \"name\": \"Decred\", \\n        \"symbol\": \"DCR\", \\n        \"rank\": \"29\", \\n        \"price_usd\": \"91.9927\", \\n        \"price_btc\": \"0.0124077\", \\n        \"24h_volume_usd\": \"6174450.0\", \\n        \"market_cap_usd\": \"657356184.0\", \\n        \"available_supply\": \"7145743.0\", \\n        \"total_supply\": \"7565743.0\", \\n        \"max_supply\": \"21000000.0\", \\n        \"percent_change_1h\": \"-0.01\", \\n        \"percent_change_24h\": \"3.61\", \\n        \"percent_change_7d\": \"-17.6\", \\n        \"last_updated\": \"1527607150\"\\n    }, \\n    {\\n        \"id\": \"0x\", \\n        \"name\": \"0x\", \\n        \"symbol\": \"ZRX\", \\n        \"rank\": \"30\", \\n        \"price_usd\": \"1.22263\", \\n        \"price_btc\": \"0.0001649\", \\n        \"24h_volume_usd\": \"28399800.0\", \\n        \"market_cap_usd\": \"649257768.0\", \\n        \"available_supply\": \"531033729.0\", \\n        \"total_supply\": \"1000000000.0\", \\n        \"max_supply\": null, \\n        \"percent_change_1h\": \"-0.42\", \\n        \"percent_change_24h\": \"9.88\", \\n        \"percent_change_7d\": \"-3.56\", \\n        \"last_updated\": \"1527607161\"\\n    }, \\n    {\\n        \"id\": \"bytom\", \\n        \"name\": \"Bytom\", \\n        \"symbol\": \"BTM\", \\n        \"rank\": \"31\", \\n        \"price_usd\": \"0.627204\", \\n        \"price_btc\": \"0.00008460\", \\n        \"24h_volume_usd\": \"63659200.0\", \\n        \"market_cap_usd\": \"619050348.0\", \\n        \"available_supply\": \"987000000.0\", \\n        \"total_supply\": \"1407000000.0\", \\n        \"max_supply\": null, \\n        \"percent_change_1h\": \"-1.22\", \\n        \"percent_change_24h\": \"-1.04\", \\n        \"percent_change_7d\": \"-8.01\", \\n        \"last_updated\": \"1527607161\"\\n    }, \\n    {\\n        \"id\": \"steem\", \\n        \"name\": \"Steem\", \\n        \"symbol\": \"STEEM\", \\n        \"rank\": \"32\", \\n        \"price_usd\": \"2.31626\", \\n        \"price_btc\": \"0.00031241\", \\n        \"24h_volume_usd\": \"9388350.0\", \\n        \"market_cap_usd\": \"597190092.0\", \\n        \"available_supply\": \"257825154.0\", \\n        \"total_supply\": \"274799248.0\", \\n        \"max_supply\": null, \\n        \"percent_change_1h\": \"-0.67\", \\n        \"percent_change_24h\": \"0.63\", \\n        \"percent_change_7d\": \"-24.52\", \\n        \"last_updated\": \"1527607150\"\\n    }, \\n    {\\n        \"id\": \"verge\", \\n        \"name\": \"Verge\", \\n        \"symbol\": \"XVG\", \\n        \"rank\": \"33\", \\n        \"price_usd\": \"0.0387545\", \\n        \"price_btc\": \"0.00000523\", \\n        \"24h_volume_usd\": \"19345200.0\", \\n        \"market_cap_usd\": \"581234915.0\", \\n        \"available_supply\": \"14997869020.0\", \\n        \"total_supply\": \"14997869020.0\", \\n        \"max_supply\": \"16555000000.0\", \\n        \"percent_change_1h\": \"-0.55\", \\n        \"percent_change_24h\": \"2.93\", \\n        \"percent_change_7d\": \"-23.21\", \\n        \"last_updated\": \"1527607146\"\\n    }, \\n    {\\n        \"id\": \"nano\", \\n        \"name\": \"Nano\", \\n        \"symbol\": \"NANO\", \\n        \"rank\": \"34\", \\n        \"price_usd\": \"4.09274\", \\n        \"price_btc\": \"0.00055202\", \\n        \"24h_volume_usd\": \"10981000.0\", \\n        \"market_cap_usd\": \"545350603.0\", \\n        \"available_supply\": \"133248289.0\", \\n        \"total_supply\": \"133248289.0\", \\n        \"max_supply\": \"133248290.0\", \\n        \"percent_change_1h\": \"-2.39\", \\n        \"percent_change_24h\": \"12.98\", \\n        \"percent_change_7d\": \"-20.56\", \\n        \"last_updated\": \"1527607155\"\\n    }, \\n    {\\n        \"id\": \"bitshares\", \\n        \"name\": \"BitShares\", \\n        \"symbol\": \"BTS\", \\n        \"rank\": \"35\", \\n        \"price_usd\": \"0.199818\", \\n        \"price_btc\": \"0.00002695\", \\n        \"24h_volume_usd\": \"15314700.0\", \\n        \"market_cap_usd\": \"525255582.0\", \\n        \"available_supply\": \"2628670000.0\", \\n        \"total_supply\": \"2628670000.0\", \\n        \"max_supply\": \"3600570502.0\", \\n        \"percent_change_1h\": \"-0.64\", \\n        \"percent_change_24h\": \"2.92\", \\n        \"percent_change_7d\": \"-16.42\", \\n        \"last_updated\": \"1527607145\"\\n    }, \\n    {\\n        \"id\": \"siacoin\", \\n        \"name\": \"Siacoin\", \\n        \"symbol\": \"SC\", \\n        \"rank\": \"36\", \\n        \"price_usd\": \"0.0146867\", \\n        \"price_btc\": \"0.00000198\", \\n        \"24h_volume_usd\": \"14932200.0\", \\n        \"market_cap_usd\": \"510067776.0\", \\n        \"available_supply\": \"34729910460.0\", \\n        \"total_supply\": \"34729910460.0\", \\n        \"max_supply\": null, \\n        \"percent_change_1h\": \"-0.89\", \\n        \"percent_change_24h\": \"1.11\", \\n        \"percent_change_7d\": \"-23.26\", \\n        \"last_updated\": \"1527607148\"\\n    }, \\n    {\\n        \"id\": \"populous\", \\n        \"name\": \"Populous\", \\n        \"symbol\": \"PPT\", \\n        \"rank\": \"37\", \\n        \"price_usd\": \"13.1041\", \\n        \"price_btc\": \"0.00176745\", \\n        \"24h_volume_usd\": \"21112300.0\", \\n        \"market_cap_usd\": \"484904469.0\", \\n        \"available_supply\": \"37004027.0\", \\n        \"total_supply\": \"53252246.0\", \\n        \"max_supply\": \"53252246.0\", \\n        \"percent_change_1h\": \"-1.81\", \\n        \"percent_change_24h\": \"8.49\", \\n        \"percent_change_7d\": \"-17.27\", \\n        \"last_updated\": \"1527607159\"\\n    }, \\n    {\\n        \"id\": \"wanchain\", \\n        \"name\": \"Wanchain\", \\n        \"symbol\": \"WAN\", \\n        \"rank\": \"38\", \\n        \"price_usd\": \"4.41805\", \\n        \"price_btc\": \"0.00059589\", \\n        \"24h_volume_usd\": \"12446700.0\", \\n        \"market_cap_usd\": \"468987020.0\", \\n        \"available_supply\": \"106152493.0\", \\n        \"total_supply\": \"210000000.0\", \\n        \"max_supply\": null, \\n        \"percent_change_1h\": \"-0.49\", \\n        \"percent_change_24h\": \"10.04\", \\n        \"percent_change_7d\": \"-18.84\", \\n        \"last_updated\": \"1527607177\"\\n    }, \\n    {\\n        \"id\": \"bitcoin-private\", \\n        \"name\": \"Bitcoin Private\", \\n        \"symbol\": \"BTCP\", \\n        \"rank\": \"39\", \\n        \"price_usd\": \"22.5269\", \\n        \"price_btc\": \"0.00303836\", \\n        \"24h_volume_usd\": \"808715.0\", \\n        \"market_cap_usd\": \"460593509.0\", \\n        \"available_supply\": \"20446378.0\", \\n        \"total_supply\": \"20446378.0\", \\n        \"max_supply\": \"21000000.0\", \\n        \"percent_change_1h\": \"1.1\", \\n        \"percent_change_24h\": \"-1.21\", \\n        \"percent_change_7d\": \"20.07\", \\n        \"last_updated\": \"1527607176\"\\n    }, \\n    {\\n        \"id\": \"golem-network-tokens\", \\n        \"name\": \"Golem\", \\n        \"symbol\": \"GNT\", \\n        \"rank\": \"40\", \\n        \"price_usd\": \"0.544556\", \\n        \"price_btc\": \"0.00007345\", \\n        \"24h_volume_usd\": \"26107200.0\", \\n        \"market_cap_usd\": \"457014267.0\", \\n        \"available_supply\": \"839242000.0\", \\n        \"total_supply\": \"1000000000.0\", \\n        \"max_supply\": null, \\n        \"percent_change_1h\": \"4.38\", \\n        \"percent_change_24h\": \"11.59\", \\n        \"percent_change_7d\": \"8.19\", \\n        \"last_updated\": \"1527607153\"\\n    }, \\n    {\\n        \"id\": \"maker\", \\n        \"name\": \"Maker\", \\n        \"symbol\": \"MKR\", \\n        \"rank\": \"41\", \\n        \"price_usd\": \"734.606\", \\n        \"price_btc\": \"0.0990815\", \\n        \"24h_volume_usd\": \"157718.0\", \\n        \"market_cap_usd\": \"454153829.0\", \\n        \"available_supply\": \"618228.0\", \\n        \"total_supply\": \"1000000.0\", \\n        \"max_supply\": null, \\n        \"percent_change_1h\": \"-0.93\", \\n        \"percent_change_24h\": \"0.96\", \\n        \"percent_change_7d\": \"-17.52\", \\n        \"last_updated\": \"1527607155\"\\n    }, \\n    {\\n        \"id\": \"bitcoin-diamond\", \\n        \"name\": \"Bitcoin Diamond\", \\n        \"symbol\": \"BCD\", \\n        \"rank\": \"42\", \\n        \"price_usd\": \"2.93972\", \\n        \"price_btc\": \"0.0003965\", \\n        \"24h_volume_usd\": \"1835440.0\", \\n        \"market_cap_usd\": \"452002161.0\", \\n        \"available_supply\": \"153756875.0\", \\n        \"total_supply\": \"156756875.0\", \\n        \"max_supply\": \"210000000.0\", \\n        \"percent_change_1h\": \"-1.56\", \\n        \"percent_change_24h\": \"2.7\", \\n        \"percent_change_7d\": \"-19.26\", \\n        \"last_updated\": \"1527607168\"\\n    }, \\n    {\\n        \"id\": \"rchain\", \\n        \"name\": \"RChain\", \\n        \"symbol\": \"RHOC\", \\n        \"rank\": \"43\", \\n        \"price_usd\": \"1.24602\", \\n        \"price_btc\": \"0.00016806\", \\n        \"24h_volume_usd\": \"964098.0\", \\n        \"market_cap_usd\": \"448811533.0\", \\n        \"available_supply\": \"360196091.0\", \\n        \"total_supply\": \"870663574.0\", \\n        \"max_supply\": \"1000000000.0\", \\n        \"percent_change_1h\": \"-7.62\", \\n        \"percent_change_24h\": \"2.63\", \\n        \"percent_change_7d\": \"-11.89\", \\n        \"last_updated\": \"1527607165\"\\n    }, \\n    {\\n        \"id\": \"stratis\", \\n        \"name\": \"Stratis\", \\n        \"symbol\": \"STRAT\", \\n        \"rank\": \"44\", \\n        \"price_usd\": \"4.40528\", \\n        \"price_btc\": \"0.00059417\", \\n        \"24h_volume_usd\": \"5779660.0\", \\n        \"market_cap_usd\": \"435569788.0\", \\n        \"available_supply\": \"98874484.0\", \\n        \"total_supply\": \"98874484.0\", \\n        \"max_supply\": null, \\n        \"percent_change_1h\": \"-0.93\", \\n        \"percent_change_24h\": \"3.72\", \\n        \"percent_change_7d\": \"-27.1\", \\n        \"last_updated\": \"1527607152\"\\n    }, \\n    {\\n        \"id\": \"waves\", \\n        \"name\": \"Waves\", \\n        \"symbol\": \"WAVES\", \\n        \"rank\": \"45\", \\n        \"price_usd\": \"4.15125\", \\n        \"price_btc\": \"0.00055991\", \\n        \"24h_volume_usd\": \"21592000.0\", \\n        \"market_cap_usd\": \"415125000.0\", \\n        \"available_supply\": \"100000000.0\", \\n        \"total_supply\": \"100000000.0\", \\n        \"max_supply\": null, \\n        \"percent_change_1h\": \"-0.65\", \\n        \"percent_change_24h\": \"4.4\", \\n        \"percent_change_7d\": \"-24.45\", \\n        \"last_updated\": \"1527607151\"\\n    }, \\n    {\\n        \"id\": \"augur\", \\n        \"name\": \"Augur\", \\n        \"symbol\": \"REP\", \\n        \"rank\": \"46\", \\n        \"price_usd\": \"37.6555\", \\n        \"price_btc\": \"0.00507887\", \\n        \"24h_volume_usd\": \"6812490.0\", \\n        \"market_cap_usd\": \"414210500.0\", \\n        \"available_supply\": \"11000000.0\", \\n        \"total_supply\": \"11000000.0\", \\n        \"max_supply\": null, \\n        \"percent_change_1h\": \"0.71\", \\n        \"percent_change_24h\": \"8.23\", \\n        \"percent_change_7d\": \"-23.59\", \\n        \"last_updated\": \"1527607148\"\\n    }, \\n    {\\n        \"id\": \"dogecoin\", \\n        \"name\": \"Dogecoin\", \\n        \"symbol\": \"DOGE\", \\n        \"rank\": \"47\", \\n        \"price_usd\": \"0.00335653\", \\n        \"price_btc\": \"0.00000045\", \\n        \"24h_volume_usd\": \"9146530.0\", \\n        \"market_cap_usd\": \"384803462.0\", \\n        \"available_supply\": \"114643236192\", \\n        \"total_supply\": \"114643236192\", \\n        \"max_supply\": null, \\n        \"percent_change_1h\": \"-0.98\", \\n        \"percent_change_24h\": \"1.27\", \\n        \"percent_change_7d\": \"-18.12\", \\n        \"last_updated\": \"1527607149\"\\n    }, \\n    {\\n        \"id\": \"mixin\", \\n        \"name\": \"Mixin\", \\n        \"symbol\": \"XIN\", \\n        \"rank\": \"48\", \\n        \"price_usd\": \"842.954\", \\n        \"price_btc\": \"0.113695\", \\n        \"24h_volume_usd\": \"233966.0\", \\n        \"market_cap_usd\": \"360037049.0\", \\n        \"available_supply\": \"427114.0\", \\n        \"total_supply\": \"1000000.0\", \\n        \"max_supply\": null, \\n        \"percent_change_1h\": \"-0.61\", \\n        \"percent_change_24h\": \"-0.16\", \\n        \"percent_change_7d\": \"6.72\", \\n        \"last_updated\": \"1527607172\"\\n    }, \\n    {\\n        \"id\": \"waykichain\", \\n        \"name\": \"WaykiChain\", \\n        \"symbol\": \"WICC\", \\n        \"rank\": \"49\", \\n        \"price_usd\": \"1.99006\", \\n        \"price_btc\": \"0.00026841\", \\n        \"24h_volume_usd\": \"14972300.0\", \\n        \"market_cap_usd\": \"349056524.0\", \\n        \"available_supply\": \"175400000.0\", \\n        \"total_supply\": \"210000000.0\", \\n        \"max_supply\": null, \\n        \"percent_change_1h\": \"1.53\", \\n        \"percent_change_24h\": \"1.79\", \\n        \"percent_change_7d\": \"-2.26\", \\n        \"last_updated\": \"1527607171\"\\n    }, \\n    {\\n        \"id\": \"waltonchain\", \\n        \"name\": \"Waltonchain\", \\n        \"symbol\": \"WTC\", \\n        \"rank\": \"50\", \\n        \"price_usd\": \"11.0384\", \\n        \"price_btc\": \"0.00148883\", \\n        \"24h_volume_usd\": \"6810700.0\", \\n        \"market_cap_usd\": \"343781027.0\", \\n        \"available_supply\": \"31144099.0\", \\n        \"total_supply\": \"70000000.0\", \\n        \"max_supply\": \"100000000.0\", \\n        \"percent_change_1h\": \"-0.99\", \\n        \"percent_change_24h\": \"5.82\", \\n        \"percent_change_7d\": \"-7.27\", \\n        \"last_updated\": \"1527607163\"\\n    }, \\n    {\\n        \"id\": \"iostoken\", \\n        \"name\": \"IOST\", \\n        \"symbol\": \"IOST\", \\n        \"rank\": \"51\", \\n        \"price_usd\": \"0.0404992\", \\n        \"price_btc\": \"0.00000546\", \\n        \"24h_volume_usd\": \"42099800.0\", \\n        \"market_cap_usd\": \"340193280.0\", \\n        \"available_supply\": \"8400000000.0\", \\n        \"total_supply\": \"21000000000.0\", \\n        \"max_supply\": null, \\n        \"percent_change_1h\": \"0.53\", \\n        \"percent_change_24h\": \"2.08\", \\n        \"percent_change_7d\": \"-13.23\", \\n        \"last_updated\": \"1527607172\"\\n    }, \\n    {\\n        \"id\": \"digibyte\", \\n        \"name\": \"DigiByte\", \\n        \"symbol\": \"DGB\", \\n        \"rank\": \"52\", \\n        \"price_usd\": \"0.0328249\", \\n        \"price_btc\": \"0.00000443\", \\n        \"24h_volume_usd\": \"2480840.0\", \\n        \"market_cap_usd\": \"338697059.0\", \\n        \"available_supply\": \"10318296755.0\", \\n        \"total_supply\": \"10318296755.0\", \\n        \"max_supply\": \"21000000000.0\", \\n        \"percent_change_1h\": \"-2.27\", \\n        \"percent_change_24h\": \"2.92\", \\n        \"percent_change_7d\": \"-17.1\", \\n        \"last_updated\": \"1527607142\"\\n    }, \\n    {\\n        \"id\": \"status\", \\n        \"name\": \"Status\", \\n        \"symbol\": \"SNT\", \\n        \"rank\": \"53\", \\n        \"price_usd\": \"0.0944028\", \\n        \"price_btc\": \"0.00001273\", \\n        \"24h_volume_usd\": \"16913400.0\", \\n        \"market_cap_usd\": \"327623387.0\", \\n        \"available_supply\": \"3470483788.0\", \\n        \"total_supply\": \"6804870174.0\", \\n        \"max_supply\": null, \\n        \"percent_change_1h\": \"-1.02\", \\n        \"percent_change_24h\": \"3.85\", \\n        \"percent_change_7d\": \"-14.73\", \\n        \"last_updated\": \"1527607158\"\\n    }, \\n    {\\n        \"id\": \"aion\", \\n        \"name\": \"Aion\", \\n        \"symbol\": \"AION\", \\n        \"rank\": \"54\", \\n        \"price_usd\": \"2.06101\", \\n        \"price_btc\": \"0.00027798\", \\n        \"24h_volume_usd\": \"2814210.0\", \\n        \"market_cap_usd\": \"308588859.0\", \\n        \"available_supply\": \"149727007.0\", \\n        \"total_supply\": \"465934587.0\", \\n        \"max_supply\": null, \\n        \"percent_change_1h\": \"0.14\", \\n        \"percent_change_24h\": \"6.56\", \\n        \"percent_change_7d\": \"-12.27\", \\n        \"last_updated\": \"1527607165\"\\n    }, \\n    {\\n        \"id\": \"hshare\", \\n        \"name\": \"Hshare\", \\n        \"symbol\": \"HSR\", \\n        \"rank\": \"55\", \\n        \"price_usd\": \"7.02514\", \\n        \"price_btc\": \"0.00094753\", \\n        \"24h_volume_usd\": \"32376400.0\", \\n        \"market_cap_usd\": \"302389709.0\", \\n        \"available_supply\": \"43043941.0\", \\n        \"total_supply\": \"43043941.0\", \\n        \"max_supply\": \"84000000.0\", \\n        \"percent_change_1h\": \"-0.38\", \\n        \"percent_change_24h\": \"2.05\", \\n        \"percent_change_7d\": \"-19.37\", \\n        \"last_updated\": \"1527607161\"\\n    }, \\n    {\\n        \"id\": \"loopring\", \\n        \"name\": \"Loopring\", \\n        \"symbol\": \"LRC\", \\n        \"rank\": \"56\", \\n        \"price_usd\": \"0.48599\", \\n        \"price_btc\": \"0.00006555\", \\n        \"24h_volume_usd\": \"11715500.0\", \\n        \"market_cap_usd\": \"278022264.0\", \\n        \"available_supply\": \"572074043.0\", \\n        \"total_supply\": \"1374956262.0\", \\n        \"max_supply\": null, \\n        \"percent_change_1h\": \"-0.69\", \\n        \"percent_change_24h\": \"4.03\", \\n        \"percent_change_7d\": \"-19.71\", \\n        \"last_updated\": \"1527607162\"\\n    }, \\n    {\\n        \"id\": \"nebulas-token\", \\n        \"name\": \"Nebulas\", \\n        \"symbol\": \"NAS\", \\n        \"rank\": \"57\", \\n        \"price_usd\": \"6.09267\", \\n        \"price_btc\": \"0.00082176\", \\n        \"24h_volume_usd\": \"49471400.0\", \\n        \"market_cap_usd\": \"277216485.0\", \\n        \"available_supply\": \"45500000.0\", \\n        \"total_supply\": \"100000000.0\", \\n        \"max_supply\": \"100000000.0\", \\n        \"percent_change_1h\": \"-1.04\", \\n        \"percent_change_24h\": \"2.89\", \\n        \"percent_change_7d\": \"-11.01\", \\n        \"last_updated\": \"1527607161\"\\n    }, \\n    {\\n        \"id\": \"basic-attention-token\", \\n        \"name\": \"Basic Attention Token\", \\n        \"symbol\": \"BAT\", \\n        \"rank\": \"58\", \\n        \"price_usd\": \"0.274509\", \\n        \"price_btc\": \"0.00003702\", \\n        \"24h_volume_usd\": \"3136650.0\", \\n        \"market_cap_usd\": \"274509000.0\", \\n        \"available_supply\": \"1000000000.0\", \\n        \"total_supply\": \"1500000000.0\", \\n        \"max_supply\": null, \\n        \"percent_change_1h\": \"-2.35\", \\n        \"percent_change_24h\": \"4.04\", \\n        \"percent_change_7d\": \"-16.4\", \\n        \"last_updated\": \"1527607157\"\\n    }, \\n    {\\n        \"id\": \"digixdao\", \\n        \"name\": \"DigixDAO\", \\n        \"symbol\": \"DGD\", \\n        \"rank\": \"59\", \\n        \"price_usd\": \"132.219\", \\n        \"price_btc\": \"0.0178334\", \\n        \"24h_volume_usd\": \"1892430.0\", \\n        \"market_cap_usd\": \"264438000.0\", \\n        \"available_supply\": \"2000000.0\", \\n        \"total_supply\": \"2000000.0\", \\n        \"max_supply\": null, \\n        \"percent_change_1h\": \"-1.2\", \\n        \"percent_change_24h\": \"3.69\", \\n        \"percent_change_7d\": \"-27.23\", \\n        \"last_updated\": \"1527607150\"\\n    }, \\n    {\\n        \"id\": \"komodo\", \\n        \"name\": \"Komodo\", \\n        \"symbol\": \"KMD\", \\n        \"rank\": \"60\", \\n        \"price_usd\": \"2.50826\", \\n        \"price_btc\": \"0.00033831\", \\n        \"24h_volume_usd\": \"1309730.0\", \\n        \"market_cap_usd\": \"261404360.0\", \\n        \"available_supply\": \"104217410.0\", \\n        \"total_supply\": \"104217410.0\", \\n        \"max_supply\": null, \\n        \"percent_change_1h\": \"-0.74\", \\n        \"percent_change_24h\": \"2.55\", \\n        \"percent_change_7d\": \"-21.71\", \\n        \"last_updated\": \"1527607154\"\\n    }, \\n    {\\n        \"id\": \"ardor\", \\n        \"name\": \"Ardor\", \\n        \"symbol\": \"ARDR\", \\n        \"rank\": \"61\", \\n        \"price_usd\": \"0.257459\", \\n        \"price_btc\": \"0.00003473\", \\n        \"24h_volume_usd\": \"1597720.0\", \\n        \"market_cap_usd\": \"257201411.0\", \\n        \"available_supply\": \"998999495.0\", \\n        \"total_supply\": \"998999495.0\", \\n        \"max_supply\": \"998999495.0\", \\n        \"percent_change_1h\": \"0.29\", \\n        \"percent_change_24h\": \"1.89\", \\n        \"percent_change_7d\": \"-13.87\", \\n        \"last_updated\": \"1527607152\"\\n    }, \\n    {\\n        \"id\": \"cybermiles\", \\n        \"name\": \"CyberMiles\", \\n        \"symbol\": \"CMT\", \\n        \"rank\": \"62\", \\n        \"price_usd\": \"0.403964\", \\n        \"price_btc\": \"0.00005449\", \\n        \"24h_volume_usd\": \"115891000.0\", \\n        \"market_cap_usd\": \"256064609.0\", \\n        \"available_supply\": \"633879774.0\", \\n        \"total_supply\": \"1000000000.0\", \\n        \"max_supply\": null, \\n        \"percent_change_1h\": \"-3.21\", \\n        \"percent_change_24h\": \"16.44\", \\n        \"percent_change_7d\": \"19.82\", \\n        \"last_updated\": \"1527607170\"\\n    }, \\n    {\\n        \"id\": \"aelf\", \\n        \"name\": \"aelf\", \\n        \"symbol\": \"ELF\", \\n        \"rank\": \"63\", \\n        \"price_usd\": \"0.966556\", \\n        \"price_btc\": \"0.00013037\", \\n        \"24h_volume_usd\": \"37273900.0\", \\n        \"market_cap_usd\": \"241639000.0\", \\n        \"available_supply\": \"250000000.0\", \\n        \"total_supply\": \"280000000.0\", \\n        \"max_supply\": \"1000000000.0\", \\n        \"percent_change_1h\": \"-1.04\", \\n        \"percent_change_24h\": \"1.7\", \\n        \"percent_change_7d\": \"-21.32\", \\n        \"last_updated\": \"1527607171\"\\n    }, \\n    {\\n        \"id\": \"ark\", \\n        \"name\": \"Ark\", \\n        \"symbol\": \"ARK\", \\n        \"rank\": \"64\", \\n        \"price_usd\": \"2.34104\", \\n        \"price_btc\": \"0.00031575\", \\n        \"24h_volume_usd\": \"973775.0\", \\n        \"market_cap_usd\": \"240804557.0\", \\n        \"available_supply\": \"102862214.0\", \\n        \"total_supply\": \"134112214.0\", \\n        \"max_supply\": null, \\n        \"percent_change_1h\": \"-0.96\", \\n        \"percent_change_24h\": \"6.75\", \\n        \"percent_change_7d\": \"-18.14\", \\n        \"last_updated\": \"1527607155\"\\n    }, \\n    {\\n        \"id\": \"pivx\", \\n        \"name\": \"PIVX\", \\n        \"symbol\": \"PIVX\", \\n        \"rank\": \"65\", \\n        \"price_usd\": \"3.87733\", \\n        \"price_btc\": \"0.00052296\", \\n        \"24h_volume_usd\": \"3293780.0\", \\n        \"market_cap_usd\": \"218433302.0\", \\n        \"available_supply\": \"56336010.0\", \\n        \"total_supply\": \"56336010.0\", \\n        \"max_supply\": null, \\n        \"percent_change_1h\": \"-0.63\", \\n        \"percent_change_24h\": \"6.2\", \\n        \"percent_change_7d\": \"-11.75\", \\n        \"last_updated\": \"1527607150\"\\n    }, \\n    {\\n        \"id\": \"polymath-network\", \\n        \"name\": \"Polymath\", \\n        \"symbol\": \"POLY\", \\n        \"rank\": \"66\", \\n        \"price_usd\": \"0.789537\", \\n        \"price_btc\": \"0.00010649\", \\n        \"24h_volume_usd\": \"6846800.0\", \\n        \"market_cap_usd\": \"218243902.0\", \\n        \"available_supply\": \"276420107.0\", \\n        \"total_supply\": \"1000000000.0\", \\n        \"max_supply\": null, \\n        \"percent_change_1h\": \"0.37\", \\n        \"percent_change_24h\": \"-0.18\", \\n        \"percent_change_7d\": \"-11.46\", \\n        \"last_updated\": \"1527607175\"\\n    }, \\n    {\\n        \"id\": \"loom-network\", \\n        \"name\": \"Loom Network\", \\n        \"symbol\": \"LOOM\", \\n        \"rank\": \"67\", \\n        \"price_usd\": \"0.355031\", \\n        \"price_btc\": \"0.00004789\", \\n        \"24h_volume_usd\": \"2915420.0\", \\n        \"market_cap_usd\": \"213669949.0\", \\n        \"available_supply\": \"601834625.0\", \\n        \"total_supply\": \"1000000000.0\", \\n        \"max_supply\": null, \\n        \"percent_change_1h\": \"-1.57\", \\n        \"percent_change_24h\": \"2.8\", \\n        \"percent_change_7d\": \"-24.73\", \\n        \"last_updated\": \"1527607177\"\\n    }, \\n    {\\n        \"id\": \"dentacoin\", \\n        \"name\": \"Dentacoin\", \\n        \"symbol\": \"DCN\", \\n        \"rank\": \"68\", \\n        \"price_usd\": \"0.00065405\", \\n        \"price_btc\": \"0.00000009\", \\n        \"24h_volume_usd\": \"219984.0\", \\n        \"market_cap_usd\": \"212714466.0\", \\n        \"available_supply\": \"325226613094\", \\n        \"total_supply\": \"1963173416169\", \\n        \"max_supply\": \"8000000000000\", \\n        \"percent_change_1h\": \"1.06\", \\n        \"percent_change_24h\": \"6.72\", \\n        \"percent_change_7d\": \"-14.46\", \\n        \"last_updated\": \"1527607160\"\\n    }, \\n    {\\n        \"id\": \"monacoin\", \\n        \"name\": \"MonaCoin\", \\n        \"symbol\": \"MONA\", \\n        \"rank\": \"69\", \\n        \"price_usd\": \"3.40721\", \\n        \"price_btc\": \"0.00045956\", \\n        \"24h_volume_usd\": \"1558540.0\", \\n        \"market_cap_usd\": \"203735399.0\", \\n        \"available_supply\": \"59795375.0\", \\n        \"total_supply\": \"59795375.0\", \\n        \"max_supply\": null, \\n        \"percent_change_1h\": \"1.13\", \\n        \"percent_change_24h\": \"-0.06\", \\n        \"percent_change_7d\": \"-1.27\", \\n        \"last_updated\": \"1527607143\"\\n    }, \\n    {\\n        \"id\": \"gxchain\", \\n        \"name\": \"GXChain\", \\n        \"symbol\": \"GXS\", \\n        \"rank\": \"70\", \\n        \"price_usd\": \"3.29341\", \\n        \"price_btc\": \"0.00044421\", \\n        \"24h_volume_usd\": \"19019500.0\", \\n        \"market_cap_usd\": \"197604600.0\", \\n        \"available_supply\": \"60000000.0\", \\n        \"total_supply\": \"100000000.0\", \\n        \"max_supply\": \"100000000.0\", \\n        \"percent_change_1h\": \"0.73\", \\n        \"percent_change_24h\": \"16.84\", \\n        \"percent_change_7d\": \"-3.46\", \\n        \"last_updated\": \"1527607158\"\\n    }, \\n    {\\n        \"id\": \"skycoin\", \\n        \"name\": \"Skycoin\", \\n        \"symbol\": \"SKY\", \\n        \"rank\": \"71\", \\n        \"price_usd\": \"21.9473\", \\n        \"price_btc\": \"0.00296019\", \\n        \"24h_volume_usd\": \"2479790.0\", \\n        \"market_cap_usd\": \"197516350.0\", \\n        \"available_supply\": \"8999574.0\", \\n        \"total_supply\": \"25000000.0\", \\n        \"max_supply\": \"100000000.0\", \\n        \"percent_change_1h\": \"4.42\", \\n        \"percent_change_24h\": \"13.06\", \\n        \"percent_change_7d\": \"-14.51\", \\n        \"last_updated\": \"1527607155\"\\n    }, \\n    {\\n        \"id\": \"bancor\", \\n        \"name\": \"Bancor\", \\n        \"symbol\": \"BNT\", \\n        \"rank\": \"72\", \\n        \"price_usd\": \"3.77491\", \\n        \"price_btc\": \"0.00050915\", \\n        \"24h_volume_usd\": \"11970000.0\", \\n        \"market_cap_usd\": \"196077626.0\", \\n        \"available_supply\": \"51942331.0\", \\n        \"total_supply\": \"76018635.0\", \\n        \"max_supply\": null, \\n        \"percent_change_1h\": \"-1.22\", \\n        \"percent_change_24h\": \"6.52\", \\n        \"percent_change_7d\": \"-16.21\", \\n        \"last_updated\": \"1527607158\"\\n    }, \\n    {\\n        \"id\": \"maidsafecoin\", \\n        \"name\": \"MaidSafeCoin\", \\n        \"symbol\": \"MAID\", \\n        \"rank\": \"73\", \\n        \"price_usd\": \"0.430176\", \\n        \"price_btc\": \"0.00005802\", \\n        \"24h_volume_usd\": \"2301150.0\", \\n        \"market_cap_usd\": \"194677186.0\", \\n        \"available_supply\": \"452552412.0\", \\n        \"total_supply\": \"452552412.0\", \\n        \"max_supply\": null, \\n        \"percent_change_1h\": \"-1.23\", \\n        \"percent_change_24h\": \"0.24\", \\n        \"percent_change_7d\": \"2.98\", \\n        \"last_updated\": \"1527607144\"\\n    }, \\n    {\\n        \"id\": \"elastos\", \\n        \"name\": \"Elastos\", \\n        \"symbol\": \"ELA\", \\n        \"rank\": \"74\", \\n        \"price_usd\": \"38.4111\", \\n        \"price_btc\": \"0.00518078\", \\n        \"24h_volume_usd\": \"18926800.0\", \\n        \"market_cap_usd\": \"193009035.0\", \\n        \"available_supply\": \"5024824.0\", \\n        \"total_supply\": \"33570222.0\", \\n        \"max_supply\": null, \\n        \"percent_change_1h\": \"-0.04\", \\n        \"percent_change_24h\": \"0.3\", \\n        \"percent_change_7d\": \"-13.97\", \\n        \"last_updated\": \"1527607175\"\\n    }, \\n    {\\n        \"id\": \"cortex\", \\n        \"name\": \"Cortex\", \\n        \"symbol\": \"CTXC\", \\n        \"rank\": \"75\", \\n        \"price_usd\": \"1.28268\", \\n        \"price_btc\": \"0.00017301\", \\n        \"24h_volume_usd\": \"37214600.0\", \\n        \"market_cap_usd\": \"192135790.0\", \\n        \"available_supply\": \"149792458.0\", \\n        \"total_supply\": \"299792458.0\", \\n        \"max_supply\": null, \\n        \"percent_change_1h\": \"-1.79\", \\n        \"percent_change_24h\": \"-0.98\", \\n        \"percent_change_7d\": \"-20.93\", \\n        \"last_updated\": \"1527607178\"\\n    }, \\n    {\\n        \"id\": \"gas\", \\n        \"name\": \"Gas\", \\n        \"symbol\": \"GAS\", \\n        \"rank\": \"76\", \\n        \"price_usd\": \"18.5762\", \\n        \"price_btc\": \"0.00250551\", \\n        \"24h_volume_usd\": \"4370730.0\", \\n        \"market_cap_usd\": \"188146722.0\", \\n        \"available_supply\": \"10128375.0\", \\n        \"total_supply\": \"17190378.0\", \\n        \"max_supply\": \"100000000.0\", \\n        \"percent_change_1h\": \"-0.77\", \\n        \"percent_change_24h\": \"4.33\", \\n        \"percent_change_7d\": \"-16.59\", \\n        \"last_updated\": \"1527607159\"\\n    }, \\n    {\\n        \"id\": \"reddcoin\", \\n        \"name\": \"ReddCoin\", \\n        \"symbol\": \"RDD\", \\n        \"rank\": \"77\", \\n        \"price_usd\": \"0.00648457\", \\n        \"price_btc\": \"0.00000087\", \\n        \"24h_volume_usd\": \"3540990.0\", \\n        \"market_cap_usd\": \"186812117.0\", \\n        \"available_supply\": \"28808713174.0\", \\n        \"total_supply\": \"28808713174.0\", \\n        \"max_supply\": null, \\n        \"percent_change_1h\": \"-0.26\", \\n        \"percent_change_24h\": \"3.78\", \\n        \"percent_change_7d\": \"-10.84\", \\n        \"last_updated\": \"1527607142\"\\n    }, \\n    {\\n        \"id\": \"mybit-token\", \\n        \"name\": \"MyBit Token\", \\n        \"symbol\": \"MYB\", \\n        \"rank\": \"78\", \\n        \"price_usd\": \"3.69592\", \\n        \"price_btc\": \"0.00049849\", \\n        \"24h_volume_usd\": \"95947.4\", \\n        \"market_cap_usd\": \"186431335.0\", \\n        \"available_supply\": \"50442470.0\", \\n        \"total_supply\": \"180000000.0\", \\n        \"max_supply\": null, \\n        \"percent_change_1h\": \"1.78\", \\n        \"percent_change_24h\": \"27.1\", \\n        \"percent_change_7d\": \"43.47\", \\n        \"last_updated\": \"1527607161\"\\n    }, \\n    {\\n        \"id\": \"huobi-token\", \\n        \"name\": \"Huobi Token\", \\n        \"symbol\": \"HT\", \\n        \"rank\": \"79\", \\n        \"price_usd\": \"3.68739\", \\n        \"price_btc\": \"0.00049734\", \\n        \"24h_volume_usd\": \"87381900.0\", \\n        \"market_cap_usd\": \"184370237.0\", \\n        \"available_supply\": \"50000200.0\", \\n        \"total_supply\": \"500000000.0\", \\n        \"max_supply\": null, \\n        \"percent_change_1h\": \"-0.54\", \\n        \"percent_change_24h\": \"1.5\", \\n        \"percent_change_7d\": \"-12.48\", \\n        \"last_updated\": \"1527607175\"\\n    }, \\n    {\\n        \"id\": \"syscoin\", \\n        \"name\": \"Syscoin\", \\n        \"symbol\": \"SYS\", \\n        \"rank\": \"80\", \\n        \"price_usd\": \"0.343716\", \\n        \"price_btc\": \"0.00004636\", \\n        \"24h_volume_usd\": \"844537.0\", \\n        \"market_cap_usd\": \"183668378.0\", \\n        \"available_supply\": \"534360861.0\", \\n        \"total_supply\": \"534360861.0\", \\n        \"max_supply\": \"888000000.0\", \\n        \"percent_change_1h\": \"-1.75\", \\n        \"percent_change_24h\": \"1.8\", \\n        \"percent_change_7d\": \"-23.2\", \\n        \"last_updated\": \"1527607146\"\\n    }, \\n    {\\n        \"id\": \"qash\", \\n        \"name\": \"QASH\", \\n        \"symbol\": \"QASH\", \\n        \"rank\": \"81\", \\n        \"price_usd\": \"0.502614\", \\n        \"price_btc\": \"0.00006779\", \\n        \"24h_volume_usd\": \"1463380.0\", \\n        \"market_cap_usd\": \"175914900.0\", \\n        \"available_supply\": \"350000000.0\", \\n        \"total_supply\": \"1000000000.0\", \\n        \"max_supply\": null, \\n        \"percent_change_1h\": \"-0.83\", \\n        \"percent_change_24h\": \"2.96\", \\n        \"percent_change_7d\": \"-8.5\", \\n        \"last_updated\": \"1527607169\"\\n    }, \\n    {\\n        \"id\": \"fusion\", \\n        \"name\": \"Fusion\", \\n        \"symbol\": \"FSN\", \\n        \"rank\": \"82\", \\n        \"price_usd\": \"5.7582\", \\n        \"price_btc\": \"0.00077665\", \\n        \"24h_volume_usd\": \"7602820.0\", \\n        \"market_cap_usd\": \"170928316.0\", \\n        \"available_supply\": \"29684331.0\", \\n        \"total_supply\": \"57344000.0\", \\n        \"max_supply\": null, \\n        \"percent_change_1h\": \"-0.01\", \\n        \"percent_change_24h\": \"6.73\", \\n        \"percent_change_7d\": \"-23.68\", \\n        \"last_updated\": \"1527607175\"\\n    }, \\n    {\\n        \"id\": \"ethos\", \\n        \"name\": \"Ethos\", \\n        \"symbol\": \"ETHOS\", \\n        \"rank\": \"83\", \\n        \"price_usd\": \"2.20702\", \\n        \"price_btc\": \"0.00029768\", \\n        \"24h_volume_usd\": \"4254390.0\", \\n        \"market_cap_usd\": \"169169257.0\", \\n        \"available_supply\": \"76650532.0\", \\n        \"total_supply\": \"222295208.0\", \\n        \"max_supply\": null, \\n        \"percent_change_1h\": \"-1.06\", \\n        \"percent_change_24h\": \"7.94\", \\n        \"percent_change_7d\": \"-19.25\", \\n        \"last_updated\": \"1527607160\"\\n    }, \\n    {\\n        \"id\": \"mithril\", \\n        \"name\": \"Mithril\", \\n        \"symbol\": \"MITH\", \\n        \"rank\": \"84\", \\n        \"price_usd\": \"0.547688\", \\n        \"price_btc\": \"0.00007387\", \\n        \"24h_volume_usd\": \"31306700.0\", \\n        \"market_cap_usd\": \"167820926.0\", \\n        \"available_supply\": \"306417022.0\", \\n        \"total_supply\": \"1000000000.0\", \\n        \"max_supply\": null, \\n        \"percent_change_1h\": \"-0.78\", \\n        \"percent_change_24h\": \"1.86\", \\n        \"percent_change_7d\": \"-22.3\", \\n        \"last_updated\": \"1527607177\"\\n    }, \\n    {\\n        \"id\": \"kyber-network\", \\n        \"name\": \"Kyber Network\", \\n        \"symbol\": \"KNC\", \\n        \"rank\": \"85\", \\n        \"price_usd\": \"1.23434\", \\n        \"price_btc\": \"0.00016648\", \\n        \"24h_volume_usd\": \"15170400.0\", \\n        \"market_cap_usd\": \"165565353.0\", \\n        \"available_supply\": \"134132697.0\", \\n        \"total_supply\": \"215625349.0\", \\n        \"max_supply\": null, \\n        \"percent_change_1h\": \"-1.17\", \\n        \"percent_change_24h\": \"2.53\", \\n        \"percent_change_7d\": \"-26.64\", \\n        \"last_updated\": \"1527607165\"\\n    }, \\n    {\\n        \"id\": \"cryptonex\", \\n        \"name\": \"Cryptonex\", \\n        \"symbol\": \"CNX\", \\n        \"rank\": \"86\", \\n        \"price_usd\": \"3.60294\", \\n        \"price_btc\": \"0.00048595\", \\n        \"24h_volume_usd\": \"1154760.0\", \\n        \"market_cap_usd\": \"163193676.0\", \\n        \"available_supply\": \"45294586.0\", \\n        \"total_supply\": \"106732212.0\", \\n        \"max_supply\": \"210000000.0\", \\n        \"percent_change_1h\": \"0.62\", \\n        \"percent_change_24h\": \"-15.62\", \\n        \"percent_change_7d\": \"-25.34\", \\n        \"last_updated\": \"1527607164\"\\n    }, \\n    {\\n        \"id\": \"funfair\", \\n        \"name\": \"FunFair\", \\n        \"symbol\": \"FUN\", \\n        \"rank\": \"87\", \\n        \"price_usd\": \"0.0334598\", \\n        \"price_btc\": \"0.00000451\", \\n        \"24h_volume_usd\": \"2745140.0\", \\n        \"market_cap_usd\": \"162569604.0\", \\n        \"available_supply\": \"4858654389.0\", \\n        \"total_supply\": \"10999873621.0\", \\n        \"max_supply\": null, \\n        \"percent_change_1h\": \"-2.41\", \\n        \"percent_change_24h\": \"3.21\", \\n        \"percent_change_7d\": \"-23.13\", \\n        \"last_updated\": \"1527607159\"\\n    }, \\n    {\\n        \"id\": \"veritaseum\", \\n        \"name\": \"Veritaseum\", \\n        \"symbol\": \"VERI\", \\n        \"rank\": \"88\", \\n        \"price_usd\": \"79.3623\", \\n        \"price_btc\": \"0.0107042\", \\n        \"24h_volume_usd\": \"690711.0\", \\n        \"market_cap_usd\": \"161632866.0\", \\n        \"available_supply\": \"2036645.0\", \\n        \"total_supply\": \"100000000.0\", \\n        \"max_supply\": null, \\n        \"percent_change_1h\": \"0.06\", \\n        \"percent_change_24h\": \"-5.19\", \\n        \"percent_change_7d\": \"-2.94\", \\n        \"last_updated\": \"1527607158\"\\n    }, \\n    {\\n        \"id\": \"electroneum\", \\n        \"name\": \"Electroneum\", \\n        \"symbol\": \"ETN\", \\n        \"rank\": \"89\", \\n        \"price_usd\": \"0.0227358\", \\n        \"price_btc\": \"0.00000307\", \\n        \"24h_volume_usd\": \"1036020.0\", \\n        \"market_cap_usd\": \"161602550.0\", \\n        \"available_supply\": \"7107845347.0\", \\n        \"total_supply\": \"7107845347.0\", \\n        \"max_supply\": \"21000000000.0\", \\n        \"percent_change_1h\": \"-0.16\", \\n        \"percent_change_24h\": \"6.13\", \\n        \"percent_change_7d\": \"3.53\", \\n        \"last_updated\": \"1527607166\"\\n    }, \\n    {\\n        \"id\": \"substratum\", \\n        \"name\": \"Substratum\", \\n        \"symbol\": \"SUB\", \\n        \"rank\": \"90\", \\n        \"price_usd\": \"0.406296\", \\n        \"price_btc\": \"0.00005480\", \\n        \"24h_volume_usd\": \"4124430.0\", \\n        \"market_cap_usd\": \"155619900.0\", \\n        \"available_supply\": \"383021000.0\", \\n        \"total_supply\": \"472000000.0\", \\n        \"max_supply\": null, \\n        \"percent_change_1h\": \"0.19\", \\n        \"percent_change_24h\": \"9.27\", \\n        \"percent_change_7d\": \"-17.75\", \\n        \"last_updated\": \"1527607164\"\\n    }, \\n    {\\n        \"id\": \"centrality\", \\n        \"name\": \"Centrality\", \\n        \"symbol\": \"CENNZ\", \\n        \"rank\": \"91\", \\n        \"price_usd\": \"0.20122\", \\n        \"price_btc\": \"0.00002714\", \\n        \"24h_volume_usd\": \"86634.2\", \\n        \"market_cap_usd\": \"151217383.0\", \\n        \"available_supply\": \"751502751.0\", \\n        \"total_supply\": \"1200000000.0\", \\n        \"max_supply\": null, \\n        \"percent_change_1h\": \"3.64\", \\n        \"percent_change_24h\": \"3.32\", \\n        \"percent_change_7d\": \"-16.2\", \\n        \"last_updated\": \"1527607176\"\\n    }, \\n    {\\n        \"id\": \"rlc\", \\n        \"name\": \"iExec RLC\", \\n        \"symbol\": \"RLC\", \\n        \"rank\": \"92\", \\n        \"price_usd\": \"1.86592\", \\n        \"price_btc\": \"0.00025167\", \\n        \"24h_volume_usd\": \"6533220.0\", \\n        \"market_cap_usd\": \"149405695.0\", \\n        \"available_supply\": \"80070793.0\", \\n        \"total_supply\": \"86999785.0\", \\n        \"max_supply\": null, \\n        \"percent_change_1h\": \"0.17\", \\n        \"percent_change_24h\": \"-5.84\", \\n        \"percent_change_7d\": \"-5.94\", \\n        \"last_updated\": \"1527607157\"\\n    }, \\n    {\\n        \"id\": \"nexus\", \\n        \"name\": \"Nexus\", \\n        \"symbol\": \"NXS\", \\n        \"rank\": \"93\", \\n        \"price_usd\": \"2.52804\", \\n        \"price_btc\": \"0.00034097\", \\n        \"24h_volume_usd\": \"6033380.0\", \\n        \"market_cap_usd\": \"145382319.0\", \\n        \"available_supply\": \"57507919.0\", \\n        \"total_supply\": \"57507919.0\", \\n        \"max_supply\": null, \\n        \"percent_change_1h\": \"1.47\", \\n        \"percent_change_24h\": \"18.22\", \\n        \"percent_change_7d\": \"18.46\", \\n        \"last_updated\": \"1527607146\"\\n    }, \\n    {\\n        \"id\": \"dragonchain\", \\n        \"name\": \"Dragonchain\", \\n        \"symbol\": \"DRGN\", \\n        \"rank\": \"94\", \\n        \"price_usd\": \"0.606573\", \\n        \"price_btc\": \"0.00008181\", \\n        \"24h_volume_usd\": \"1941720.0\", \\n        \"market_cap_usd\": \"144620311.0\", \\n        \"available_supply\": \"238421940.0\", \\n        \"total_supply\": \"433494437.0\", \\n        \"max_supply\": null, \\n        \"percent_change_1h\": \"-1.68\", \\n        \"percent_change_24h\": \"3.92\", \\n        \"percent_change_7d\": \"-21.75\", \\n        \"last_updated\": \"1527607169\"\\n    }, \\n    {\\n        \"id\": \"enigma-project\", \\n        \"name\": \"Enigma\", \\n        \"symbol\": \"ENG\", \\n        \"rank\": \"95\", \\n        \"price_usd\": \"1.92863\", \\n        \"price_btc\": \"0.00026013\", \\n        \"24h_volume_usd\": \"4703470.0\", \\n        \"market_cap_usd\": \"144331285.0\", \\n        \"available_supply\": \"74836171.0\", \\n        \"total_supply\": \"150000000.0\", \\n        \"max_supply\": null, \\n        \"percent_change_1h\": \"-0.12\", \\n        \"percent_change_24h\": \"5.7\", \\n        \"percent_change_7d\": \"-9.07\", \\n        \"last_updated\": \"1527607164\"\\n    }, \\n    {\\n        \"id\": \"nuls\", \\n        \"name\": \"Nuls\", \\n        \"symbol\": \"NULS\", \\n        \"rank\": \"96\", \\n        \"price_usd\": \"3.56835\", \\n        \"price_btc\": \"0.00048129\", \\n        \"24h_volume_usd\": \"2955620.0\", \\n        \"market_cap_usd\": \"142734000.0\", \\n        \"available_supply\": \"40000000.0\", \\n        \"total_supply\": \"40000000.0\", \\n        \"max_supply\": null, \\n        \"percent_change_1h\": \"-0.17\", \\n        \"percent_change_24h\": \"7.31\", \\n        \"percent_change_7d\": \"-16.45\", \\n        \"last_updated\": \"1527607165\"\\n    }, \\n    {\\n        \"id\": \"zcoin\", \\n        \"name\": \"ZCoin\", \\n        \"symbol\": \"XZC\", \\n        \"rank\": \"97\", \\n        \"price_usd\": \"28.6643\", \\n        \"price_btc\": \"0.00386616\", \\n        \"24h_volume_usd\": \"1122230.0\", \\n        \"market_cap_usd\": \"139181554.0\", \\n        \"available_supply\": \"4855571.0\", \\n        \"total_supply\": \"4855571.0\", \\n        \"max_supply\": \"21400000.0\", \\n        \"percent_change_1h\": \"-2.68\", \\n        \"percent_change_24h\": \"0.96\", \\n        \"percent_change_7d\": \"-18.4\", \\n        \"last_updated\": \"1527607153\"\\n    }, \\n    {\\n        \"id\": \"holo\", \\n        \"name\": \"Holo\", \\n        \"symbol\": \"HOT\", \\n        \"rank\": \"98\", \\n        \"price_usd\": \"0.00104084\", \\n        \"price_btc\": \"0.00000014\", \\n        \"24h_volume_usd\": \"3188990.0\", \\n        \"market_cap_usd\": \"138655058.0\", \\n        \"available_supply\": \"133214575156\", \\n        \"total_supply\": \"177619433541\", \\n        \"max_supply\": null, \\n        \"percent_change_1h\": \"0.01\", \\n        \"percent_change_24h\": \"7.68\", \\n        \"percent_change_7d\": \"-12.24\", \\n        \"last_updated\": \"1527607179\"\\n    }, \\n    {\\n        \"id\": \"all-sports\", \\n        \"name\": \"All Sports\", \\n        \"symbol\": \"SOC\", \\n        \"rank\": \"99\", \\n        \"price_usd\": \"0.17061\", \\n        \"price_btc\": \"0.00002301\", \\n        \"24h_volume_usd\": \"52333200.0\", \\n        \"market_cap_usd\": \"138584789.0\", \\n        \"available_supply\": \"812289956.0\", \\n        \"total_supply\": \"1500000000.0\", \\n        \"max_supply\": null, \\n        \"percent_change_1h\": \"-0.38\", \\n        \"percent_change_24h\": \"-5.62\", \\n        \"percent_change_7d\": \"-0.47\", \\n        \"last_updated\": \"1527607174\"\\n    }, \\n    {\\n        \"id\": \"kin\", \\n        \"name\": \"Kin\", \\n        \"symbol\": \"KIN\", \\n        \"rank\": \"100\", \\n        \"price_usd\": \"0.000180141\", \\n        \"price_btc\": \"0.00000002\", \\n        \"24h_volume_usd\": \"778544.0\", \\n        \"market_cap_usd\": \"136204171.0\", \\n        \"available_supply\": \"756097560976\", \\n        \"total_supply\": \"10000000000000\", \\n        \"max_supply\": null, \\n        \"percent_change_1h\": \"-7.47\", \\n        \"percent_change_24h\": \"6.97\", \\n        \"percent_change_7d\": \"-21.01\", \\n        \"last_updated\": \"1527607163\"\\n    }\\n]'\n"
          ],
          "name": "stdout"
        },
        {
          "output_type": "stream",
          "text": [
            "/usr/local/lib/python3.6/dist-packages/urllib3/connectionpool.py:858: InsecureRequestWarning: Unverified HTTPS request is being made. Adding certificate verification is strongly advised. See: https://urllib3.readthedocs.io/en/latest/advanced-usage.html#ssl-warnings\n",
            "  InsecureRequestWarning)\n",
            "/usr/local/lib/python3.6/dist-packages/urllib3/connectionpool.py:858: InsecureRequestWarning: Unverified HTTPS request is being made. Adding certificate verification is strongly advised. See: https://urllib3.readthedocs.io/en/latest/advanced-usage.html#ssl-warnings\n",
            "  InsecureRequestWarning)\n"
          ],
          "name": "stderr"
        }
      ]
    },
    {
      "metadata": {
        "id": "jiMwDix1e9c-",
        "colab_type": "code",
        "colab": {
          "autoexec": {
            "startup": false,
            "wait_interval": 0
          }
        }
      },
      "cell_type": "code",
      "source": [
        "df = pd.read_json(url)\n",
        "print(df)"
      ],
      "execution_count": 0,
      "outputs": []
    },
    {
      "metadata": {
        "id": "J9ArooyDf7P6",
        "colab_type": "code",
        "colab": {
          "autoexec": {
            "startup": false,
            "wait_interval": 0
          }
        }
      },
      "cell_type": "code",
      "source": [
        "print(df.head())\n",
        "print(df.info())"
      ],
      "execution_count": 0,
      "outputs": []
    },
    {
      "metadata": {
        "id": "EDa-pd0GgLlu",
        "colab_type": "code",
        "colab": {
          "autoexec": {
            "startup": false,
            "wait_interval": 0
          }
        }
      },
      "cell_type": "code",
      "source": [
        "df = df.sort_values(by=['symbol'])\n",
        "print(df.head())"
      ],
      "execution_count": 0,
      "outputs": []
    },
    {
      "metadata": {
        "id": "MuAQKHE0gkdG",
        "colab_type": "code",
        "colab": {
          "autoexec": {
            "startup": false,
            "wait_interval": 0
          }
        }
      },
      "cell_type": "code",
      "source": [
        "for i, r in df.iterrows():\n",
        "  print(i, r['symbol'], r['price_usd'])"
      ],
      "execution_count": 0,
      "outputs": []
    },
    {
      "metadata": {
        "id": "ZHfyoW9Eg1OO",
        "colab_type": "code",
        "colab": {
          "autoexec": {
            "startup": false,
            "wait_interval": 0
          },
          "base_uri": "https://localhost:8080/",
          "height": 72
        },
        "outputId": "711dd095-a0b4-4624-aa43-5f8da9710ad7",
        "executionInfo": {
          "status": "ok",
          "timestamp": 1527608002196,
          "user_tz": 240,
          "elapsed": 496,
          "user": {
            "displayName": "Jay Lohokare",
            "photoUrl": "//lh3.googleusercontent.com/-0bBtDx-OpcA/AAAAAAAAAAI/AAAAAAAAo0k/wOog6yUZ1yM/s50-c-k-no/photo.jpg",
            "userId": "101298074449851112405"
          }
        }
      },
      "cell_type": "code",
      "source": [
        "selection = ['ETH', 'BTC']\n",
        "df = df[df['symbol'].isin(selection)]\n",
        "print(df[['id', 'price_usd']])"
      ],
      "execution_count": 21,
      "outputs": [
        {
          "output_type": "stream",
          "text": [
            "         id  price_usd\n",
            "0   bitcoin   7426.550\n",
            "1  ethereum    556.195\n"
          ],
          "name": "stdout"
        }
      ]
    },
    {
      "metadata": {
        "id": "e-2PAzT8h8tv",
        "colab_type": "code",
        "colab": {
          "autoexec": {
            "startup": false,
            "wait_interval": 0
          },
          "base_uri": "https://localhost:8080/",
          "height": 3690
        },
        "outputId": "dedc8520-0418-4b17-fa5b-8047d0cc711c",
        "executionInfo": {
          "status": "ok",
          "timestamp": 1527608400594,
          "user_tz": 240,
          "elapsed": 15552,
          "user": {
            "displayName": "Jay Lohokare",
            "photoUrl": "//lh3.googleusercontent.com/-0bBtDx-OpcA/AAAAAAAAAAI/AAAAAAAAo0k/wOog6yUZ1yM/s50-c-k-no/photo.jpg",
            "userId": "101298074449851112405"
          }
        }
      },
      "cell_type": "code",
      "source": [
        "#Psuedo streaming - repeated API calls\n",
        "for i in range(100):\n",
        "  df = pd.read_json('https://api.coinmarketcap.com/v1/ticker/litecoin')\n",
        "  print(df['price_usd'])"
      ],
      "execution_count": 26,
      "outputs": [
        {
          "output_type": "stream",
          "text": [
            "0    119.067\n",
            "Name: price_usd, dtype: float64\n",
            "0    119.067\n",
            "Name: price_usd, dtype: float64\n",
            "0    119.067\n",
            "Name: price_usd, dtype: float64\n",
            "0    119.067\n",
            "Name: price_usd, dtype: float64\n",
            "0    119.067\n",
            "Name: price_usd, dtype: float64\n",
            "0    119.067\n",
            "Name: price_usd, dtype: float64\n",
            "0    119.067\n",
            "Name: price_usd, dtype: float64\n",
            "0    119.067\n",
            "Name: price_usd, dtype: float64\n",
            "0    119.067\n",
            "Name: price_usd, dtype: float64\n",
            "0    119.067\n",
            "Name: price_usd, dtype: float64\n",
            "0    119.067\n",
            "Name: price_usd, dtype: float64\n",
            "0    119.067\n",
            "Name: price_usd, dtype: float64\n",
            "0    119.067\n",
            "Name: price_usd, dtype: float64\n",
            "0    119.067\n",
            "Name: price_usd, dtype: float64\n",
            "0    119.067\n",
            "Name: price_usd, dtype: float64\n",
            "0    119.067\n",
            "Name: price_usd, dtype: float64\n",
            "0    119.067\n",
            "Name: price_usd, dtype: float64\n",
            "0    119.067\n",
            "Name: price_usd, dtype: float64\n",
            "0    119.067\n",
            "Name: price_usd, dtype: float64\n",
            "0    119.067\n",
            "Name: price_usd, dtype: float64\n",
            "0    119.067\n",
            "Name: price_usd, dtype: float64\n",
            "0    119.067\n",
            "Name: price_usd, dtype: float64\n",
            "0    119.067\n",
            "Name: price_usd, dtype: float64\n",
            "0    119.067\n",
            "Name: price_usd, dtype: float64\n",
            "0    119.067\n",
            "Name: price_usd, dtype: float64\n",
            "0    119.067\n",
            "Name: price_usd, dtype: float64\n",
            "0    119.067\n",
            "Name: price_usd, dtype: float64\n",
            "0    119.067\n",
            "Name: price_usd, dtype: float64\n",
            "0    119.067\n",
            "Name: price_usd, dtype: float64\n",
            "0    119.067\n",
            "Name: price_usd, dtype: float64\n",
            "0    119.067\n",
            "Name: price_usd, dtype: float64\n",
            "0    119.067\n",
            "Name: price_usd, dtype: float64\n",
            "0    119.067\n",
            "Name: price_usd, dtype: float64\n",
            "0    119.067\n",
            "Name: price_usd, dtype: float64\n",
            "0    119.067\n",
            "Name: price_usd, dtype: float64\n",
            "0    119.067\n",
            "Name: price_usd, dtype: float64\n",
            "0    119.067\n",
            "Name: price_usd, dtype: float64\n",
            "0    119.067\n",
            "Name: price_usd, dtype: float64\n",
            "0    119.067\n",
            "Name: price_usd, dtype: float64\n",
            "0    119.067\n",
            "Name: price_usd, dtype: float64\n",
            "0    119.067\n",
            "Name: price_usd, dtype: float64\n",
            "0    119.067\n",
            "Name: price_usd, dtype: float64\n",
            "0    119.067\n",
            "Name: price_usd, dtype: float64\n",
            "0    119.067\n",
            "Name: price_usd, dtype: float64\n",
            "0    119.067\n",
            "Name: price_usd, dtype: float64\n",
            "0    119.067\n",
            "Name: price_usd, dtype: float64\n",
            "0    119.067\n",
            "Name: price_usd, dtype: float64\n",
            "0    119.067\n",
            "Name: price_usd, dtype: float64\n",
            "0    119.067\n",
            "Name: price_usd, dtype: float64\n",
            "0    119.067\n",
            "Name: price_usd, dtype: float64\n",
            "0    119.067\n",
            "Name: price_usd, dtype: float64\n",
            "0    119.067\n",
            "Name: price_usd, dtype: float64\n",
            "0    119.067\n",
            "Name: price_usd, dtype: float64\n",
            "0    119.067\n",
            "Name: price_usd, dtype: float64\n",
            "0    119.067\n",
            "Name: price_usd, dtype: float64\n",
            "0    119.067\n",
            "Name: price_usd, dtype: float64\n",
            "0    119.067\n",
            "Name: price_usd, dtype: float64\n",
            "0    119.067\n",
            "Name: price_usd, dtype: float64\n",
            "0    119.067\n",
            "Name: price_usd, dtype: float64\n",
            "0    119.067\n",
            "Name: price_usd, dtype: float64\n",
            "0    119.067\n",
            "Name: price_usd, dtype: float64\n",
            "0    119.067\n",
            "Name: price_usd, dtype: float64\n",
            "0    119.067\n",
            "Name: price_usd, dtype: float64\n",
            "0    119.067\n",
            "Name: price_usd, dtype: float64\n",
            "0    119.067\n",
            "Name: price_usd, dtype: float64\n",
            "0    119.067\n",
            "Name: price_usd, dtype: float64\n",
            "0    119.067\n",
            "Name: price_usd, dtype: float64\n",
            "0    119.067\n",
            "Name: price_usd, dtype: float64\n",
            "0    119.067\n",
            "Name: price_usd, dtype: float64\n",
            "0    119.067\n",
            "Name: price_usd, dtype: float64\n",
            "0    119.067\n",
            "Name: price_usd, dtype: float64\n",
            "0    119.067\n",
            "Name: price_usd, dtype: float64\n",
            "0    119.067\n",
            "Name: price_usd, dtype: float64\n",
            "0    119.067\n",
            "Name: price_usd, dtype: float64\n",
            "0    119.067\n",
            "Name: price_usd, dtype: float64\n",
            "0    119.067\n",
            "Name: price_usd, dtype: float64\n",
            "0    119.067\n",
            "Name: price_usd, dtype: float64\n",
            "0    119.067\n",
            "Name: price_usd, dtype: float64\n",
            "0    119.067\n",
            "Name: price_usd, dtype: float64\n",
            "0    119.067\n",
            "Name: price_usd, dtype: float64\n",
            "0    119.067\n",
            "Name: price_usd, dtype: float64\n",
            "0    119.067\n",
            "Name: price_usd, dtype: float64\n",
            "0    119.067\n",
            "Name: price_usd, dtype: float64\n",
            "0    119.067\n",
            "Name: price_usd, dtype: float64\n",
            "0    119.067\n",
            "Name: price_usd, dtype: float64\n",
            "0    119.067\n",
            "Name: price_usd, dtype: float64\n",
            "0    119.067\n",
            "Name: price_usd, dtype: float64\n",
            "0    119.067\n",
            "Name: price_usd, dtype: float64\n",
            "0    119.067\n",
            "Name: price_usd, dtype: float64\n",
            "0    119.067\n",
            "Name: price_usd, dtype: float64\n",
            "0    119.067\n",
            "Name: price_usd, dtype: float64\n",
            "0    119.067\n",
            "Name: price_usd, dtype: float64\n",
            "0    119.067\n",
            "Name: price_usd, dtype: float64\n"
          ],
          "name": "stdout"
        },
        {
          "output_type": "stream",
          "text": [
            "0    119.067\n",
            "Name: price_usd, dtype: float64\n",
            "0    119.067\n",
            "Name: price_usd, dtype: float64\n",
            "0    119.067\n",
            "Name: price_usd, dtype: float64\n",
            "0    119.067\n",
            "Name: price_usd, dtype: float64\n",
            "0    119.067\n",
            "Name: price_usd, dtype: float64\n",
            "0    119.067\n",
            "Name: price_usd, dtype: float64\n",
            "0    119.067\n",
            "Name: price_usd, dtype: float64\n"
          ],
          "name": "stdout"
        }
      ]
    },
    {
      "metadata": {
        "id": "YobXWW8yi0VJ",
        "colab_type": "code",
        "colab": {
          "autoexec": {
            "startup": false,
            "wait_interval": 0
          }
        }
      },
      "cell_type": "code",
      "source": [
        ""
      ],
      "execution_count": 0,
      "outputs": []
    }
  ]
}