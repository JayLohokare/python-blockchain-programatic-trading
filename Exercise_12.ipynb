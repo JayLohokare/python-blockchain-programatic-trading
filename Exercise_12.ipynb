{
  "nbformat": 4,
  "nbformat_minor": 0,
  "metadata": {
    "colab": {
      "name": "Exercise 12",
      "version": "0.3.2",
      "views": {},
      "default_view": {},
      "provenance": []
    },
    "kernelspec": {
      "name": "python3",
      "display_name": "Python 3"
    }
  },
  "cells": [
    {
      "metadata": {
        "id": "6WtLXC3qNagM",
        "colab_type": "code",
        "colab": {
          "autoexec": {
            "startup": false,
            "wait_interval": 0
          }
        }
      },
      "cell_type": "code",
      "source": [
        "import requests, json, time, urllib3, io\n",
        "import matplotlib.pyplot as plt\n",
        "import pandas as pd\n"
      ],
      "execution_count": 0,
      "outputs": []
    },
    {
      "metadata": {
        "id": "U75IlX9KNhR2",
        "colab_type": "code",
        "colab": {
          "autoexec": {
            "startup": false,
            "wait_interval": 0
          }
        }
      },
      "cell_type": "code",
      "source": [
        "def load(url, printout=False, remove_bottom_rows=0, remove_columns =[]):\n",
        "  headers = {'User-Agent': 'Mozilla/5.0 (Macintosh; Intel Mac OS X 10_10_1) AppleWebKit/537.36 (KHTML, like Gecko) Chrome/39.0.2171.95 Safari/537.36'}\n",
        "  response = requests.get(url, headers = headers)\n",
        "  df = pd.read_json(response.text)\n",
        "  \n",
        "  if remove_bottom_rows > 0:\n",
        "    df.drop(df.tail(remove_bottom_rows).index, inplace=True)\n",
        "    \n",
        "  df.drop(columns=remove_columns, axis=1, inplace=True)\n",
        "  \n",
        "  df = df.dropna(axis=1)\n",
        "  \n",
        "  if printout:\n",
        "    print(df.head())\n",
        "    print(df.shape)\n",
        "    \n",
        "  return df\n",
        "\n",
        "  "
      ],
      "execution_count": 0,
      "outputs": []
    },
    {
      "metadata": {
        "id": "22nk89DXNjZ4",
        "colab_type": "code",
        "colab": {
          "autoexec": {
            "startup": false,
            "wait_interval": 0
          },
          "base_uri": "https://localhost:8080/",
          "height": 54
        },
        "outputId": "bcab68e9-beb1-41f8-a17f-1314d16e9992",
        "executionInfo": {
          "status": "ok",
          "timestamp": 1527619753380,
          "user_tz": 240,
          "elapsed": 622,
          "user": {
            "displayName": "Jay Lohokare",
            "photoUrl": "//lh3.googleusercontent.com/-0bBtDx-OpcA/AAAAAAAAAAI/AAAAAAAAo0k/wOog6yUZ1yM/s50-c-k-no/photo.jpg",
            "userId": "101298074449851112405"
          }
        }
      },
      "cell_type": "code",
      "source": [
        "url = \"https://api.gdax.com/products/eth-usd/book?level=1\"\n",
        "#Returns best rates\n",
        "\n",
        "df = load(url)\n",
        "\n",
        "print(df)\n",
        "#Price, Quantity, Numner of people"
      ],
      "execution_count": 16,
      "outputs": [
        {
          "output_type": "stream",
          "text": [
            "                     asks                    bids    sequence\n",
            "0  [570.01, 172.01174, 4]  [570, 45.02947464, 27]  3856810916\n"
          ],
          "name": "stdout"
        }
      ]
    },
    {
      "metadata": {
        "id": "DSeTyz8YNsw6",
        "colab_type": "code",
        "colab": {
          "autoexec": {
            "startup": false,
            "wait_interval": 0
          },
          "base_uri": "https://localhost:8080/",
          "height": 954
        },
        "outputId": "1277b5a0-4ade-48cd-c6ed-7993bc242317",
        "executionInfo": {
          "status": "ok",
          "timestamp": 1527620027833,
          "user_tz": 240,
          "elapsed": 878,
          "user": {
            "displayName": "Jay Lohokare",
            "photoUrl": "//lh3.googleusercontent.com/-0bBtDx-OpcA/AAAAAAAAAAI/AAAAAAAAo0k/wOog6yUZ1yM/s50-c-k-no/photo.jpg",
            "userId": "101298074449851112405"
          }
        }
      },
      "cell_type": "code",
      "source": [
        "url = \"https://api.gdax.com/products/eth-usd/book?level=2\"\n",
        "#Returns full limit book (Top 50)\n",
        "\n",
        "df = load(url)\n",
        "\n",
        "print(df)\n",
        "#Price, Quantity, Numner of people"
      ],
      "execution_count": 21,
      "outputs": [
        {
          "output_type": "stream",
          "text": [
            "                        asks                       bids    sequence\n",
            "0     [564.4, 7.56434699, 2]   [564.39, 11.33057731, 3]  3856861257\n",
            "1        [564.5, 0.41463, 2]       [564, 7.42966406, 2]  3856861257\n",
            "2          [564.59, 0.21, 1]    [563.74, 0.03151951, 1]  3856861257\n",
            "3          [564.97, 0.44, 1]           [563.52, 0.1, 1]  3856861257\n",
            "4          [565.05, 0.01, 1]    [563.4, 19.99399898, 1]  3856861257\n",
            "5          [565.26, 0.09, 1]           [563.39, 3.5, 1]  3856861257\n",
            "6        [565.36, 15.374, 1]     [563.32, 0.0100001, 1]  3856861257\n",
            "7           [565.39, 0.1, 1]    [563.27, 11.6187728, 3]  3856861257\n",
            "8       [565.47, 81.4786, 1]          [563.26, 0.13, 1]  3856861257\n",
            "9           [565.52, 105, 1]           [563.11, 3.3, 1]  3856861257\n",
            "10   [565.67, 0.18706873, 1]          [563.07, 0.12, 1]  3856861257\n",
            "11       [565.75, 15.716, 1]    [563.04, 0.03153592, 1]  3856861257\n",
            "12       [565.76, 10.824, 1]             [563.02, 5, 1]  3856861257\n",
            "13           [565.89, 10, 1]        [563, 0.2508881, 1]  3856861257\n",
            "14           [565.92, 22, 2]    [562.98, 0.25251545, 1]  3856861257\n",
            "15               [566, 6, 1]            [562.82, 10, 1]  3856861257\n",
            "16          [566.04, 3.3, 1]             [562.81, 6, 1]  3856861257\n",
            "17            [566.06, 6, 1]        [562.73, 10.562, 1]  3856861257\n",
            "18        [566.15, 18.45, 1]        [562.63, 17.747, 1]  3856861257\n",
            "19            [566.18, 9, 1]           [562.58, 5.1, 1]  3856861257\n",
            "20   [566.22, 62.3277778, 1]             [562.51, 1, 1]  3856861257\n",
            "21          [566.23, 0.5, 1]              [562.5, 2, 1]  3856861257\n",
            "22  [566.24, 10.07271899, 1]       [562.41, 14.9994, 1]  3856861257\n",
            "23   [566.26, 3.20045995, 1]         [562.4, 0.1005, 1]  3856861257\n",
            "24          [566.3, 0.01, 1]    [562.34, 0.03155128, 1]  3856861257\n",
            "25        [566.31, 8.842, 1]        [562.33, 12.905, 1]  3856861257\n",
            "26            [566.5, 10, 1]        [562.23, 24.853, 1]  3856861257\n",
            "27     [566.53, 10.24998, 1]         [562.15, 14.96, 2]  3856861257\n",
            "28    [566.7, 7.73334897, 1]             [562.13, 1, 1]  3856861257\n",
            "29           [566.76, 15, 2]         [562.1, 12.466, 1]  3856861257\n",
            "30      [566.88, 36.5214, 1]            [562.05, 50, 1]  3856861257\n",
            "31           [566.96, 10, 1]                [562, 3, 2]  3856861257\n",
            "32     [566.98, 0.034392, 1]     [561.8, 0.04805981, 1]  3856861257\n",
            "33     [566.99, 0.030859, 1]             [561.73, 1, 1]  3856861257\n",
            "34             [567, 0.2, 1]    [561.64, 0.03151972, 1]  3856861257\n",
            "35     [567.06, 0.018513, 1]   [561.44, 33.04485352, 1]  3856861257\n",
            "36     [567.07, 0.023802, 1]          [561.39, 44.3, 1]  3856861257\n",
            "37   [567.08, 0.15197062, 1]             [561.33, 5, 1]  3856861257\n",
            "38     [567.13, 0.011458, 1]        [561.08, 37.397, 1]  3856861257\n",
            "39     [567.17, 0.025562, 1]               [561, 55, 2]  3856861257\n",
            "40     [567.18, 0.053771, 1]     [560.94, 0.0442756, 2]  3856861257\n",
            "41          [567.19, 9.6, 1]   [560.92, 10.69671254, 1]  3856861257\n",
            "42      [567.23, 8.74997, 1]        [560.91, 31.402, 1]  3856861257\n",
            "43         [567.27, 0.01, 1]  [560.81, 100.04394692, 1]  3856861257\n",
            "44   [567.29, 0.02152921, 1]          [560.48, 0.01, 1]  3856861257\n",
            "45      [567.5, 0.034358, 1]              [560.4, 5, 1]  3856861257\n",
            "46     [567.51, 0.016736, 1]          [560.34, 0.02, 2]  3856861257\n",
            "47     [567.56, 13.51997, 2]     [560.24, 0.0315985, 1]  3856861257\n",
            "48         [567.57, 0.01, 1]            [560.2, 0.1, 1]  3856861257\n",
            "49   [567.75, 1.05569707, 3]       [560.11, 0.43041, 1]  3856861257\n"
          ],
          "name": "stdout"
        }
      ]
    },
    {
      "metadata": {
        "id": "qSbUhfWvO7K-",
        "colab_type": "code",
        "colab": {
          "autoexec": {
            "startup": false,
            "wait_interval": 0
          }
        }
      },
      "cell_type": "code",
      "source": [
        ""
      ],
      "execution_count": 0,
      "outputs": []
    }
  ]
}