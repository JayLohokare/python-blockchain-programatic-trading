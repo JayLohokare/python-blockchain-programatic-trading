{
  "nbformat": 4,
  "nbformat_minor": 0,
  "metadata": {
    "colab": {
      "name": "Exercise 7",
      "version": "0.3.2",
      "views": {},
      "default_view": {},
      "provenance": []
    },
    "kernelspec": {
      "name": "python3",
      "display_name": "Python 3"
    }
  },
  "cells": [
    {
      "metadata": {
        "id": "I0rSWZRDjopM",
        "colab_type": "code",
        "colab": {
          "autoexec": {
            "startup": false,
            "wait_interval": 0
          },
          "base_uri": "https://localhost:8080/",
          "height": 127
        },
        "outputId": "20930758-324a-4850-aa65-b6f306bb9041",
        "executionInfo": {
          "status": "ok",
          "timestamp": 1527608442252,
          "user_tz": 240,
          "elapsed": 4844,
          "user": {
            "displayName": "Jay Lohokare",
            "photoUrl": "//lh3.googleusercontent.com/-0bBtDx-OpcA/AAAAAAAAAAI/AAAAAAAAo0k/wOog6yUZ1yM/s50-c-k-no/photo.jpg",
            "userId": "101298074449851112405"
          }
        }
      },
      "cell_type": "code",
      "source": [
        "!pip install urllib3\n",
        "!pip install pandas"
      ],
      "execution_count": 1,
      "outputs": [
        {
          "output_type": "stream",
          "text": [
            "Requirement already satisfied: urllib3 in /usr/local/lib/python3.6/dist-packages (1.22)\n",
            "Requirement already satisfied: pandas in /usr/local/lib/python3.6/dist-packages (0.22.0)\n",
            "Requirement already satisfied: pytz>=2011k in /usr/local/lib/python3.6/dist-packages (from pandas) (2018.4)\n",
            "Requirement already satisfied: numpy>=1.9.0 in /usr/local/lib/python3.6/dist-packages (from pandas) (1.14.3)\n",
            "Requirement already satisfied: python-dateutil>=2 in /usr/local/lib/python3.6/dist-packages (from pandas) (2.5.3)\n",
            "Requirement already satisfied: six>=1.5 in /usr/local/lib/python3.6/dist-packages (from python-dateutil>=2->pandas) (1.11.0)\n"
          ],
          "name": "stdout"
        }
      ]
    },
    {
      "metadata": {
        "id": "IXeXZoqDjuTF",
        "colab_type": "code",
        "colab": {
          "autoexec": {
            "startup": false,
            "wait_interval": 0
          }
        }
      },
      "cell_type": "code",
      "source": [
        "import requests, json, time, urllib3, io\n",
        "import pandas as pd"
      ],
      "execution_count": 0,
      "outputs": []
    },
    {
      "metadata": {
        "id": "q6iyUmlHjwdk",
        "colab_type": "code",
        "colab": {
          "autoexec": {
            "startup": false,
            "wait_interval": 0
          }
        }
      },
      "cell_type": "code",
      "source": [
        "headers = {'User-Agent': 'Mozilla/5.0 (Macintosh; Intel Mac OS X 10_10_1) AppleWebKit/537.36 (KHTML, like Gecko) Chrome/39.0.2171.95 Safari/537.36'}\n"
      ],
      "execution_count": 0,
      "outputs": []
    },
    {
      "metadata": {
        "id": "hMbvwgzOkZ1i",
        "colab_type": "text"
      },
      "cell_type": "markdown",
      "source": [
        "etherscan.io"
      ]
    },
    {
      "metadata": {
        "id": "3RH1xdvVj5kV",
        "colab_type": "code",
        "colab": {
          "autoexec": {
            "startup": false,
            "wait_interval": 0
          }
        }
      },
      "cell_type": "code",
      "source": [
        "url = \"https://etherscan.io/chart/etherprice?output=csv\"\n",
        "response = requests.get(url, headers = headers)"
      ],
      "execution_count": 0,
      "outputs": []
    },
    {
      "metadata": {
        "id": "LrC1-v9akwUt",
        "colab_type": "code",
        "colab": {
          "autoexec": {
            "startup": false,
            "wait_interval": 0
          },
          "base_uri": "https://localhost:8080/",
          "height": 421
        },
        "outputId": "83001a96-e691-45d1-94fd-edd8fcd18f04",
        "executionInfo": {
          "status": "ok",
          "timestamp": 1527608829283,
          "user_tz": 240,
          "elapsed": 408,
          "user": {
            "displayName": "Jay Lohokare",
            "photoUrl": "//lh3.googleusercontent.com/-0bBtDx-OpcA/AAAAAAAAAAI/AAAAAAAAo0k/wOog6yUZ1yM/s50-c-k-no/photo.jpg",
            "userId": "101298074449851112405"
          }
        }
      },
      "cell_type": "code",
      "source": [
        "df = pd.read_table(io.StringIO(response.content.decode(\"UTF-8\")), sep=',')\n",
        "print(df.columns)\n",
        "print(df.info())\n",
        "print(df.head())\n",
        "print(df.tail())"
      ],
      "execution_count": 10,
      "outputs": [
        {
          "output_type": "stream",
          "text": [
            "Index(['Date(UTC)', 'UnixTimeStamp', 'Value'], dtype='object')\n",
            "<class 'pandas.core.frame.DataFrame'>\n",
            "RangeIndex: 1031 entries, 0 to 1030\n",
            "Data columns (total 3 columns):\n",
            "Date(UTC)        1031 non-null object\n",
            "UnixTimeStamp    1031 non-null int64\n",
            "Value            1031 non-null float64\n",
            "dtypes: float64(1), int64(1), object(1)\n",
            "memory usage: 24.2+ KB\n",
            "None\n",
            "   Date(UTC)  UnixTimeStamp  Value\n",
            "0  7/30/2015     1438214400    0.0\n",
            "1  7/31/2015     1438300800    0.0\n",
            "2   8/1/2015     1438387200    0.0\n",
            "3   8/2/2015     1438473600    0.0\n",
            "4   8/3/2015     1438560000    0.0\n",
            "      Date(UTC)  UnixTimeStamp   Value\n",
            "1026  5/24/2018     1527120000    0.00\n",
            "1027  5/25/2018     1527206400  584.77\n",
            "1028  5/26/2018     1527292800  585.76\n",
            "1029  5/27/2018     1527379200  569.64\n",
            "1030  5/28/2018     1527465600  512.03\n"
          ],
          "name": "stdout"
        }
      ]
    },
    {
      "metadata": {
        "id": "7BjK-oXSlEOl",
        "colab_type": "code",
        "colab": {
          "autoexec": {
            "startup": false,
            "wait_interval": 0
          }
        }
      },
      "cell_type": "code",
      "source": [
        ""
      ],
      "execution_count": 0,
      "outputs": []
    }
  ]
}