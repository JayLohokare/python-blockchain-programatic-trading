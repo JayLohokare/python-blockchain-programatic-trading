{
  "nbformat": 4,
  "nbformat_minor": 0,
  "metadata": {
    "colab": {
      "name": "Theory",
      "version": "0.3.2",
      "views": {},
      "default_view": {},
      "provenance": [],
      "collapsed_sections": []
    }
  },
  "cells": [
    {
      "metadata": {
        "id": "TKz4PKcO8UV5",
        "colab_type": "text"
      },
      "cell_type": "markdown",
      "source": [
        "**Trade Blotter**\n",
        "- Trade blotter is basically a DS\n",
        "- Quantity, Price, Asset, exahange, etc is a part of Blotter\n",
        "- Profit, Loss is NOT a part of the blotter\n",
        "\n",
        "Trade blotter is *Append only* (Errors can be edited in some cases)\n",
        "\n",
        "One row = One trade in Trade blotter\n",
        "\n",
        "Blotters are in charge of one entity -> Can be a wallet, person, organizations, etc\n",
        "\n"
      ]
    },
    {
      "metadata": {
        "id": "BxPNzBymC1if",
        "colab_type": "text"
      },
      "cell_type": "markdown",
      "source": [
        "</br>\n",
        "**Profit & Loss:**<br>\n",
        "In PnL, One row represents SIGNLE asset.\n",
        "On Trade Blotter, there can be multiple rows per asset\n",
        "Eg: PnL will have just one row for Btc. There can be multiple rows in Blotter for Btc\n",
        "\n",
        "P&L has a base currency - BTC USD and BTC USD are 2 different assets (Per exchange)\n",
        "\n",
        "Content of P&L:<br>\n",
        "-Symbol <br>\n",
        "-Quantitiy = Updated at every trade<br>\n",
        "-UPL = Unrealized (Not sold yet). Updated at every tick (Real time)<br>\n",
        "-RPL = Realized profit and loss (Sold and actually got the money). Updated every closed transcation (Everytime we sell)<br>\n",
        "-VWAP = Volume weighted average pricing. <br>\n",
        "Suppose 100 share for 50 dollars, and another 25 shares for 75 dollars  Total value per share = 55. Sell at this value to break even. Sell at more to get profit. \n",
        "Update the VWAP at new Buys only\n",
        "\n",
        "\n",
        "Blotter is history of transcations. P&L is snaptshot of assets at a given value at time."
      ]
    },
    {
      "metadata": {
        "id": "ZkFWqGk8_94k",
        "colab_type": "text"
      },
      "cell_type": "markdown",
      "source": [
        "**Whats different in Crypto?**\n",
        "- 24/7 market<br> \n",
        "- Volatility (High)<br> \n",
        "- Liquidity (Low)<br> \n",
        "- Transactions rate<br> \n",
        "- Front running (Capitalize on price movement when u see someone doing huge transcations) -> People increase gas price to make sure your transcations happen before queued transcations so as to benefit - Do something before the big transactions move the market<br> \n",
        "- Specific a base fiat<br> "
      ]
    },
    {
      "metadata": {
        "id": "uEHe8QqWBpfd",
        "colab_type": "text"
      },
      "cell_type": "markdown",
      "source": [
        "**Limit Order Book**\n",
        "\n",
        "Limit order = An order placed while buying/selling that contain the min (For selling) and max(for buying) values assets.\n",
        "\n",
        "Currently Limit orders in Crpyto are free - To show liquidity in markte\n",
        "\n",
        "The more prices and more the corresponding quantities, deeper the Limit order book, more the liquidity"
      ]
    },
    {
      "metadata": {
        "id": "fLtwTb2wByDp",
        "colab_type": "text"
      },
      "cell_type": "markdown",
      "source": [
        "**Exchanges**\n",
        "- Decentralized exhange = Based on mutiple hosts, no single entity\n",
        "- Centralized exchange = Someone holds money, may charge some money for transcations\n",
        "\n",
        "Coinbase (Centralized) has one wallet -> \n",
        "They have their own blotter. They *Do not* give users Ethereum keys as users not connected to main chain. \n",
        "\n"
      ]
    }
  ]
}