{
  "nbformat": 4,
  "nbformat_minor": 0,
  "metadata": {
    "colab": {
      "name": "Exercise 2",
      "version": "0.3.2",
      "views": {},
      "default_view": {},
      "provenance": []
    },
    "kernelspec": {
      "name": "python3",
      "display_name": "Python 3"
    }
  },
  "cells": [
    {
      "metadata": {
        "id": "yUDBEoI8Qxxj",
        "colab_type": "code",
        "colab": {
          "autoexec": {
            "startup": false,
            "wait_interval": 0
          },
          "base_uri": "https://localhost:8080/",
          "height": 72
        },
        "outputId": "551fb40a-a214-47fd-d967-c0bf1eff6b24",
        "executionInfo": {
          "status": "ok",
          "timestamp": 1527603596994,
          "user_tz": 240,
          "elapsed": 2709,
          "user": {
            "displayName": "Jay Lohokare",
            "photoUrl": "//lh3.googleusercontent.com/-0bBtDx-OpcA/AAAAAAAAAAI/AAAAAAAAo0k/wOog6yUZ1yM/s50-c-k-no/photo.jpg",
            "userId": "101298074449851112405"
          }
        }
      },
      "cell_type": "code",
      "source": [
        "  !pip install blockchain\n"
      ],
      "execution_count": 1,
      "outputs": [
        {
          "output_type": "stream",
          "text": [
            "Requirement already satisfied: blockchain in /usr/local/lib/python3.6/dist-packages (1.4.4)\r\n",
            "Requirement already satisfied: future in /usr/local/lib/python3.6/dist-packages (from blockchain) (0.16.0)\r\n",
            "Requirement already satisfied: enum-compat in /usr/local/lib/python3.6/dist-packages (from blockchain) (0.0.2)\r\n"
          ],
          "name": "stdout"
        }
      ]
    },
    {
      "metadata": {
        "id": "hTPv7QISQ3Os",
        "colab_type": "code",
        "colab": {
          "autoexec": {
            "startup": false,
            "wait_interval": 0
          }
        }
      },
      "cell_type": "code",
      "source": [
        "from blockchain import exchangerates as er"
      ],
      "execution_count": 0,
      "outputs": []
    },
    {
      "metadata": {
        "id": "a5OdugXIRHqP",
        "colab_type": "code",
        "colab": {
          "autoexec": {
            "startup": false,
            "wait_interval": 0
          }
        }
      },
      "cell_type": "code",
      "source": [
        "currency_symbols = er.get_ticker()\n",
        "for i in currency_symbols:\n",
        "  print(i)\n",
        "  #Gets all currencies"
      ],
      "execution_count": 0,
      "outputs": []
    },
    {
      "metadata": {
        "id": "yn5t3Z6gRR9L",
        "colab_type": "code",
        "colab": {
          "autoexec": {
            "startup": false,
            "wait_interval": 0
          }
        }
      },
      "cell_type": "code",
      "source": [
        "def satoshi_to_btc(satoshi):\n",
        "  return satoshi/100000000\n",
        "  #1 Bitcoin = 100 million Satoshis"
      ],
      "execution_count": 0,
      "outputs": []
    },
    {
      "metadata": {
        "id": "tJGA09_-Rfbg",
        "colab_type": "code",
        "colab": {
          "autoexec": {
            "startup": false,
            "wait_interval": 0
          }
        }
      },
      "cell_type": "code",
      "source": [
        "for i in currency_symbols:\n",
        "  print(i, \": \", currency_symbols[i].p15min)\n",
        "  #Get rate of 1 btc (With 15 min delay)\n",
        "  "
      ],
      "execution_count": 0,
      "outputs": []
    },
    {
      "metadata": {
        "id": "cCQLDNETSEgR",
        "colab_type": "code",
        "colab": {
          "autoexec": {
            "startup": false,
            "wait_interval": 0
          }
        }
      },
      "cell_type": "code",
      "source": [
        "for i in currency_symbols:\n",
        "  print(i, \": \", 1/currency_symbols[i].p15min)\n",
        "  #Get unit rate of btc with 15 mins delay\n",
        "  "
      ],
      "execution_count": 0,
      "outputs": []
    },
    {
      "metadata": {
        "id": "RJ7PdFbTSdvL",
        "colab_type": "code",
        "colab": {
          "autoexec": {
            "startup": false,
            "wait_interval": 0
          },
          "base_uri": "https://localhost:8080/",
          "height": 35
        },
        "outputId": "a0d48e02-d07f-4d2b-88ad-8b6f6a85609e",
        "executionInfo": {
          "status": "ok",
          "timestamp": 1527604241437,
          "user_tz": 240,
          "elapsed": 501,
          "user": {
            "displayName": "Jay Lohokare",
            "photoUrl": "//lh3.googleusercontent.com/-0bBtDx-OpcA/AAAAAAAAAAI/AAAAAAAAo0k/wOog6yUZ1yM/s50-c-k-no/photo.jpg",
            "userId": "101298074449851112405"
          }
        }
      },
      "cell_type": "code",
      "source": [
        "i = 5000\n",
        "curr = 'USD'\n",
        "cad_base_btc = er.to_btc(curr, i)\n",
        "print(cad_base_btc, curr,\"equals\", i, \"BTC\")"
      ],
      "execution_count": 29,
      "outputs": [
        {
          "output_type": "stream",
          "text": [
            "0.67403885 USD equals 5000 BTC\n"
          ],
          "name": "stdout"
        }
      ]
    },
    {
      "metadata": {
        "id": "8kQCeflSS6YW",
        "colab_type": "code",
        "colab": {
          "autoexec": {
            "startup": false,
            "wait_interval": 0
          }
        }
      },
      "cell_type": "code",
      "source": [
        ""
      ],
      "execution_count": 0,
      "outputs": []
    }
  ]
}