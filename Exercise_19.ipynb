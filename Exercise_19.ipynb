{
  "nbformat": 4,
  "nbformat_minor": 0,
  "metadata": {
    "colab": {
      "name": "Exercise 19",
      "version": "0.3.2",
      "views": {},
      "default_view": {},
      "provenance": [],
      "collapsed_sections": []
    }
  },
  "cells": [
    {
      "metadata": {
        "id": "3veGdqH-gMus",
        "colab_type": "code",
        "colab": {
          "autoexec": {
            "startup": false,
            "wait_interval": 0
          }
        }
      },
      "cell_type": "code",
      "source": [
        "import requests, json, time, urllib3, io\n",
        "import matplotlib.pyplot as plt\n",
        "import pandas as pd\n",
        "import datetime as dt"
      ],
      "execution_count": 0,
      "outputs": []
    },
    {
      "metadata": {
        "id": "930wa9J1gPdt",
        "colab_type": "code",
        "colab": {
          "autoexec": {
            "startup": false,
            "wait_interval": 0
          }
        }
      },
      "cell_type": "code",
      "source": [
        "def load(url, printout=False, remove_bottom_rows=0, remove_columns =[]):\n",
        "  headers = {'User-Agent': 'Mozilla/5.0 (Macintosh; Intel Mac OS X 10_10_1) AppleWebKit/537.36 (KHTML, like Gecko) Chrome/39.0.2171.95 Safari/537.36'}\n",
        "  response = requests.get(url, headers = headers)\n",
        "  df = pd.read_json(response.text)\n",
        "  \n",
        "  if remove_bottom_rows > 0:\n",
        "    df.drop(df.tail(remove_bottom_rows).index, inplace=True)\n",
        "    \n",
        "  df.drop(columns=remove_columns, axis=1, inplace=True)\n",
        "  \n",
        "  df = df.dropna(axis=1)\n",
        "  \n",
        "  if printout:\n",
        "    print(df.head())\n",
        "    print(df.shape)\n",
        "    \n",
        "  return df\n",
        "\n",
        "  "
      ],
      "execution_count": 0,
      "outputs": []
    },
    {
      "metadata": {
        "id": "Rm4XxFSSgQgc",
        "colab_type": "code",
        "colab": {
          "autoexec": {
            "startup": false,
            "wait_interval": 0
          }
        }
      },
      "cell_type": "code",
      "source": [
        "def get_trades_for_product(product_id):\n",
        "  type = '/trades'\n",
        "  url = \"https://api.gdax.com/products/\" + product_id + type\n",
        "  return load(url)"
      ],
      "execution_count": 0,
      "outputs": []
    },
    {
      "metadata": {
        "id": "VPDk3MlPgRZ8",
        "colab_type": "code",
        "colab": {
          "autoexec": {
            "startup": false,
            "wait_interval": 0
          }
        }
      },
      "cell_type": "code",
      "source": [
        "def initialize_blotter():\n",
        "  col_names = ['Timestamp', 'Pair', 'Quantitiy', 'Executed Price']\n",
        "  df = pd.DataFrame(columns = col_names)\n",
        "  return df, col_names\n",
        "  "
      ],
      "execution_count": 0,
      "outputs": []
    },
    {
      "metadata": {
        "id": "zZHJiVg2gSTM",
        "colab_type": "code",
        "colab": {
          "autoexec": {
            "startup": false,
            "wait_interval": 0
          }
        }
      },
      "cell_type": "code",
      "source": [
        "def get_price(pair):\n",
        "  type = '/book'\n",
        "  url = \"https://api.gdax.com/products/\" + pair + type\n",
        "  df = load(url)\n",
        "  ask = df.iloc[0]['asks'][0]\n",
        "  bid = df.iloc[0]['bids'][0]\n",
        "  return bid, ask"
      ],
      "execution_count": 0,
      "outputs": []
    },
    {
      "metadata": {
        "id": "EcPI_EnUgTkz",
        "colab_type": "code",
        "colab": {
          "autoexec": {
            "startup": false,
            "wait_interval": 0
          }
        }
      },
      "cell_type": "code",
      "source": [
        "def initialize_pl(pairs):\n",
        "  col_names = ['Pair', 'Positions', 'VMAP', 'UPL', 'RPL']\n",
        "  pl = pd.DataFrame(columns=col_names)\n",
        "  for p in pairs:\n",
        "    data = pd.DataFrame([[p,0,0,0,0]], columns = col_names)\n",
        "    pl = pl.append(data, ignore_index = True)\n",
        "  return pl, col_names"
      ],
      "execution_count": 0,
      "outputs": []
    },
    {
      "metadata": {
        "id": "Q8tMNeckgUea",
        "colab_type": "code",
        "colab": {
          "autoexec": {
            "startup": false,
            "wait_interval": 0
          }
        }
      },
      "cell_type": "code",
      "source": [
        "def trade(blotter, pl, qty, pair):\n",
        "  bid, ask = get_price(pair)\n",
        "  if qty > 0:\n",
        "    price = ask\n",
        "  else:\n",
        "    price = bid\n",
        "  \n",
        "  data = pd.DataFrame([[dt.datetime.now(), pair, qty, price]], columns=['Timestamp', 'Pair', 'Quantitiy', 'Executed Price'])\n",
        "  \n",
        "  blotter = blotter.append(data, ignore_index = True)\n",
        "  pl = update_pl(pl, pair, qty, price)\n",
        "  return blotter, pl"
      ],
      "execution_count": 0,
      "outputs": []
    },
    {
      "metadata": {
        "id": "6B20iMgWgdUX",
        "colab_type": "code",
        "colab": {
          "autoexec": {
            "startup": false,
            "wait_interval": 0
          }
        }
      },
      "cell_type": "code",
      "source": [
        "def calc_vwap(current_quantity, current_vwap, qty, price):\n",
        "  current_dollar = current_qty * curretn_vwap\n",
        "  new_dollar = current_dollar + (qty*price)\n",
        "  new_qty = current_qty + qty\n",
        "  new_vwap = new_dollar / new_qty\n",
        "  return new_vwap\n",
        "  "
      ],
      "execution_count": 0,
      "outputs": []
    },
    {
      "metadata": {
        "id": "Jx4mn6GchaIk",
        "colab_type": "code",
        "colab": {
          "autoexec": {
            "startup": false,
            "wait_interval": 0
          }
        }
      },
      "cell_type": "code",
      "source": [
        "def update_pl(pl, pair, qty, price):\n",
        "  if qty > 0:#buy\n",
        "    curretn_qty = pl.at[pair, 'Position']\n",
        "    current_vwap = pl.at[pair, 'VWAP']\n",
        "    new_vwap = current_dollar(current_qty, current_vwap, qty, price)\n",
        "    pl.at[pair, 'Position'] = current_qty + qty\n",
        "    pl.at[pair, 'VWAP'] = new_vwap\n",
        "    # TODO: Recalc, UPL, etc...\n",
        "    \n",
        "  else:#Sell\n",
        "    pass\n",
        "  #Nothing changes here\n",
        "  \n",
        "  \n",
        "  return pl\n",
        "    \n",
        "    "
      ],
      "execution_count": 0,
      "outputs": []
    },
    {
      "metadata": {
        "id": "vaKPXBLDgVe-",
        "colab_type": "code",
        "colab": {
          "autoexec": {
            "startup": false,
            "wait_interval": 0
          }
        }
      },
      "cell_type": "code",
      "source": [
        "pairs = ['eth-usd', 'btc-usd']\n",
        "blotter, col_names = initialize_blotter()\n",
        "pl, pl_col_names = initialize_pl(pairs)\n",
        "\n",
        "\n",
        "#Coin Codes\n",
        "ETH_USD = 0\n",
        "BTC_USD = 1\n",
        "\n",
        "blotter = trade(blotter, pl, 1, pairs[ETH_USD])\n",
        "blotter = trade(blotter, pl, 2, pairs[ETH_USD])\n",
        "blotter = trade(blotter, pl, -1, pairs[BTC_USD])\n",
        "\n",
        "print(blotter)"
      ],
      "execution_count": 0,
      "outputs": []
    }
  ]
}