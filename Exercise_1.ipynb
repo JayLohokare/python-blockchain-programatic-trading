{
  "nbformat": 4,
  "nbformat_minor": 0,
  "metadata": {
    "colab": {
      "name": "Exercise 1",
      "version": "0.3.2",
      "views": {},
      "default_view": {},
      "provenance": []
    },
    "kernelspec": {
      "name": "python3",
      "display_name": "Python 3"
    }
  },
  "cells": [
    {
      "metadata": {
        "id": "WJgQyX3MAwG_",
        "colab_type": "code",
        "colab": {
          "autoexec": {
            "startup": false,
            "wait_interval": 0
          }
        }
      },
      "cell_type": "code",
      "source": [
        "!pip install pandas\n",
        "!pip install matplotlib\n",
        "!pip install requests\n",
        "!pip install json\n",
        "!pip install blockchain\n",
        "!pip install bitcoin\n",
        "!pip install scilearn\n",
        "!pip install scipy"
      ],
      "execution_count": 0,
      "outputs": []
    },
    {
      "metadata": {
        "id": "HjLm4wrdDVU_",
        "colab_type": "code",
        "colab": {
          "autoexec": {
            "startup": false,
            "wait_interval": 0
          }
        }
      },
      "cell_type": "code",
      "source": [
        "from blockchain import blockexplorer as bc"
      ],
      "execution_count": 0,
      "outputs": []
    },
    {
      "metadata": {
        "id": "DWhJ1KIPFiDQ",
        "colab_type": "code",
        "colab": {
          "autoexec": {
            "startup": false,
            "wait_interval": 0
          }
        }
      },
      "cell_type": "code",
      "source": [
        "latest_block = bc.get_latest_block()"
      ],
      "execution_count": 0,
      "outputs": []
    },
    {
      "metadata": {
        "id": "3BBimlDFFpc_",
        "colab_type": "code",
        "colab": {
          "autoexec": {
            "startup": false,
            "wait_interval": 0
          },
          "base_uri": "https://localhost:8080/",
          "height": 35
        },
        "outputId": "ddf9fa9a-9207-4cbb-de7a-2316a49e0009",
        "executionInfo": {
          "status": "ok",
          "timestamp": 1527600776987,
          "user_tz": 240,
          "elapsed": 2722,
          "user": {
            "displayName": "Jay Lohokare",
            "photoUrl": "//lh3.googleusercontent.com/-0bBtDx-OpcA/AAAAAAAAAAI/AAAAAAAAo0k/wOog6yUZ1yM/s50-c-k-no/photo.jpg",
            "userId": "101298074449851112405"
          }
        }
      },
      "cell_type": "code",
      "source": [
        "print(latest_block.height)\n",
        "#Genesis block = 0\n",
        "#This code returns the latest Bitcoin block Id\n",
        "#Height = Number of blocks in longest chain"
      ],
      "execution_count": 6,
      "outputs": [
        {
          "output_type": "stream",
          "text": [
            "524971\n"
          ],
          "name": "stdout"
        }
      ]
    },
    {
      "metadata": {
        "id": "ulHf_ayFGHV_",
        "colab_type": "code",
        "colab": {
          "autoexec": {
            "startup": false,
            "wait_interval": 0
          },
          "base_uri": "https://localhost:8080/",
          "height": 35
        },
        "outputId": "ace20d1b-3e1c-4d76-d191-a1a3a7409702",
        "executionInfo": {
          "status": "ok",
          "timestamp": 1527600856054,
          "user_tz": 240,
          "elapsed": 1802,
          "user": {
            "displayName": "Jay Lohokare",
            "photoUrl": "//lh3.googleusercontent.com/-0bBtDx-OpcA/AAAAAAAAAAI/AAAAAAAAo0k/wOog6yUZ1yM/s50-c-k-no/photo.jpg",
            "userId": "101298074449851112405"
          }
        }
      },
      "cell_type": "code",
      "source": [
        "print(\"Latest hash:\", latest_block.hash)"
      ],
      "execution_count": 7,
      "outputs": [
        {
          "output_type": "stream",
          "text": [
            "Latest hash: 00000000000000000035933348e834e4bc2574c1fb549145ed46a5b8e5296c87\n"
          ],
          "name": "stdout"
        }
      ]
    },
    {
      "metadata": {
        "id": "2248MUD-GzSP",
        "colab_type": "code",
        "colab": {
          "autoexec": {
            "startup": false,
            "wait_interval": 0
          }
        }
      },
      "cell_type": "code",
      "source": [
        "#UTXos\n",
        "#This is how Bitcoin handles movement of value on the chain\n",
        "#Unused transcation ouptuts\n",
        "#Consider Transfer of 2 btc when u have 12.5 btc\n",
        "#U transfer 2 Btc, and then 10.5 btc come back to you - Ensuring that you have 10.5 btc\n",
        "#This 10.5 is UTXO\n"
      ],
      "execution_count": 0,
      "outputs": []
    },
    {
      "metadata": {
        "id": "gwBlzCXWIYZe",
        "colab_type": "code",
        "colab": {
          "autoexec": {
            "startup": false,
            "wait_interval": 0
          }
        }
      },
      "cell_type": "code",
      "source": [
        "#A block's 1st transcation is called 'coin base' -> Contains the reward for the miners\n"
      ],
      "execution_count": 0,
      "outputs": []
    },
    {
      "metadata": {
        "id": "by2ehmSYIp2x",
        "colab_type": "code",
        "colab": {
          "autoexec": {
            "startup": false,
            "wait_interval": 0
          }
        }
      },
      "cell_type": "code",
      "source": [
        "pizza_tx_hash = \"a1075db55d416d3ca199f55b6084e2115b9345e16c5cf302fc80e9d5fbf5d48d\"\n",
        "\n",
        "pizza_block_hash = \"00000000152340ca42227603908689183edc47355204e7aca59383b0aaac1fd8\"\n",
        "\n",
        "\n",
        "laszlo_addr = \"1XPTgDRhN8RFnzniWCddobD9iKZatrvH4\""
      ],
      "execution_count": 0,
      "outputs": []
    },
    {
      "metadata": {
        "id": "bhdTZUnhJSFq",
        "colab_type": "code",
        "colab": {
          "autoexec": {
            "startup": false,
            "wait_interval": 0
          }
        }
      },
      "cell_type": "code",
      "source": [
        "#1st BTC transcation was a order for pizza \n",
        "#A guy sent over 10000 btc to order pizza from Papa jones \n",
        "#We are dealing with that transactions hash here"
      ],
      "execution_count": 0,
      "outputs": []
    },
    {
      "metadata": {
        "id": "BtsuomlBIuqj",
        "colab_type": "code",
        "colab": {
          "autoexec": {
            "startup": false,
            "wait_interval": 0
          },
          "base_uri": "https://localhost:8080/",
          "height": 35
        },
        "outputId": "43d8a71d-4dc6-4b3b-9234-25aa10bb7d88",
        "executionInfo": {
          "status": "ok",
          "timestamp": 1527601572419,
          "user_tz": 240,
          "elapsed": 1859,
          "user": {
            "displayName": "Jay Lohokare",
            "photoUrl": "//lh3.googleusercontent.com/-0bBtDx-OpcA/AAAAAAAAAAI/AAAAAAAAo0k/wOog6yUZ1yM/s50-c-k-no/photo.jpg",
            "userId": "101298074449851112405"
          }
        }
      },
      "cell_type": "code",
      "source": [
        "pizza_block = bc.get_block(pizza_block_hash)\n",
        "print(pizza_block.height)"
      ],
      "execution_count": 12,
      "outputs": [
        {
          "output_type": "stream",
          "text": [
            "57043\n"
          ],
          "name": "stdout"
        }
      ]
    },
    {
      "metadata": {
        "id": "D23BrJR5JL0Z",
        "colab_type": "code",
        "colab": {
          "autoexec": {
            "startup": false,
            "wait_interval": 0
          },
          "base_uri": "https://localhost:8080/",
          "height": 35
        },
        "outputId": "2e084fa7-1a70-4011-f222-35930d1dbd9f",
        "executionInfo": {
          "status": "ok",
          "timestamp": 1527602770840,
          "user_tz": 240,
          "elapsed": 1037,
          "user": {
            "displayName": "Jay Lohokare",
            "photoUrl": "//lh3.googleusercontent.com/-0bBtDx-OpcA/AAAAAAAAAAI/AAAAAAAAo0k/wOog6yUZ1yM/s50-c-k-no/photo.jpg",
            "userId": "101298074449851112405"
          }
        }
      },
      "cell_type": "code",
      "source": [
        "pizza_tx = bc.get_tx(pizza_tx_hash)\n",
        "#Contains the transcations for a particular hash -> Pizza hash here\n",
        "print(pizza_tx)\n"
      ],
      "execution_count": 42,
      "outputs": [
        {
          "output_type": "stream",
          "text": [
            "<blockchain.blockexplorer.Transaction object at 0x7ff12acae0f0>\n"
          ],
          "name": "stdout"
        }
      ]
    },
    {
      "metadata": {
        "id": "uB7M-SmlLDOT",
        "colab_type": "code",
        "colab": {
          "autoexec": {
            "startup": false,
            "wait_interval": 0
          }
        }
      },
      "cell_type": "code",
      "source": [
        "def satoshi_to_btc(satoshi):\n",
        "  return satoshi/100000000\n",
        "  #1 Bitcoin = 100 million Satoshis"
      ],
      "execution_count": 0,
      "outputs": []
    },
    {
      "metadata": {
        "id": "JTFALjiqJxdj",
        "colab_type": "code",
        "colab": {
          "autoexec": {
            "startup": false,
            "wait_interval": 0
          },
          "base_uri": "https://localhost:8080/",
          "height": 35
        },
        "outputId": "3c17385e-e4d3-4420-9806-edd8d5b5e897",
        "executionInfo": {
          "status": "ok",
          "timestamp": 1527602682070,
          "user_tz": 240,
          "elapsed": 515,
          "user": {
            "displayName": "Jay Lohokare",
            "photoUrl": "//lh3.googleusercontent.com/-0bBtDx-OpcA/AAAAAAAAAAI/AAAAAAAAo0k/wOog6yUZ1yM/s50-c-k-no/photo.jpg",
            "userId": "101298074449851112405"
          }
        }
      },
      "cell_type": "code",
      "source": [
        "for i in pizza_tx.outputs:\n",
        "  print(satoshi_to_btc(i.value))\n",
        "  #Print the value of transcations\n",
        "  #This is the number of Satoshis \n",
        "  "
      ],
      "execution_count": 34,
      "outputs": [
        {
          "output_type": "stream",
          "text": [
            "10000.0\n"
          ],
          "name": "stdout"
        }
      ]
    },
    {
      "metadata": {
        "id": "z3_BFGV1KBGV",
        "colab_type": "code",
        "colab": {
          "autoexec": {
            "startup": false,
            "wait_interval": 0
          },
          "base_uri": "https://localhost:8080/",
          "height": 35
        },
        "outputId": "4ddba7a7-3583-4926-afef-3547de0456ac",
        "executionInfo": {
          "status": "ok",
          "timestamp": 1527603016407,
          "user_tz": 240,
          "elapsed": 476,
          "user": {
            "displayName": "Jay Lohokare",
            "photoUrl": "//lh3.googleusercontent.com/-0bBtDx-OpcA/AAAAAAAAAAI/AAAAAAAAo0k/wOog6yUZ1yM/s50-c-k-no/photo.jpg",
            "userId": "101298074449851112405"
          }
        }
      },
      "cell_type": "code",
      "source": [
        "total_outs = 0\n",
        "for i in pizza_tx.inputs:\n",
        "  temp = satoshi_to_btc(i.value)\n",
        "#   print(temp)\n",
        "  total_outs += temp\n",
        "  #Will print a list of UTXos that together form the 10000btc\n",
        "  #The total value of 10000 may be transfered in multple clumps of UTXos\n",
        "  \n",
        "print(total_outs)\n",
        "#Extra 0.989999 btc sent!\n",
        "#This will come back after the transaction\n",
        "#The balance is always mantained\n"
      ],
      "execution_count": 49,
      "outputs": [
        {
          "output_type": "stream",
          "text": [
            "10000.989999999998\n"
          ],
          "name": "stdout"
        }
      ]
    },
    {
      "metadata": {
        "id": "3zxZXdl7K7ZB",
        "colab_type": "code",
        "colab": {
          "autoexec": {
            "startup": false,
            "wait_interval": 0
          },
          "base_uri": "https://localhost:8080/",
          "height": 35
        },
        "outputId": "701b4dfd-149b-421a-cc9d-e8bca4497b51",
        "executionInfo": {
          "status": "ok",
          "timestamp": 1527602779087,
          "user_tz": 240,
          "elapsed": 402,
          "user": {
            "displayName": "Jay Lohokare",
            "photoUrl": "//lh3.googleusercontent.com/-0bBtDx-OpcA/AAAAAAAAAAI/AAAAAAAAo0k/wOog6yUZ1yM/s50-c-k-no/photo.jpg",
            "userId": "101298074449851112405"
          }
        }
      },
      "cell_type": "code",
      "source": [
        "pizza_cost = format(pizza_tx.outputs[-1].value)\n",
        "print(pizza_cost)"
      ],
      "execution_count": 44,
      "outputs": [
        {
          "output_type": "stream",
          "text": [
            "1000000000000\n"
          ],
          "name": "stdout"
        }
      ]
    },
    {
      "metadata": {
        "id": "n1YE4EifNpCP",
        "colab_type": "code",
        "colab": {
          "autoexec": {
            "startup": false,
            "wait_interval": 0
          },
          "base_uri": "https://localhost:8080/",
          "height": 35
        },
        "outputId": "41d035b3-a42f-4556-9236-d44dfb6b369e",
        "executionInfo": {
          "status": "ok",
          "timestamp": 1527603189882,
          "user_tz": 240,
          "elapsed": 630,
          "user": {
            "displayName": "Jay Lohokare",
            "photoUrl": "//lh3.googleusercontent.com/-0bBtDx-OpcA/AAAAAAAAAAI/AAAAAAAAo0k/wOog6yUZ1yM/s50-c-k-no/photo.jpg",
            "userId": "101298074449851112405"
          }
        }
      },
      "cell_type": "code",
      "source": [
        "laszlo_all_tx = bc.get_address(laszlo_addr).transactions\n",
        "total_trans_by_laszlo = 0\n",
        "for i in laszlo_all_tx:\n",
        "  for j in i.outputs:\n",
        "    temp_val = j.value\n",
        "#     print(satoshi_to_btc(j.value))\n",
        "    total_trans_by_laszlo += temp_val\n",
        "    \n",
        "print(total_trans_by_laszlo)"
      ],
      "execution_count": 55,
      "outputs": [
        {
          "output_type": "stream",
          "text": [
            "1317605653349\n"
          ],
          "name": "stdout"
        }
      ]
    },
    {
      "metadata": {
        "id": "CRnt3gi8NqVS",
        "colab_type": "code",
        "colab": {
          "autoexec": {
            "startup": false,
            "wait_interval": 0
          }
        }
      },
      "cell_type": "code",
      "source": [
        ""
      ],
      "execution_count": 0,
      "outputs": []
    }
  ]
}