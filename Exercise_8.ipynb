{
  "nbformat": 4,
  "nbformat_minor": 0,
  "metadata": {
    "colab": {
      "name": "Exercise 8",
      "version": "0.3.2",
      "views": {},
      "default_view": {},
      "provenance": []
    },
    "kernelspec": {
      "name": "python3",
      "display_name": "Python 3"
    }
  },
  "cells": [
    {
      "metadata": {
        "id": "QEfMLw2vmmf2",
        "colab_type": "code",
        "colab": {
          "autoexec": {
            "startup": false,
            "wait_interval": 0
          }
        }
      },
      "cell_type": "code",
      "source": [
        "!pip install urllib3\n",
        "!pip install pandas\n",
        "!pip install matplotlib"
      ],
      "execution_count": 0,
      "outputs": []
    },
    {
      "metadata": {
        "id": "YfHogjdEmoqn",
        "colab_type": "code",
        "colab": {
          "autoexec": {
            "startup": false,
            "wait_interval": 0
          }
        }
      },
      "cell_type": "code",
      "source": [
        "import requests, json, time, urllib3, io\n",
        "import matplotlib.pyplot as plt\n",
        "import pandas as pd"
      ],
      "execution_count": 0,
      "outputs": []
    },
    {
      "metadata": {
        "id": "_sjPqovxw2MN",
        "colab_type": "code",
        "colab": {
          "autoexec": {
            "startup": false,
            "wait_interval": 0
          }
        }
      },
      "cell_type": "code",
      "source": [
        ""
      ],
      "execution_count": 0,
      "outputs": []
    },
    {
      "metadata": {
        "id": "3mcboJGLmq_t",
        "colab_type": "code",
        "colab": {
          "autoexec": {
            "startup": false,
            "wait_interval": 0
          }
        }
      },
      "cell_type": "code",
      "source": [
        "headers = {'User-Agent': 'Mozilla/5.0 (Macintosh; Intel Mac OS X 10_10_1) AppleWebKit/537.36 (KHTML, like Gecko) Chrome/39.0.2171.95 Safari/537.36'}\n",
        "\n",
        "url = \"https://etherscan.io/chart/etherprice?output=csv\"\n",
        "response = requests.get(url, headers = headers)\n"
      ],
      "execution_count": 0,
      "outputs": []
    },
    {
      "metadata": {
        "id": "TR4e3Ka8m3Fd",
        "colab_type": "code",
        "colab": {
          "autoexec": {
            "startup": false,
            "wait_interval": 0
          }
        }
      },
      "cell_type": "code",
      "source": [
        "dfEth = pd.read_table(io.StringIO(response.content.decode(\"UTF-8\")), sep=',')\n",
        "print(dfEth)"
      ],
      "execution_count": 0,
      "outputs": []
    },
    {
      "metadata": {
        "id": "uilEk0-vm5oN",
        "colab_type": "code",
        "colab": {
          "autoexec": {
            "startup": false,
            "wait_interval": 0
          },
          "base_uri": "https://localhost:8080/",
          "height": 301
        },
        "outputId": "d7fff204-c0a5-4fc4-b53d-2d898692af69",
        "executionInfo": {
          "status": "error",
          "timestamp": 1527611312838,
          "user_tz": 240,
          "elapsed": 444,
          "user": {
            "displayName": "Jay Lohokare",
            "photoUrl": "//lh3.googleusercontent.com/-0bBtDx-OpcA/AAAAAAAAAAI/AAAAAAAAo0k/wOog6yUZ1yM/s50-c-k-no/photo.jpg",
            "userId": "101298074449851112405"
          }
        }
      },
      "cell_type": "code",
      "source": [
        "# dfEth = dfEth.drop(df.columns[1], axis = 1)\n",
        "# #Axis 0 = Row, 1 = Column\n",
        "print(dfEth.head())\n",
        "print(dfBtc.head())\n"
      ],
      "execution_count": 80,
      "outputs": [
        {
          "output_type": "stream",
          "text": [
            "   Date(UTC)  UnixTimeStamp  Value\n",
            "0  7/30/2015     1438214400    0.0\n",
            "1  7/31/2015     1438300800    0.0\n",
            "2   8/1/2015     1438387200    0.0\n",
            "3   8/2/2015     1438473600    0.0\n",
            "4   8/3/2015     1438560000    0.0\n"
          ],
          "name": "stdout"
        },
        {
          "output_type": "error",
          "ename": "AttributeError",
          "evalue": "ignored",
          "traceback": [
            "\u001b[0;31m---------------------------------------------------------------------------\u001b[0m",
            "\u001b[0;31mAttributeError\u001b[0m                            Traceback (most recent call last)",
            "\u001b[0;32m<ipython-input-80-70de6a7c1968>\u001b[0m in \u001b[0;36m<module>\u001b[0;34m()\u001b[0m\n\u001b[1;32m      1\u001b[0m \u001b[0mprint\u001b[0m\u001b[0;34m(\u001b[0m\u001b[0mdfEth\u001b[0m\u001b[0;34m.\u001b[0m\u001b[0mhead\u001b[0m\u001b[0;34m(\u001b[0m\u001b[0;34m)\u001b[0m\u001b[0;34m)\u001b[0m\u001b[0;34m\u001b[0m\u001b[0m\n\u001b[0;32m----> 2\u001b[0;31m \u001b[0mprint\u001b[0m\u001b[0;34m(\u001b[0m\u001b[0mdfBtc\u001b[0m\u001b[0;34m.\u001b[0m\u001b[0mhead\u001b[0m\u001b[0;34m(\u001b[0m\u001b[0;34m)\u001b[0m\u001b[0;34m)\u001b[0m\u001b[0;34m\u001b[0m\u001b[0m\n\u001b[0m",
            "\u001b[0;31mAttributeError\u001b[0m: 'dict' object has no attribute 'head'"
          ]
        }
      ]
    },
    {
      "metadata": {
        "id": "UrNjqrUUm9uc",
        "colab_type": "code",
        "colab": {
          "autoexec": {
            "startup": false,
            "wait_interval": 0
          },
          "base_uri": "https://localhost:8080/",
          "height": 127
        },
        "outputId": "9f2ffb28-3caf-4bb0-8e98-5127c0922f28",
        "executionInfo": {
          "status": "ok",
          "timestamp": 1527609562409,
          "user_tz": 240,
          "elapsed": 407,
          "user": {
            "displayName": "Jay Lohokare",
            "photoUrl": "//lh3.googleusercontent.com/-0bBtDx-OpcA/AAAAAAAAAAI/AAAAAAAAo0k/wOog6yUZ1yM/s50-c-k-no/photo.jpg",
            "userId": "101298074449851112405"
          }
        }
      },
      "cell_type": "code",
      "source": [
        "df['Date(UTC)'] = pd.to_datetime(df['Date(UTC)'], format='%m/%d/%Y')\n",
        "print(df.head())"
      ],
      "execution_count": 29,
      "outputs": [
        {
          "output_type": "stream",
          "text": [
            "   Date(UTC)  Value\n",
            "0 2015-07-30    0.0\n",
            "1 2015-07-31    0.0\n",
            "2 2015-08-01    0.0\n",
            "3 2015-08-02    0.0\n",
            "4 2015-08-03    0.0\n"
          ],
          "name": "stdout"
        }
      ]
    },
    {
      "metadata": {
        "id": "qLGu_blhnYoK",
        "colab_type": "code",
        "colab": {
          "autoexec": {
            "startup": false,
            "wait_interval": 0
          },
          "base_uri": "https://localhost:8080/",
          "height": 146
        },
        "outputId": "d407e7c4-fdde-471d-fc19-96556461d031",
        "executionInfo": {
          "status": "ok",
          "timestamp": 1527609563160,
          "user_tz": 240,
          "elapsed": 610,
          "user": {
            "displayName": "Jay Lohokare",
            "photoUrl": "//lh3.googleusercontent.com/-0bBtDx-OpcA/AAAAAAAAAAI/AAAAAAAAo0k/wOog6yUZ1yM/s50-c-k-no/photo.jpg",
            "userId": "101298074449851112405"
          }
        }
      },
      "cell_type": "code",
      "source": [
        "df.index = df['Date(UTC)']\n",
        "print(df.head())"
      ],
      "execution_count": 30,
      "outputs": [
        {
          "output_type": "stream",
          "text": [
            "            Date(UTC)  Value\n",
            "Date(UTC)                   \n",
            "2015-07-30 2015-07-30    0.0\n",
            "2015-07-31 2015-07-31    0.0\n",
            "2015-08-01 2015-08-01    0.0\n",
            "2015-08-02 2015-08-02    0.0\n",
            "2015-08-03 2015-08-03    0.0\n"
          ],
          "name": "stdout"
        }
      ]
    },
    {
      "metadata": {
        "id": "geYWKDjTntmH",
        "colab_type": "code",
        "colab": {
          "autoexec": {
            "startup": false,
            "wait_interval": 0
          },
          "base_uri": "https://localhost:8080/",
          "height": 146
        },
        "outputId": "43423e16-cfb6-42ea-fa57-fe4ee7bd8bbb",
        "executionInfo": {
          "status": "ok",
          "timestamp": 1527609563654,
          "user_tz": 240,
          "elapsed": 347,
          "user": {
            "displayName": "Jay Lohokare",
            "photoUrl": "//lh3.googleusercontent.com/-0bBtDx-OpcA/AAAAAAAAAAI/AAAAAAAAo0k/wOog6yUZ1yM/s50-c-k-no/photo.jpg",
            "userId": "101298074449851112405"
          }
        }
      },
      "cell_type": "code",
      "source": [
        "df = df.drop(df.columns[0], axis=1)\n",
        "print(df.head())"
      ],
      "execution_count": 31,
      "outputs": [
        {
          "output_type": "stream",
          "text": [
            "            Value\n",
            "Date(UTC)        \n",
            "2015-07-30    0.0\n",
            "2015-07-31    0.0\n",
            "2015-08-01    0.0\n",
            "2015-08-02    0.0\n",
            "2015-08-03    0.0\n"
          ],
          "name": "stdout"
        }
      ]
    },
    {
      "metadata": {
        "id": "vKTbuLdzn3ji",
        "colab_type": "code",
        "colab": {
          "autoexec": {
            "startup": false,
            "wait_interval": 0
          },
          "base_uri": "https://localhost:8080/",
          "height": 347
        },
        "outputId": "54ade034-d378-46f7-a0c5-e46285f5084e",
        "executionInfo": {
          "status": "ok",
          "timestamp": 1527609785330,
          "user_tz": 240,
          "elapsed": 566,
          "user": {
            "displayName": "Jay Lohokare",
            "photoUrl": "//lh3.googleusercontent.com/-0bBtDx-OpcA/AAAAAAAAAAI/AAAAAAAAo0k/wOog6yUZ1yM/s50-c-k-no/photo.jpg",
            "userId": "101298074449851112405"
          }
        }
      },
      "cell_type": "code",
      "source": [
        "plt.plot(df)\n",
        "plt.show()"
      ],
      "execution_count": 33,
      "outputs": [
        {
          "output_type": "display_data",
          "data": {
            "image/png": "[encoded data removed]",
            "text/plain": [
              "<matplotlib.figure.Figure at 0x7fe56e05c128>"
            ]
          },
          "metadata": {
            "tags": []
          }
        }
      ]
    },
    {
      "metadata": {
        "id": "JDhMHca-o1FJ",
        "colab_type": "code",
        "colab": {
          "autoexec": {
            "startup": false,
            "wait_interval": 0
          }
        }
      },
      "cell_type": "code",
      "source": [
        ""
      ],
      "execution_count": 0,
      "outputs": []
    }
  ]
}