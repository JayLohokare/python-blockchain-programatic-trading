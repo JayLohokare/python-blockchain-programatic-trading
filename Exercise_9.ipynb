{
  "nbformat": 4,
  "nbformat_minor": 0,
  "metadata": {
    "colab": {
      "name": "Exercise 9",
      "version": "0.3.2",
      "views": {},
      "default_view": {},
      "provenance": []
    },
    "kernelspec": {
      "name": "python3",
      "display_name": "Python 3"
    }
  },
  "cells": [
    {
      "metadata": {
        "id": "nGd2MczKD2m1",
        "colab_type": "code",
        "colab": {
          "autoexec": {
            "startup": false,
            "wait_interval": 0
          }
        }
      },
      "cell_type": "code",
      "source": [
        "import requests, json, time, urllib3, io\n",
        "import matplotlib.pyplot as plt\n",
        "import pandas as pd"
      ],
      "execution_count": 0,
      "outputs": []
    },
    {
      "metadata": {
        "id": "wS1n5kQsD4lJ",
        "colab_type": "code",
        "colab": {
          "autoexec": {
            "startup": false,
            "wait_interval": 0
          }
        }
      },
      "cell_type": "code",
      "source": [
        "headers = {'User-Agent': 'Mozilla/5.0 (Macintosh; Intel Mac OS X 10_10_1) AppleWebKit/537.36 (KHTML, like Gecko) Chrome/39.0.2171.95 Safari/537.36'}\n",
        "\n",
        "url = \"https://api.coindesk.com/v1/bpi/historical/close.json?start=2018-01-01&end=2018-05-28\"\n",
        "response = requests.get(url, headers = headers)\n"
      ],
      "execution_count": 0,
      "outputs": []
    },
    {
      "metadata": {
        "id": "Xoe53YY1EA2M",
        "colab_type": "code",
        "colab": {
          "autoexec": {
            "startup": false,
            "wait_interval": 0
          }
        }
      },
      "cell_type": "code",
      "source": [
        "df = pd.read_json(response.content)"
      ],
      "execution_count": 0,
      "outputs": []
    },
    {
      "metadata": {
        "id": "WEEQQj17EWWf",
        "colab_type": "code",
        "colab": {
          "autoexec": {
            "startup": false,
            "wait_interval": 0
          }
        }
      },
      "cell_type": "code",
      "source": [
        "df = df['bpi']"
      ],
      "execution_count": 0,
      "outputs": []
    },
    {
      "metadata": {
        "id": "e37yieANE6qG",
        "colab_type": "code",
        "colab": {
          "autoexec": {
            "startup": false,
            "wait_interval": 0
          },
          "base_uri": "https://localhost:8080/",
          "height": 127
        },
        "outputId": "c1f995cf-5f5f-4300-f970-9712385158f6",
        "executionInfo": {
          "status": "ok",
          "timestamp": 1527617170553,
          "user_tz": 240,
          "elapsed": 412,
          "user": {
            "displayName": "Jay Lohokare",
            "photoUrl": "//lh3.googleusercontent.com/-0bBtDx-OpcA/AAAAAAAAAAI/AAAAAAAAo0k/wOog6yUZ1yM/s50-c-k-no/photo.jpg",
            "userId": "101298074449851112405"
          }
        }
      },
      "cell_type": "code",
      "source": [
        "df.drop(df.tail(2).index, inplace=True)\n",
        "print(df.head())"
      ],
      "execution_count": 11,
      "outputs": [
        {
          "output_type": "stream",
          "text": [
            "2018-01-01    13412.4400\n",
            "2018-01-02    14740.7563\n",
            "2018-01-03    15134.6513\n",
            "2018-01-04    15155.2263\n",
            "2018-01-05    16937.1738\n",
            "Name: bpi, dtype: float64\n"
          ],
          "name": "stdout"
        }
      ]
    },
    {
      "metadata": {
        "id": "fIb3J8BgFCqU",
        "colab_type": "code",
        "colab": {
          "autoexec": {
            "startup": false,
            "wait_interval": 0
          }
        }
      },
      "cell_type": "code",
      "source": [
        "import requests\n",
        "from datetime import date, timedelta\n",
        "coindeskApi = \"http://api.coindesk.com/v1/bpi/\"\n",
        "\n",
        "def get_historical_price(\n",
        "        currency,\n",
        "        start=date.today()-timedelta(days=31),\n",
        "        end=date.today()\n",
        "        ):\n",
        "    start_string = f\"{start.year:#02d}-{start.month:#02d}-{start.day:#02d}\"\n",
        "    end_string = f\"{end.year:#02d}-{end.month:#02d}-{end.day:#02d}\"\n",
        "    return requests.get(f\"{coindeskApi}historical/close.json?\"\n",
        "                        f\"currency={currency}&start={start_string}&end={end_string}\") \\\n",
        ".json()[\"bpi\"]"
      ],
      "execution_count": 0,
      "outputs": []
    },
    {
      "metadata": {
        "id": "aZz83qC9FUV2",
        "colab_type": "code",
        "colab": {
          "autoexec": {
            "startup": false,
            "wait_interval": 0
          }
        }
      },
      "cell_type": "code",
      "source": [
        ""
      ],
      "execution_count": 0,
      "outputs": []
    }
  ]
}