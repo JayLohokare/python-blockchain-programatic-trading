{
  "nbformat": 4,
  "nbformat_minor": 0,
  "metadata": {
    "colab": {
      "name": "Exercise 3",
      "version": "0.3.2",
      "views": {},
      "default_view": {},
      "provenance": []
    },
    "kernelspec": {
      "name": "python3",
      "display_name": "Python 3"
    },
    "accelerator": "GPU"
  },
  "cells": [
    {
      "metadata": {
        "id": "os1TYEk_T1kW",
        "colab_type": "code",
        "colab": {
          "autoexec": {
            "startup": false,
            "wait_interval": 0
          },
          "base_uri": "https://localhost:8080/",
          "height": 72
        },
        "outputId": "b530303b-8aeb-406d-c1c9-bb8cca460c48",
        "executionInfo": {
          "status": "ok",
          "timestamp": 1527604313698,
          "user_tz": 240,
          "elapsed": 2544,
          "user": {
            "displayName": "Jay Lohokare",
            "photoUrl": "//lh3.googleusercontent.com/-0bBtDx-OpcA/AAAAAAAAAAI/AAAAAAAAo0k/wOog6yUZ1yM/s50-c-k-no/photo.jpg",
            "userId": "101298074449851112405"
          }
        }
      },
      "cell_type": "code",
      "source": [
        "!pip install blockchain\n"
      ],
      "execution_count": 1,
      "outputs": [
        {
          "output_type": "stream",
          "text": [
            "Requirement already satisfied: blockchain in /usr/local/lib/python3.6/dist-packages (1.4.4)\r\n",
            "Requirement already satisfied: future in /usr/local/lib/python3.6/dist-packages (from blockchain) (0.16.0)\r\n",
            "Requirement already satisfied: enum-compat in /usr/local/lib/python3.6/dist-packages (from blockchain) (0.0.2)\r\n"
          ],
          "name": "stdout"
        }
      ]
    },
    {
      "metadata": {
        "id": "kEG4RJOMT6Ob",
        "colab_type": "code",
        "colab": {
          "autoexec": {
            "startup": false,
            "wait_interval": 0
          }
        }
      },
      "cell_type": "code",
      "source": [
        "from blockchain import statistics as stats\n",
        "from blockchain import exchangerates as er"
      ],
      "execution_count": 0,
      "outputs": []
    },
    {
      "metadata": {
        "id": "Ks4pmDIcUCtg",
        "colab_type": "code",
        "colab": {
          "autoexec": {
            "startup": false,
            "wait_interval": 0
          }
        }
      },
      "cell_type": "code",
      "source": [
        "def satoshi_to_btc(satoshi):\n",
        "  return satoshi/100000000\n",
        "  #1 Bitcoin = 100 million Satoshis"
      ],
      "execution_count": 0,
      "outputs": []
    },
    {
      "metadata": {
        "id": "RM2QBtJtUCqD",
        "colab_type": "code",
        "colab": {
          "autoexec": {
            "startup": false,
            "wait_interval": 0
          },
          "base_uri": "https://localhost:8080/",
          "height": 109
        },
        "outputId": "0dae0c1e-0e94-4ae9-a884-460426f55081",
        "executionInfo": {
          "status": "ok",
          "timestamp": 1527605293114,
          "user_tz": 240,
          "elapsed": 688,
          "user": {
            "displayName": "Jay Lohokare",
            "photoUrl": "//lh3.googleusercontent.com/-0bBtDx-OpcA/AAAAAAAAAAI/AAAAAAAAo0k/wOog6yUZ1yM/s50-c-k-no/photo.jpg",
            "userId": "101298074449851112405"
          }
        }
      },
      "cell_type": "code",
      "source": [
        "s = stats.get()\n",
        "print('Total Blocks', s.total_blocks)\n",
        "#Print the total number of blocks\n",
        "\n",
        "print('Number of trascations in last 24 hours is', s.number_of_transactions)\n",
        "#If this number is high, it indicates congestion - Anticipate delays in trade!\n",
        "\n",
        "print('Total BTC sent in last 24 hours', satoshi_to_btc(s.total_btc_sent))\n",
        "#Anomalies in Volumes indicate alerts!\n",
        "\n",
        "print('Miner revenue for last 24 hours', satoshi_to_btc(s.miners_revenue_usd))\n",
        "\n",
        "print('Hash rate', s.difficulty)\n",
        "#Higher the number -> Difficult to mine\n",
        "#http://bitcoin.sipa.be/\n"
      ],
      "execution_count": 28,
      "outputs": [
        {
          "output_type": "stream",
          "text": [
            "Total Blocks 524975\n",
            "Number of trascations in last 24 hours is 191865\n",
            "Total BTC sent in last 24 hours 1164452.55641978\n",
            "Miner revenue for last 24 hours 0.14581393847408258\n",
            "Hash rate 4306949573981\n"
          ],
          "name": "stdout"
        }
      ]
    },
    {
      "metadata": {
        "id": "_6LtZ2_6UCcM",
        "colab_type": "code",
        "colab": {
          "autoexec": {
            "startup": false,
            "wait_interval": 0
          }
        }
      },
      "cell_type": "code",
      "source": [
        ""
      ],
      "execution_count": 0,
      "outputs": []
    }
  ]
}