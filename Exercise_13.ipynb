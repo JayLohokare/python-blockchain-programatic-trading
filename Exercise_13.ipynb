{
  "nbformat": 4,
  "nbformat_minor": 0,
  "metadata": {
    "colab": {
      "name": "Exercise 13",
      "version": "0.3.2",
      "views": {},
      "default_view": {},
      "provenance": []
    }
  },
  "cells": [
    {
      "metadata": {
        "id": "0cydJSavP1qy",
        "colab_type": "code",
        "colab": {
          "autoexec": {
            "startup": false,
            "wait_interval": 0
          }
        }
      },
      "cell_type": "code",
      "source": [
        "import requests, json, time, urllib3, io\n",
        "import matplotlib.pyplot as plt\n",
        "import pandas as pd\n"
      ],
      "execution_count": 0,
      "outputs": []
    },
    {
      "metadata": {
        "id": "zMK7Jw7PP444",
        "colab_type": "code",
        "colab": {
          "autoexec": {
            "startup": false,
            "wait_interval": 0
          }
        }
      },
      "cell_type": "code",
      "source": [
        "def load(url, printout=False, remove_bottom_rows=0, remove_columns =[]):\n",
        "  headers = {'User-Agent': 'Mozilla/5.0 (Macintosh; Intel Mac OS X 10_10_1) AppleWebKit/537.36 (KHTML, like Gecko) Chrome/39.0.2171.95 Safari/537.36'}\n",
        "  response = requests.get(url, headers = headers)\n",
        "  df = pd.read_json(response.text)\n",
        "  \n",
        "  if remove_bottom_rows > 0:\n",
        "    df.drop(df.tail(remove_bottom_rows).index, inplace=True)\n",
        "    \n",
        "  df.drop(columns=remove_columns, axis=1, inplace=True)\n",
        "  \n",
        "  df = df.dropna(axis=1)\n",
        "  \n",
        "  if printout:\n",
        "    print(df.head())\n",
        "    print(df.shape)\n",
        "    \n",
        "  return df\n",
        "\n",
        "  "
      ],
      "execution_count": 0,
      "outputs": []
    },
    {
      "metadata": {
        "id": "RaqoDXGIRMfO",
        "colab_type": "code",
        "colab": {
          "autoexec": {
            "startup": false,
            "wait_interval": 0
          }
        }
      },
      "cell_type": "code",
      "source": [
        "def get_trades_for_product(product_id):\n",
        "  type = '/trades'\n",
        "  url = \"https://api.gdax.com/products/\" + product_id + type\n",
        "  return load(url)"
      ],
      "execution_count": 0,
      "outputs": []
    },
    {
      "metadata": {
        "id": "NlM2sVGKP-kQ",
        "colab_type": "code",
        "colab": {
          "autoexec": {
            "startup": false,
            "wait_interval": 0
          },
          "base_uri": "https://localhost:8080/",
          "height": 1522
        },
        "outputId": "0926efba-ac23-440d-c480-6681f4e70319",
        "executionInfo": {
          "status": "ok",
          "timestamp": 1527620890799,
          "user_tz": 240,
          "elapsed": 828,
          "user": {
            "displayName": "Jay Lohokare",
            "photoUrl": "//lh3.googleusercontent.com/-0bBtDx-OpcA/AAAAAAAAAAI/AAAAAAAAo0k/wOog6yUZ1yM/s50-c-k-no/photo.jpg",
            "userId": "101298074449851112405"
          }
        }
      },
      "cell_type": "code",
      "source": [
        "data = get_trades_for_product('eth-usd')\n",
        "print(data)\n",
        "# data = data['price']\n",
        "\n",
        "# df['time'] = pd.to_datetime(df['time'][:-1], format='%m/%d/%YT%H:%M:%SZ')\n",
        "\n",
        "\n",
        "import matplotlib.pyplot as plt\n",
        "plt.plot( data['price'])\n",
        "plt.show()"
      ],
      "execution_count": 23,
      "outputs": [
        {
          "output_type": "stream",
          "text": [
            "     price  side       size                      time  trade_id\n",
            "0   566.78  sell   6.706500  2018-05-29T19:08:05.985Z  35112532\n",
            "1   566.78  sell   8.746300  2018-05-29T19:07:51.759Z  35112531\n",
            "2   566.78  sell   1.074900  2018-05-29T19:07:40.212Z  35112530\n",
            "3   566.78  sell   8.082421  2018-05-29T19:07:28.984Z  35112529\n",
            "4   566.78  sell   0.016758  2018-05-29T19:07:28.984Z  35112528\n",
            "5   566.78  sell   0.025582  2018-05-29T19:07:28.984Z  35112527\n",
            "6   566.78  sell   1.749939  2018-05-29T19:07:28.984Z  35112526\n",
            "7   566.78  sell  11.055171  2018-05-29T19:07:26.681Z  35112525\n",
            "8   566.78  sell   0.631300  2018-05-29T19:07:17.438Z  35112524\n",
            "9   566.77   buy   0.141337  2018-05-29T19:07:04.654Z  35112523\n",
            "10  566.78  sell   6.563589  2018-05-29T19:06:52.901Z  35112522\n",
            "11  566.72  sell   0.030000  2018-05-29T19:06:52.901Z  35112521\n",
            "12  566.71  sell   0.011464  2018-05-29T19:06:52.901Z  35112520\n",
            "13  566.67  sell   0.010960  2018-05-29T19:06:52.901Z  35112519\n",
            "14  566.67  sell   5.481487  2018-05-29T19:06:52.901Z  35112518\n",
            "15  566.67  sell   0.122452   2018-05-29T19:06:42.22Z  35112517\n",
            "16  566.64  sell   0.010780   2018-05-29T19:06:42.22Z  35112516\n",
            "17  566.64  sell   0.450241   2018-05-29T19:06:42.22Z  35112515\n",
            "18  566.64  sell   0.306427   2018-05-29T19:06:42.22Z  35112514\n",
            "19  566.56   buy   0.595660  2018-05-29T19:06:29.595Z  35112513\n",
            "20  566.63   buy   0.010140  2018-05-29T19:06:29.595Z  35112512\n",
            "21  566.63   buy   0.220000  2018-05-29T19:06:29.595Z  35112511\n",
            "22  566.63   buy   2.000000  2018-05-29T19:06:29.595Z  35112510\n",
            "23  566.63  sell   0.010000   2018-05-29T19:06:12.78Z  35112509\n",
            "24  566.67  sell   0.948800  2018-05-29T19:06:07.442Z  35112508\n",
            "25  566.61   buy   0.100000  2018-05-29T19:06:01.165Z  35112507\n",
            "26  566.79  sell   5.544592  2018-05-29T19:05:53.907Z  35112506\n",
            "27  566.77  sell   0.011465  2018-05-29T19:05:53.907Z  35112505\n",
            "28  566.76  sell   0.034402  2018-05-29T19:05:53.907Z  35112504\n",
            "29  566.73  sell   0.032641  2018-05-29T19:05:53.907Z  35112503\n",
            "..     ...   ...        ...                       ...       ...\n",
            "70  566.59  sell   0.025591  2018-05-29T19:05:08.355Z  35112462\n",
            "71  566.58  sell   0.022058  2018-05-29T19:05:08.355Z  35112461\n",
            "72  566.57  sell   0.022061  2018-05-29T19:05:08.355Z  35112460\n",
            "73  566.52  sell   0.010380  2018-05-29T19:05:08.355Z  35112459\n",
            "74  566.52  sell   0.069720  2018-05-29T19:05:08.355Z  35112458\n",
            "75  566.52  sell   0.040000  2018-05-29T19:05:08.355Z  35112457\n",
            "76  566.52  sell  19.882553  2018-05-29T19:05:08.355Z  35112456\n",
            "77  566.52  sell   0.117447  2018-05-29T19:04:56.973Z  35112455\n",
            "78  566.52  sell   0.022653  2018-05-29T19:04:56.973Z  35112454\n",
            "79  566.52  sell   0.010000  2018-05-29T19:04:54.271Z  35112453\n",
            "80  566.74  sell   0.451249  2018-05-29T19:04:43.586Z  35112452\n",
            "81  566.74  sell   0.023816  2018-05-29T19:04:43.586Z  35112451\n",
            "82  566.73  sell   0.011464  2018-05-29T19:04:43.586Z  35112450\n",
            "83  566.72  sell   0.020289  2018-05-29T19:04:43.586Z  35112449\n",
            "84  566.71  sell   0.025584  2018-05-29T19:04:43.586Z  35112448\n",
            "85  566.70  sell   0.034408  2018-05-29T19:04:43.586Z  35112447\n",
            "86  566.69  sell   0.036170  2018-05-29T19:04:43.586Z  35112446\n",
            "87  566.68  sell   0.025582  2018-05-29T19:04:43.586Z  35112445\n",
            "88  566.67  sell   0.014994  2018-05-29T19:04:43.586Z  35112444\n",
            "89  566.66  sell   0.022055  2018-05-29T19:04:43.586Z  35112443\n",
            "90  566.51  sell   0.010480  2018-05-29T19:04:43.586Z  35112442\n",
            "91  566.51  sell   0.000009  2018-05-29T19:04:43.586Z  35112441\n",
            "92  566.51  sell   0.014990  2018-05-29T19:04:41.317Z  35112440\n",
            "93  566.51  sell   0.010430  2018-05-29T19:04:41.317Z  35112439\n",
            "94  566.51  sell   2.782694  2018-05-29T19:04:32.861Z  35112438\n",
            "95  566.51  sell   0.010140  2018-05-29T19:04:32.861Z  35112437\n",
            "96  566.51  sell   0.016766  2018-05-29T19:04:32.861Z  35112436\n",
            "97  566.50   buy   2.940500   2018-05-29T19:04:21.53Z  35112435\n",
            "98  566.51   buy   0.602810  2018-05-29T19:04:09.893Z  35112434\n",
            "99  566.52   buy   0.440000  2018-05-29T19:04:09.893Z  35112433\n",
            "\n",
            "[100 rows x 5 columns]\n"
          ],
          "name": "stdout"
        },
        {
          "output_type": "display_data",
          "data": {
            "image/png": "[encoded data removed]",
            "text/plain": [
              "<matplotlib.figure.Figure at 0x7f3ae4d466d0>"
            ]
          },
          "metadata": {
            "tags": []
          }
        }
      ]
    },
    {
      "metadata": {
        "id": "HiceY2g8Q2Zh",
        "colab_type": "code",
        "colab": {
          "autoexec": {
            "startup": false,
            "wait_interval": 0
          }
        }
      },
      "cell_type": "code",
      "source": [
        ""
      ],
      "execution_count": 0,
      "outputs": []
    }
  ]
}