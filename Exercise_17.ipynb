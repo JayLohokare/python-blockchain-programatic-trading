{
  "nbformat": 4,
  "nbformat_minor": 0,
  "metadata": {
    "colab": {
      "name": "Exercise 17",
      "version": "0.3.2",
      "views": {},
      "default_view": {},
      "provenance": [],
      "collapsed_sections": []
    }
  },
  "cells": [
    {
      "metadata": {
        "id": "l2dXfKRtbwp3",
        "colab_type": "code",
        "colab": {
          "autoexec": {
            "startup": false,
            "wait_interval": 0
          }
        }
      },
      "cell_type": "code",
      "source": [
        "import requests, json, time, urllib3, io\n",
        "import matplotlib.pyplot as plt\n",
        "import pandas as pd\n",
        "import datetime as dt"
      ],
      "execution_count": 0,
      "outputs": []
    },
    {
      "metadata": {
        "id": "3eEMhCNzb2oF",
        "colab_type": "code",
        "colab": {
          "autoexec": {
            "startup": false,
            "wait_interval": 0
          }
        }
      },
      "cell_type": "code",
      "source": [
        "def load(url, printout=False, remove_bottom_rows=0, remove_columns =[]):\n",
        "  headers = {'User-Agent': 'Mozilla/5.0 (Macintosh; Intel Mac OS X 10_10_1) AppleWebKit/537.36 (KHTML, like Gecko) Chrome/39.0.2171.95 Safari/537.36'}\n",
        "  response = requests.get(url, headers = headers)\n",
        "  df = pd.read_json(response.text)\n",
        "  \n",
        "  if remove_bottom_rows > 0:\n",
        "    df.drop(df.tail(remove_bottom_rows).index, inplace=True)\n",
        "    \n",
        "  df.drop(columns=remove_columns, axis=1, inplace=True)\n",
        "  \n",
        "  df = df.dropna(axis=1)\n",
        "  \n",
        "  if printout:\n",
        "    print(df.head())\n",
        "    print(df.shape)\n",
        "    \n",
        "  return df\n",
        "\n",
        "  "
      ],
      "execution_count": 0,
      "outputs": []
    },
    {
      "metadata": {
        "id": "58mqqV0Fb3mF",
        "colab_type": "code",
        "colab": {
          "autoexec": {
            "startup": false,
            "wait_interval": 0
          }
        }
      },
      "cell_type": "code",
      "source": [
        "def get_trades_for_product(product_id):\n",
        "  type = '/trades'\n",
        "  url = \"https://api.gdax.com/products/\" + product_id + type\n",
        "  return load(url)"
      ],
      "execution_count": 0,
      "outputs": []
    },
    {
      "metadata": {
        "id": "gzAjk0C5b4r0",
        "colab_type": "code",
        "colab": {
          "autoexec": {
            "startup": false,
            "wait_interval": 0
          }
        }
      },
      "cell_type": "code",
      "source": [
        "def initialize_blotter():\n",
        "  col_names = ['Timestamp', 'Pair', 'Quantitiy', 'Executed Price']\n",
        "  df = pd.DataFrame(columns = col_names)\n",
        "  return df, col_names\n",
        "  "
      ],
      "execution_count": 0,
      "outputs": []
    },
    {
      "metadata": {
        "id": "8ku3y_r2b5pJ",
        "colab_type": "code",
        "colab": {
          "autoexec": {
            "startup": false,
            "wait_interval": 0
          }
        }
      },
      "cell_type": "code",
      "source": [
        "def get_price(pair):\n",
        "  type = '/book'\n",
        "  url = \"https://api.gdax.com/products/\" + pair + type\n",
        "  df = load(url)\n",
        "  ask = df.iloc[0]['asks'][0]\n",
        "  bid = df.iloc[0]['bids'][0]\n",
        "  return bid, ask"
      ],
      "execution_count": 0,
      "outputs": []
    },
    {
      "metadata": {
        "id": "SQ8MQlenb6xK",
        "colab_type": "code",
        "colab": {
          "autoexec": {
            "startup": false,
            "wait_interval": 0
          }
        }
      },
      "cell_type": "code",
      "source": [
        "def initialize_pl(pairs):\n",
        "  col_names = ['Pair', 'Positions', 'VMAP', 'UPL', 'RPL']\n",
        "  pl = pd.DataFrame(columns=col_names)\n",
        "  for p in pairs:\n",
        "    data = pd.DataFrame([[p,0,0,0,0]], columns = col_names)\n",
        "    pl = pl.append(data, ignore_index = True)\n",
        "  return pl, col_names"
      ],
      "execution_count": 0,
      "outputs": []
    },
    {
      "metadata": {
        "id": "AvS8MR1ochFD",
        "colab_type": "code",
        "colab": {
          "autoexec": {
            "startup": false,
            "wait_interval": 0
          },
          "base_uri": "https://localhost:8080/",
          "height": 72
        },
        "outputId": "dc078f6b-67a1-4029-dfde-e2d8df944338",
        "executionInfo": {
          "status": "ok",
          "timestamp": 1527623552898,
          "user_tz": 240,
          "elapsed": 459,
          "user": {
            "displayName": "Jay Lohokare",
            "photoUrl": "//lh3.googleusercontent.com/-0bBtDx-OpcA/AAAAAAAAAAI/AAAAAAAAo0k/wOog6yUZ1yM/s50-c-k-no/photo.jpg",
            "userId": "101298074449851112405"
          }
        }
      },
      "cell_type": "code",
      "source": [
        "pairs = ['eth-usd', 'btc-usd']\n",
        "blotter, col_names = initialize_blotter()\n",
        "pl, pl_col_names = initialize_pl(pairs)\n",
        "\n",
        "print(pl)\n"
      ],
      "execution_count": 16,
      "outputs": [
        {
          "output_type": "stream",
          "text": [
            "      Pair Positions VMAP UPL RPL\n",
            "0  eth-usd         0    0   0   0\n",
            "1  btc-usd         0    0   0   0\n"
          ],
          "name": "stdout"
        }
      ]
    },
    {
      "metadata": {
        "id": "D7OCp4aQc3b1",
        "colab_type": "code",
        "colab": {
          "autoexec": {
            "startup": false,
            "wait_interval": 0
          }
        }
      },
      "cell_type": "code",
      "source": [
        ""
      ],
      "execution_count": 0,
      "outputs": []
    }
  ]
}