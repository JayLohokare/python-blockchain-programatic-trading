{
  "nbformat": 4,
  "nbformat_minor": 0,
  "metadata": {
    "colab": {
      "name": "Exercise 15",
      "version": "0.3.2",
      "views": {},
      "default_view": {},
      "provenance": [],
      "collapsed_sections": []
    },
    "kernelspec": {
      "name": "python3",
      "display_name": "Python 3"
    }
  },
  "cells": [
    {
      "metadata": {
        "id": "Z1tLlSzUWMHc",
        "colab_type": "code",
        "colab": {
          "autoexec": {
            "startup": false,
            "wait_interval": 0
          }
        }
      },
      "cell_type": "code",
      "source": [
        "import requests, json, time, urllib3, io\n",
        "import matplotlib.pyplot as plt\n",
        "import pandas as pd\n",
        "import datetime as dt"
      ],
      "execution_count": 0,
      "outputs": []
    },
    {
      "metadata": {
        "id": "4VKmmH-uWQgP",
        "colab_type": "code",
        "colab": {
          "autoexec": {
            "startup": false,
            "wait_interval": 0
          }
        }
      },
      "cell_type": "code",
      "source": [
        "def load(url, printout=False, remove_bottom_rows=0, remove_columns =[]):\n",
        "  headers = {'User-Agent': 'Mozilla/5.0 (Macintosh; Intel Mac OS X 10_10_1) AppleWebKit/537.36 (KHTML, like Gecko) Chrome/39.0.2171.95 Safari/537.36'}\n",
        "  response = requests.get(url, headers = headers)\n",
        "  df = pd.read_json(response.text)\n",
        "  \n",
        "  if remove_bottom_rows > 0:\n",
        "    df.drop(df.tail(remove_bottom_rows).index, inplace=True)\n",
        "    \n",
        "  df.drop(columns=remove_columns, axis=1, inplace=True)\n",
        "  \n",
        "  df = df.dropna(axis=1)\n",
        "  \n",
        "  if printout:\n",
        "    print(df.head())\n",
        "    print(df.shape)\n",
        "    \n",
        "  return df\n",
        "\n",
        "  "
      ],
      "execution_count": 0,
      "outputs": []
    },
    {
      "metadata": {
        "id": "2MCsl4akWRUe",
        "colab_type": "code",
        "colab": {
          "autoexec": {
            "startup": false,
            "wait_interval": 0
          }
        }
      },
      "cell_type": "code",
      "source": [
        "def get_trades_for_product(product_id):\n",
        "  type = '/trades'\n",
        "  url = \"https://api.gdax.com/products/\" + product_id + type\n",
        "  return load(url)"
      ],
      "execution_count": 0,
      "outputs": []
    },
    {
      "metadata": {
        "id": "nheIj1W9WSQJ",
        "colab_type": "code",
        "colab": {
          "autoexec": {
            "startup": false,
            "wait_interval": 0
          }
        }
      },
      "cell_type": "code",
      "source": [
        "def initialize_blotter():\n",
        "  col_names = ['Timestamp', 'Pair', 'Quantitiy', 'Executed Price']\n",
        "  df = pd.DataFrame(columns = col_names)\n",
        "  return df, col_names\n",
        "  "
      ],
      "execution_count": 0,
      "outputs": []
    },
    {
      "metadata": {
        "id": "9LH3qZdWWTb_",
        "colab_type": "code",
        "colab": {
          "autoexec": {
            "startup": false,
            "wait_interval": 0
          }
        }
      },
      "cell_type": "code",
      "source": [
        "def get_price(pair):\n",
        "  type = '/book'\n",
        "  url = \"https://api.gdax.com/products/\" + pair + type\n",
        "  df = load(url)\n",
        "  ask = df.iloc[0]['asks'][0]\n",
        "  bid = df.iloc[0]['bids'][0]\n",
        "  return bid, ask"
      ],
      "execution_count": 0,
      "outputs": []
    },
    {
      "metadata": {
        "id": "O8YjlnFcWVHs",
        "colab_type": "code",
        "colab": {
          "autoexec": {
            "startup": false,
            "wait_interval": 0
          },
          "base_uri": "https://localhost:8080/",
          "height": 35
        },
        "outputId": "abf7e245-0697-4f90-8c92-f3c7f7916ebe",
        "executionInfo": {
          "status": "ok",
          "timestamp": 1527621904982,
          "user_tz": 240,
          "elapsed": 638,
          "user": {
            "displayName": "Jay Lohokare",
            "photoUrl": "//lh3.googleusercontent.com/-0bBtDx-OpcA/AAAAAAAAAAI/AAAAAAAAo0k/wOog6yUZ1yM/s50-c-k-no/photo.jpg",
            "userId": "101298074449851112405"
          }
        }
      },
      "cell_type": "code",
      "source": [
        "bid, ask = get_price('eth-usd')\n",
        "print(bid, ask)"
      ],
      "execution_count": 12,
      "outputs": [
        {
          "output_type": "stream",
          "text": [
            "565 565.01\n"
          ],
          "name": "stdout"
        }
      ]
    },
    {
      "metadata": {
        "id": "YotLhlr_XEmC",
        "colab_type": "code",
        "colab": {
          "autoexec": {
            "startup": false,
            "wait_interval": 0
          },
          "base_uri": "https://localhost:8080/",
          "height": 146
        },
        "outputId": "335d2d02-0455-4245-820d-835885ed98f5",
        "executionInfo": {
          "status": "ok",
          "timestamp": 1527621962111,
          "user_tz": 240,
          "elapsed": 655,
          "user": {
            "displayName": "Jay Lohokare",
            "photoUrl": "//lh3.googleusercontent.com/-0bBtDx-OpcA/AAAAAAAAAAI/AAAAAAAAo0k/wOog6yUZ1yM/s50-c-k-no/photo.jpg",
            "userId": "101298074449851112405"
          }
        }
      },
      "cell_type": "code",
      "source": [
        "blotter, col_names = initialize_blotter()\n",
        "data1 = pd.DataFrame([[dt.datetime.now(), 'ETH', 1.223, 542.31413]], columns = col_names)\n",
        "data2 = pd.DataFrame([[dt.datetime.now(), 'ETH', 1.263, 545.31413]], columns = col_names)\n",
        "data3 = pd.DataFrame([[dt.datetime.now(), 'ETH', 1.2323, 531.31413]], columns = col_names)\n",
        "data4 = pd.DataFrame([[dt.datetime.now(), 'ETH', 1.235, 545.31413]], columns = col_names)\n",
        "data5 = pd.DataFrame([[dt.datetime.now(), 'ETH', 1.233, 549.31413]], columns = col_names)\n",
        "data6 = pd.DataFrame([[dt.datetime.now(), 'ETH', 1.25, 540.31413]], columns = col_names)\n",
        "blotter = blotter.append(data1, ignore_index = True)\n",
        "blotter = blotter.append(data2, ignore_index = True)\n",
        "blotter = blotter.append(data3, ignore_index = True)\n",
        "blotter = blotter.append(data4, ignore_index = True)\n",
        "blotter = blotter.append(data5, ignore_index = True)\n",
        "blotter = blotter.append(data6, ignore_index = True)\n",
        "print(blotter)"
      ],
      "execution_count": 13,
      "outputs": [
        {
          "output_type": "stream",
          "text": [
            "                   Timestamp Pair  Quantitiy  Executed Price\n",
            "0 2018-05-29 19:26:00.755983  ETH     1.2230       542.31413\n",
            "1 2018-05-29 19:26:00.757143  ETH     1.2630       545.31413\n",
            "2 2018-05-29 19:26:00.758078  ETH     1.2323       531.31413\n",
            "3 2018-05-29 19:26:00.758926  ETH     1.2350       545.31413\n",
            "4 2018-05-29 19:26:00.759767  ETH     1.2330       549.31413\n",
            "5 2018-05-29 19:26:00.760804  ETH     1.2500       540.31413\n"
          ],
          "name": "stdout"
        }
      ]
    },
    {
      "metadata": {
        "id": "KTK0PA19XUYT",
        "colab_type": "code",
        "colab": {
          "autoexec": {
            "startup": false,
            "wait_interval": 0
          }
        }
      },
      "cell_type": "code",
      "source": [
        ""
      ],
      "execution_count": 0,
      "outputs": []
    }
  ]
}