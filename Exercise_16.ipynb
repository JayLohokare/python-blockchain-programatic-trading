{
  "nbformat": 4,
  "nbformat_minor": 0,
  "metadata": {
    "colab": {
      "name": "Exercise 16",
      "version": "0.3.2",
      "views": {},
      "default_view": {},
      "provenance": []
    },
    "kernelspec": {
      "name": "python3",
      "display_name": "Python 3"
    }
  },
  "cells": [
    {
      "metadata": {
        "id": "_8SRY5gKYodf",
        "colab_type": "text"
      },
      "cell_type": "markdown",
      "source": [
        "**Python Web-sockets data stream**"
      ]
    },
    {
      "metadata": {
        "id": "nBSFraGRXt6b",
        "colab_type": "code",
        "colab": {
          "autoexec": {
            "startup": false,
            "wait_interval": 0
          },
          "base_uri": "https://localhost:8080/",
          "height": 147
        },
        "outputId": "153acb37-6ee8-46cb-f8d1-39b7ef1d25f0",
        "executionInfo": {
          "status": "ok",
          "timestamp": 1527622278324,
          "user_tz": 240,
          "elapsed": 5043,
          "user": {
            "displayName": "Jay Lohokare",
            "photoUrl": "//lh3.googleusercontent.com/-0bBtDx-OpcA/AAAAAAAAAAI/AAAAAAAAo0k/wOog6yUZ1yM/s50-c-k-no/photo.jpg",
            "userId": "101298074449851112405"
          }
        }
      },
      "cell_type": "code",
      "source": [
        "!pip install websockets\n",
        "!pip install asyncio"
      ],
      "execution_count": 8,
      "outputs": [
        {
          "output_type": "stream",
          "text": [
            "Collecting websockets\n",
            "\u001b[?25l  Downloading https://files.pythonhosted.org/packages/44/09/c48fd04e293b999aaa1f78c32376d241aa042fce09475f9107ae2e811554/websockets-5.0.1-cp36-cp36m-manylinux1_x86_64.whl (85kB)\n",
            "\u001b[K    100% |████████████████████████████████| 92kB 2.8MB/s \n",
            "\u001b[?25hInstalling collected packages: websockets\n",
            "Successfully installed websockets-5.0.1\n",
            "Requirement already satisfied: asyncio in /usr/local/lib/python3.6/dist-packages (3.4.3)\n"
          ],
          "name": "stdout"
        }
      ]
    },
    {
      "metadata": {
        "id": "ZZABMoGGX001",
        "colab_type": "code",
        "colab": {
          "autoexec": {
            "startup": false,
            "wait_interval": 0
          }
        }
      },
      "cell_type": "code",
      "source": [
        "import requests, json, time, urllib3, io\n",
        "import matplotlib.pyplot as plt\n",
        "import pandas as pd\n",
        "import datetime as dt\n",
        "import asyncio, websockets, json"
      ],
      "execution_count": 0,
      "outputs": []
    },
    {
      "metadata": {
        "id": "2oE5DtPBYz1q",
        "colab_type": "code",
        "colab": {
          "autoexec": {
            "startup": false,
            "wait_interval": 0
          }
        }
      },
      "cell_type": "code",
      "source": [
        "async def start_gdax_websocket():\n",
        "  async with websockets.connect('wss://ws-feed.gdax.com') as websocket:\n",
        "    await websocket.send(build_request())\n",
        "    async for m in websocket:\n",
        "      print(m)\n",
        "   "
      ],
      "execution_count": 0,
      "outputs": []
    },
    {
      "metadata": {
        "id": "lRn1V4P1afEg",
        "colab_type": "code",
        "colab": {
          "autoexec": {
            "startup": false,
            "wait_interval": 0
          }
        }
      },
      "cell_type": "code",
      "source": [
        "def build_request():\n",
        "  return \"{ \\\"type\\\": \\\"subscribe\\\",    \\\"channels\\\": [{ \\\"name\\\": \\\"ticker\\\", \\\"product_ids\\\": [\\\"ETH-USD\\\"] }]}\"\n",
        "\n",
        "#   return \"{ \\\"type\\\": \\\"subscribe\\\",    \\\"channels\\\": [{ \\\"name\\\": \\\"heartbeat\\\", \\\"product_ids\\\": [\\\"ETH-USD\\\"] }]}\""
      ],
      "execution_count": 0,
      "outputs": []
    },
    {
      "metadata": {
        "id": "ut5cABlkZlpl",
        "colab_type": "code",
        "colab": {
          "autoexec": {
            "startup": false,
            "wait_interval": 0
          },
          "base_uri": "https://localhost:8080/",
          "height": 1863
        },
        "outputId": "79d670ab-2021-4ad5-ad24-7f8bb1da007e",
        "executionInfo": {
          "status": "error",
          "timestamp": 1527623071297,
          "user_tz": 240,
          "elapsed": 22127,
          "user": {
            "displayName": "Jay Lohokare",
            "photoUrl": "//lh3.googleusercontent.com/-0bBtDx-OpcA/AAAAAAAAAAI/AAAAAAAAo0k/wOog6yUZ1yM/s50-c-k-no/photo.jpg",
            "userId": "101298074449851112405"
          }
        }
      },
      "cell_type": "code",
      "source": [
        "asyncio.get_event_loop().run_until_complete(start_gdax_websocket())"
      ],
      "execution_count": 39,
      "outputs": [
        {
          "output_type": "stream",
          "text": [
            "{\"type\":\"heartbeat\",\"last_trade_id\":35113815,\"product_id\":\"ETH-USD\",\"sequence\":3857258986,\"time\":\"2018-05-29T19:44:07.950000Z\"}\n",
            "{\"type\":\"heartbeat\",\"last_trade_id\":35113815,\"product_id\":\"ETH-USD\",\"sequence\":3857259067,\"time\":\"2018-05-29T19:44:08.950000Z\"}\n",
            "{\"type\":\"heartbeat\",\"last_trade_id\":35113815,\"product_id\":\"ETH-USD\",\"sequence\":3857259185,\"time\":\"2018-05-29T19:44:09.960000Z\"}\n",
            "{\"type\":\"heartbeat\",\"last_trade_id\":35113815,\"product_id\":\"ETH-USD\",\"sequence\":3857258986,\"time\":\"2018-05-29T19:44:07.950000Z\"}\n",
            "{\"type\":\"heartbeat\",\"last_trade_id\":35113815,\"product_id\":\"ETH-USD\",\"sequence\":3857259067,\"time\":\"2018-05-29T19:44:08.950000Z\"}\n",
            "{\"type\":\"heartbeat\",\"last_trade_id\":35113815,\"product_id\":\"ETH-USD\",\"sequence\":3857259185,\"time\":\"2018-05-29T19:44:09.960000Z\"}\n",
            "{\"type\":\"heartbeat\",\"last_trade_id\":35113815,\"product_id\":\"ETH-USD\",\"sequence\":3857259234,\"time\":\"2018-05-29T19:44:10.960000Z\"}\n",
            "{\"type\":\"heartbeat\",\"last_trade_id\":35113815,\"product_id\":\"ETH-USD\",\"sequence\":3857259234,\"time\":\"2018-05-29T19:44:10.960000Z\"}\n",
            "{\"type\":\"ticker\",\"sequence\":3857258853,\"product_id\":\"ETH-USD\",\"price\":\"565.00000000\",\"open_24h\":\"527.83000000\",\"volume_24h\":\"143988.09758684\",\"low_24h\":\"507.00000000\",\"high_24h\":\"572.00000000\",\"volume_30d\":\"3373791.77381714\",\"best_bid\":\"564.99\",\"best_ask\":\"565\"}\n",
            "{\"type\":\"subscriptions\",\"channels\":[{\"name\":\"ticker\",\"product_ids\":[\"ETH-USD\"]}]}\n",
            "{\"type\":\"ticker\",\"sequence\":3857259256,\"product_id\":\"ETH-USD\",\"price\":\"565.00000000\",\"open_24h\":\"527.83000000\",\"volume_24h\":\"143988.10758684\",\"low_24h\":\"507.00000000\",\"high_24h\":\"572.00000000\",\"volume_30d\":\"3373791.78381714\",\"best_bid\":\"564.99\",\"best_ask\":\"565\",\"side\":\"buy\",\"time\":\"2018-05-29T19:44:11.759000Z\",\"trade_id\":35113816,\"last_size\":\"0.01000000\"}\n",
            "{\"type\":\"ticker\",\"sequence\":3857259256,\"product_id\":\"ETH-USD\",\"price\":\"565.00000000\",\"open_24h\":\"527.83000000\",\"volume_24h\":\"143988.10758684\",\"low_24h\":\"507.00000000\",\"high_24h\":\"572.00000000\",\"volume_30d\":\"3373791.78381714\",\"best_bid\":\"564.99\",\"best_ask\":\"565\",\"side\":\"buy\",\"time\":\"2018-05-29T19:44:11.759000Z\",\"trade_id\":35113816,\"last_size\":\"0.01000000\"}\n",
            "{\"type\":\"heartbeat\",\"last_trade_id\":35113816,\"product_id\":\"ETH-USD\",\"sequence\":3857259266,\"time\":\"2018-05-29T19:44:11.970000Z\"}\n",
            "{\"type\":\"heartbeat\",\"last_trade_id\":35113816,\"product_id\":\"ETH-USD\",\"sequence\":3857259266,\"time\":\"2018-05-29T19:44:11.970000Z\"}\n",
            "{\"type\":\"heartbeat\",\"last_trade_id\":35113816,\"product_id\":\"ETH-USD\",\"sequence\":3857259319,\"time\":\"2018-05-29T19:44:12.970000Z\"}\n",
            "{\"type\":\"heartbeat\",\"last_trade_id\":35113816,\"product_id\":\"ETH-USD\",\"sequence\":3857259319,\"time\":\"2018-05-29T19:44:12.970000Z\"}\n",
            "{\"type\":\"heartbeat\",\"last_trade_id\":35113816,\"product_id\":\"ETH-USD\",\"sequence\":3857259389,\"time\":\"2018-05-29T19:44:13.980000Z\"}\n",
            "{\"type\":\"heartbeat\",\"last_trade_id\":35113816,\"product_id\":\"ETH-USD\",\"sequence\":3857259389,\"time\":\"2018-05-29T19:44:13.980000Z\"}\n",
            "{\"type\":\"heartbeat\",\"last_trade_id\":35113816,\"product_id\":\"ETH-USD\",\"sequence\":3857259480,\"time\":\"2018-05-29T19:44:14.980000Z\"}\n",
            "{\"type\":\"heartbeat\",\"last_trade_id\":35113816,\"product_id\":\"ETH-USD\",\"sequence\":3857259480,\"time\":\"2018-05-29T19:44:14.980000Z\"}\n",
            "{\"type\":\"heartbeat\",\"last_trade_id\":35113816,\"product_id\":\"ETH-USD\",\"sequence\":3857259579,\"time\":\"2018-05-29T19:44:15.980000Z\"}\n",
            "{\"type\":\"heartbeat\",\"last_trade_id\":35113816,\"product_id\":\"ETH-USD\",\"sequence\":3857259579,\"time\":\"2018-05-29T19:44:15.980000Z\"}\n",
            "{\"type\":\"heartbeat\",\"last_trade_id\":35113816,\"product_id\":\"ETH-USD\",\"sequence\":3857259699,\"time\":\"2018-05-29T19:44:16.990000Z\"}\n",
            "{\"type\":\"heartbeat\",\"last_trade_id\":35113816,\"product_id\":\"ETH-USD\",\"sequence\":3857259699,\"time\":\"2018-05-29T19:44:16.990000Z\"}\n",
            "{\"type\":\"ticker\",\"sequence\":3857259709,\"product_id\":\"ETH-USD\",\"price\":\"564.99000000\",\"open_24h\":\"527.83000000\",\"volume_24h\":\"143988.24608684\",\"low_24h\":\"507.00000000\",\"high_24h\":\"572.00000000\",\"volume_30d\":\"3373791.92231714\",\"best_bid\":\"564.99\",\"best_ask\":\"565\",\"side\":\"sell\",\"time\":\"2018-05-29T19:44:17.114000Z\",\"trade_id\":35113817,\"last_size\":\"0.13850000\"}\n",
            "{\"type\":\"ticker\",\"sequence\":3857259711,\"product_id\":\"ETH-USD\",\"price\":\"564.99000000\",\"open_24h\":\"527.83000000\",\"volume_24h\":\"143989.08588684\",\"low_24h\":\"507.00000000\",\"high_24h\":\"572.00000000\",\"volume_30d\":\"3373792.76211714\",\"best_bid\":\"564.99\",\"best_ask\":\"565\",\"side\":\"sell\",\"time\":\"2018-05-29T19:44:17.114000Z\",\"trade_id\":35113818,\"last_size\":\"0.83980000\"}\n",
            "{\"type\":\"ticker\",\"sequence\":3857259709,\"product_id\":\"ETH-USD\",\"price\":\"564.99000000\",\"open_24h\":\"527.83000000\",\"volume_24h\":\"143988.24608684\",\"low_24h\":\"507.00000000\",\"high_24h\":\"572.00000000\",\"volume_30d\":\"3373791.92231714\",\"best_bid\":\"564.99\",\"best_ask\":\"565\",\"side\":\"sell\",\"time\":\"2018-05-29T19:44:17.114000Z\",\"trade_id\":35113817,\"last_size\":\"0.13850000\"}\n",
            "{\"type\":\"ticker\",\"sequence\":3857259711,\"product_id\":\"ETH-USD\",\"price\":\"564.99000000\",\"open_24h\":\"527.83000000\",\"volume_24h\":\"143989.08588684\",\"low_24h\":\"507.00000000\",\"high_24h\":\"572.00000000\",\"volume_30d\":\"3373792.76211714\",\"best_bid\":\"564.99\",\"best_ask\":\"565\",\"side\":\"sell\",\"time\":\"2018-05-29T19:44:17.114000Z\",\"trade_id\":35113818,\"last_size\":\"0.83980000\"}\n",
            "{\"type\":\"heartbeat\",\"last_trade_id\":35113818,\"product_id\":\"ETH-USD\",\"sequence\":3857259756,\"time\":\"2018-05-29T19:44:17.990000Z\"}\n",
            "{\"type\":\"heartbeat\",\"last_trade_id\":35113818,\"product_id\":\"ETH-USD\",\"sequence\":3857259756,\"time\":\"2018-05-29T19:44:17.990000Z\"}\n",
            "{\"type\":\"heartbeat\",\"last_trade_id\":35113818,\"product_id\":\"ETH-USD\",\"sequence\":3857259811,\"time\":\"2018-05-29T19:44:19.000000Z\"}\n",
            "{\"type\":\"heartbeat\",\"last_trade_id\":35113818,\"product_id\":\"ETH-USD\",\"sequence\":3857259811,\"time\":\"2018-05-29T19:44:19.000000Z\"}\n",
            "{\"type\":\"heartbeat\",\"last_trade_id\":35113818,\"product_id\":\"ETH-USD\",\"sequence\":3857259839,\"time\":\"2018-05-29T19:44:20.000000Z\"}\n",
            "{\"type\":\"heartbeat\",\"last_trade_id\":35113818,\"product_id\":\"ETH-USD\",\"sequence\":3857259839,\"time\":\"2018-05-29T19:44:20.000000Z\"}\n",
            "{\"type\":\"heartbeat\",\"last_trade_id\":35113818,\"product_id\":\"ETH-USD\",\"sequence\":3857259878,\"time\":\"2018-05-29T19:44:21.010000Z\"}\n",
            "{\"type\":\"heartbeat\",\"last_trade_id\":35113818,\"product_id\":\"ETH-USD\",\"sequence\":3857259878,\"time\":\"2018-05-29T19:44:21.010000Z\"}\n",
            "{\"type\":\"heartbeat\",\"last_trade_id\":35113818,\"product_id\":\"ETH-USD\",\"sequence\":3857259967,\"time\":\"2018-05-29T19:44:22.010000Z\"}\n",
            "{\"type\":\"heartbeat\",\"last_trade_id\":35113818,\"product_id\":\"ETH-USD\",\"sequence\":3857259967,\"time\":\"2018-05-29T19:44:22.010000Z\"}\n",
            "{\"type\":\"heartbeat\",\"last_trade_id\":35113818,\"product_id\":\"ETH-USD\",\"sequence\":3857260092,\"time\":\"2018-05-29T19:44:23.020000Z\"}\n",
            "{\"type\":\"heartbeat\",\"last_trade_id\":35113818,\"product_id\":\"ETH-USD\",\"sequence\":3857260092,\"time\":\"2018-05-29T19:44:23.020000Z\"}\n",
            "{\"type\":\"heartbeat\",\"last_trade_id\":35113818,\"product_id\":\"ETH-USD\",\"sequence\":3857260193,\"time\":\"2018-05-29T19:44:24.029000Z\"}\n",
            "{\"type\":\"heartbeat\",\"last_trade_id\":35113818,\"product_id\":\"ETH-USD\",\"sequence\":3857260193,\"time\":\"2018-05-29T19:44:24.029000Z\"}\n",
            "{\"type\":\"heartbeat\",\"last_trade_id\":35113818,\"product_id\":\"ETH-USD\",\"sequence\":3857260276,\"time\":\"2018-05-29T19:44:25.030000Z\"}\n",
            "{\"type\":\"heartbeat\",\"last_trade_id\":35113818,\"product_id\":\"ETH-USD\",\"sequence\":3857260276,\"time\":\"2018-05-29T19:44:25.030000Z\"}\n",
            "{\"type\":\"heartbeat\",\"last_trade_id\":35113818,\"product_id\":\"ETH-USD\",\"sequence\":3857260348,\"time\":\"2018-05-29T19:44:26.040000Z\"}\n",
            "{\"type\":\"heartbeat\",\"last_trade_id\":35113818,\"product_id\":\"ETH-USD\",\"sequence\":3857260348,\"time\":\"2018-05-29T19:44:26.040000Z\"}\n",
            "{\"type\":\"ticker\",\"sequence\":3857260654,\"product_id\":\"ETH-USD\",\"price\":\"565.00000000\",\"open_24h\":\"527.83000000\",\"volume_24h\":\"143989.09588684\",\"low_24h\":\"507.00000000\",\"high_24h\":\"572.00000000\",\"volume_30d\":\"3373792.77211714\",\"best_bid\":\"564.99\",\"best_ask\":\"565\",\"side\":\"buy\",\"time\":\"2018-05-29T19:44:26.809000Z\",\"trade_id\":35113819,\"last_size\":\"0.01000000\"}\n",
            "{\"type\":\"ticker\",\"sequence\":3857260654,\"product_id\":\"ETH-USD\",\"price\":\"565.00000000\",\"open_24h\":\"527.83000000\",\"volume_24h\":\"143989.09588684\",\"low_24h\":\"507.00000000\",\"high_24h\":\"572.00000000\",\"volume_30d\":\"3373792.77211714\",\"best_bid\":\"564.99\",\"best_ask\":\"565\",\"side\":\"buy\",\"time\":\"2018-05-29T19:44:26.809000Z\",\"trade_id\":35113819,\"last_size\":\"0.01000000\"}\n",
            "{\"type\":\"heartbeat\",\"last_trade_id\":35113819,\"product_id\":\"ETH-USD\",\"sequence\":3857260728,\"time\":\"2018-05-29T19:44:27.040000Z\"}\n",
            "{\"type\":\"heartbeat\",\"last_trade_id\":35113819,\"product_id\":\"ETH-USD\",\"sequence\":3857260728,\"time\":\"2018-05-29T19:44:27.040000Z\"}\n"
          ],
          "name": "stdout"
        },
        {
          "output_type": "stream",
          "text": [
            "{\"type\":\"ticker\",\"sequence\":3857261142,\"product_id\":\"ETH-USD\",\"price\":\"565.00000000\",\"open_24h\":\"527.83000000\",\"volume_24h\":\"143992.72998684\",\"low_24h\":\"507.00000000\",\"high_24h\":\"572.00000000\",\"volume_30d\":\"3373796.40621714\",\"best_bid\":\"564.99\",\"best_ask\":\"565\",\"side\":\"buy\",\"time\":\"2018-05-29T19:44:27.805000Z\",\"trade_id\":35113820,\"last_size\":\"3.63410000\"}\n",
            "{\"type\":\"ticker\",\"sequence\":3857261142,\"product_id\":\"ETH-USD\",\"price\":\"565.00000000\",\"open_24h\":\"527.83000000\",\"volume_24h\":\"143992.72998684\",\"low_24h\":\"507.00000000\",\"high_24h\":\"572.00000000\",\"volume_30d\":\"3373796.40621714\",\"best_bid\":\"564.99\",\"best_ask\":\"565\",\"side\":\"buy\",\"time\":\"2018-05-29T19:44:27.805000Z\",\"trade_id\":35113820,\"last_size\":\"3.63410000\"}\n",
            "{\"type\":\"heartbeat\",\"last_trade_id\":35113820,\"product_id\":\"ETH-USD\",\"sequence\":3857261241,\"time\":\"2018-05-29T19:44:28.044000Z\"}\n",
            "{\"type\":\"heartbeat\",\"last_trade_id\":35113820,\"product_id\":\"ETH-USD\",\"sequence\":3857261241,\"time\":\"2018-05-29T19:44:28.044000Z\"}\n",
            "{\"type\":\"heartbeat\",\"last_trade_id\":35113820,\"product_id\":\"ETH-USD\",\"sequence\":3857261665,\"time\":\"2018-05-29T19:44:29.044000Z\"}\n",
            "{\"type\":\"heartbeat\",\"last_trade_id\":35113820,\"product_id\":\"ETH-USD\",\"sequence\":3857261665,\"time\":\"2018-05-29T19:44:29.044000Z\"}\n",
            "{\"type\":\"heartbeat\",\"last_trade_id\":35113820,\"product_id\":\"ETH-USD\",\"sequence\":3857262203,\"time\":\"2018-05-29T19:44:30.050000Z\"}\n",
            "{\"type\":\"heartbeat\",\"last_trade_id\":35113820,\"product_id\":\"ETH-USD\",\"sequence\":3857262203,\"time\":\"2018-05-29T19:44:30.050000Z\"}\n",
            "{\"type\":\"heartbeat\",\"last_trade_id\":35113820,\"product_id\":\"ETH-USD\",\"sequence\":3857262704,\"time\":\"2018-05-29T19:44:31.050000Z\"}\n",
            "{\"type\":\"heartbeat\",\"last_trade_id\":35113820,\"product_id\":\"ETH-USD\",\"sequence\":3857262704,\"time\":\"2018-05-29T19:44:31.050000Z\"}\n",
            "{\"type\":\"heartbeat\",\"last_trade_id\":35113820,\"product_id\":\"ETH-USD\",\"sequence\":3857263204,\"time\":\"2018-05-29T19:44:32.050000Z\"}\n",
            "{\"type\":\"heartbeat\",\"last_trade_id\":35113820,\"product_id\":\"ETH-USD\",\"sequence\":3857263204,\"time\":\"2018-05-29T19:44:32.050000Z\"}\n",
            "{\"type\":\"ticker\",\"sequence\":3857263360,\"product_id\":\"ETH-USD\",\"price\":\"565.00000000\",\"open_24h\":\"527.83000000\",\"volume_24h\":\"144007.22439016\",\"low_24h\":\"507.00000000\",\"high_24h\":\"572.00000000\",\"volume_30d\":\"3373810.90062046\",\"best_bid\":\"564.99\",\"best_ask\":\"565\",\"side\":\"buy\",\"time\":\"2018-05-29T19:44:32.264000Z\",\"trade_id\":35113821,\"last_size\":\"14.49440332\"}\n"
          ],
          "name": "stdout"
        },
        {
          "output_type": "error",
          "ename": "KeyboardInterrupt",
          "evalue": "ignored",
          "traceback": [
            "\u001b[0;31m---------------------------------------------------------------------------\u001b[0m",
            "\u001b[0;31mKeyboardInterrupt\u001b[0m                         Traceback (most recent call last)",
            "\u001b[0;32m<ipython-input-39-3d9454dd72f9>\u001b[0m in \u001b[0;36m<module>\u001b[0;34m()\u001b[0m\n\u001b[0;32m----> 1\u001b[0;31m \u001b[0masyncio\u001b[0m\u001b[0;34m.\u001b[0m\u001b[0mget_event_loop\u001b[0m\u001b[0;34m(\u001b[0m\u001b[0;34m)\u001b[0m\u001b[0;34m.\u001b[0m\u001b[0mrun_until_complete\u001b[0m\u001b[0;34m(\u001b[0m\u001b[0mstart_gdax_websocket\u001b[0m\u001b[0;34m(\u001b[0m\u001b[0;34m)\u001b[0m\u001b[0;34m)\u001b[0m\u001b[0;34m\u001b[0m\u001b[0m\n\u001b[0m",
            "\u001b[0;32m/usr/lib/python3.6/asyncio/base_events.py\u001b[0m in \u001b[0;36mrun_until_complete\u001b[0;34m(self, future)\u001b[0m\n\u001b[1;32m    452\u001b[0m         \u001b[0mfuture\u001b[0m\u001b[0;34m.\u001b[0m\u001b[0madd_done_callback\u001b[0m\u001b[0;34m(\u001b[0m\u001b[0m_run_until_complete_cb\u001b[0m\u001b[0;34m)\u001b[0m\u001b[0;34m\u001b[0m\u001b[0m\n\u001b[1;32m    453\u001b[0m         \u001b[0;32mtry\u001b[0m\u001b[0;34m:\u001b[0m\u001b[0;34m\u001b[0m\u001b[0m\n\u001b[0;32m--> 454\u001b[0;31m             \u001b[0mself\u001b[0m\u001b[0;34m.\u001b[0m\u001b[0mrun_forever\u001b[0m\u001b[0;34m(\u001b[0m\u001b[0;34m)\u001b[0m\u001b[0;34m\u001b[0m\u001b[0m\n\u001b[0m\u001b[1;32m    455\u001b[0m         \u001b[0;32mexcept\u001b[0m\u001b[0;34m:\u001b[0m\u001b[0;34m\u001b[0m\u001b[0m\n\u001b[1;32m    456\u001b[0m             \u001b[0;32mif\u001b[0m \u001b[0mnew_task\u001b[0m \u001b[0;32mand\u001b[0m \u001b[0mfuture\u001b[0m\u001b[0;34m.\u001b[0m\u001b[0mdone\u001b[0m\u001b[0;34m(\u001b[0m\u001b[0;34m)\u001b[0m \u001b[0;32mand\u001b[0m \u001b[0;32mnot\u001b[0m \u001b[0mfuture\u001b[0m\u001b[0;34m.\u001b[0m\u001b[0mcancelled\u001b[0m\u001b[0;34m(\u001b[0m\u001b[0;34m)\u001b[0m\u001b[0;34m:\u001b[0m\u001b[0;34m\u001b[0m\u001b[0m\n",
            "\u001b[0;32m/usr/lib/python3.6/asyncio/base_events.py\u001b[0m in \u001b[0;36mrun_forever\u001b[0;34m(self)\u001b[0m\n\u001b[1;32m    419\u001b[0m             \u001b[0mevents\u001b[0m\u001b[0;34m.\u001b[0m\u001b[0m_set_running_loop\u001b[0m\u001b[0;34m(\u001b[0m\u001b[0mself\u001b[0m\u001b[0;34m)\u001b[0m\u001b[0;34m\u001b[0m\u001b[0m\n\u001b[1;32m    420\u001b[0m             \u001b[0;32mwhile\u001b[0m \u001b[0;32mTrue\u001b[0m\u001b[0;34m:\u001b[0m\u001b[0;34m\u001b[0m\u001b[0m\n\u001b[0;32m--> 421\u001b[0;31m                 \u001b[0mself\u001b[0m\u001b[0;34m.\u001b[0m\u001b[0m_run_once\u001b[0m\u001b[0;34m(\u001b[0m\u001b[0;34m)\u001b[0m\u001b[0;34m\u001b[0m\u001b[0m\n\u001b[0m\u001b[1;32m    422\u001b[0m                 \u001b[0;32mif\u001b[0m \u001b[0mself\u001b[0m\u001b[0;34m.\u001b[0m\u001b[0m_stopping\u001b[0m\u001b[0;34m:\u001b[0m\u001b[0;34m\u001b[0m\u001b[0m\n\u001b[1;32m    423\u001b[0m                     \u001b[0;32mbreak\u001b[0m\u001b[0;34m\u001b[0m\u001b[0m\n",
            "\u001b[0;32m/usr/lib/python3.6/asyncio/base_events.py\u001b[0m in \u001b[0;36m_run_once\u001b[0;34m(self)\u001b[0m\n\u001b[1;32m   1388\u001b[0m                            timeout * 1e3, dt * 1e3)\n\u001b[1;32m   1389\u001b[0m         \u001b[0;32melse\u001b[0m\u001b[0;34m:\u001b[0m\u001b[0;34m\u001b[0m\u001b[0m\n\u001b[0;32m-> 1390\u001b[0;31m             \u001b[0mevent_list\u001b[0m \u001b[0;34m=\u001b[0m \u001b[0mself\u001b[0m\u001b[0;34m.\u001b[0m\u001b[0m_selector\u001b[0m\u001b[0;34m.\u001b[0m\u001b[0mselect\u001b[0m\u001b[0;34m(\u001b[0m\u001b[0mtimeout\u001b[0m\u001b[0;34m)\u001b[0m\u001b[0;34m\u001b[0m\u001b[0m\n\u001b[0m\u001b[1;32m   1391\u001b[0m         \u001b[0mself\u001b[0m\u001b[0;34m.\u001b[0m\u001b[0m_process_events\u001b[0m\u001b[0;34m(\u001b[0m\u001b[0mevent_list\u001b[0m\u001b[0;34m)\u001b[0m\u001b[0;34m\u001b[0m\u001b[0m\n\u001b[1;32m   1392\u001b[0m \u001b[0;34m\u001b[0m\u001b[0m\n",
            "\u001b[0;32m/usr/lib/python3.6/selectors.py\u001b[0m in \u001b[0;36mselect\u001b[0;34m(self, timeout)\u001b[0m\n\u001b[1;32m    443\u001b[0m             \u001b[0mready\u001b[0m \u001b[0;34m=\u001b[0m \u001b[0;34m[\u001b[0m\u001b[0;34m]\u001b[0m\u001b[0;34m\u001b[0m\u001b[0m\n\u001b[1;32m    444\u001b[0m             \u001b[0;32mtry\u001b[0m\u001b[0;34m:\u001b[0m\u001b[0;34m\u001b[0m\u001b[0m\n\u001b[0;32m--> 445\u001b[0;31m                 \u001b[0mfd_event_list\u001b[0m \u001b[0;34m=\u001b[0m \u001b[0mself\u001b[0m\u001b[0;34m.\u001b[0m\u001b[0m_epoll\u001b[0m\u001b[0;34m.\u001b[0m\u001b[0mpoll\u001b[0m\u001b[0;34m(\u001b[0m\u001b[0mtimeout\u001b[0m\u001b[0;34m,\u001b[0m \u001b[0mmax_ev\u001b[0m\u001b[0;34m)\u001b[0m\u001b[0;34m\u001b[0m\u001b[0m\n\u001b[0m\u001b[1;32m    446\u001b[0m             \u001b[0;32mexcept\u001b[0m \u001b[0mInterruptedError\u001b[0m\u001b[0;34m:\u001b[0m\u001b[0;34m\u001b[0m\u001b[0m\n\u001b[1;32m    447\u001b[0m                 \u001b[0;32mreturn\u001b[0m \u001b[0mready\u001b[0m\u001b[0;34m\u001b[0m\u001b[0m\n",
            "\u001b[0;31mKeyboardInterrupt\u001b[0m: "
          ]
        }
      ]
    },
    {
      "metadata": {
        "id": "k8ZAMt2-aYQz",
        "colab_type": "code",
        "colab": {
          "autoexec": {
            "startup": false,
            "wait_interval": 0
          }
        }
      },
      "cell_type": "code",
      "source": [
        ""
      ],
      "execution_count": 0,
      "outputs": []
    }
  ]
}