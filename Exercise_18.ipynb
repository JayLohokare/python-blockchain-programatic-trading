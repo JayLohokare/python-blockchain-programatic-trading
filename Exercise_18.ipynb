{
  "nbformat": 4,
  "nbformat_minor": 0,
  "metadata": {
    "colab": {
      "name": "Exercise 18",
      "version": "0.3.2",
      "views": {},
      "default_view": {},
      "provenance": []
    },
    "kernelspec": {
      "name": "python3",
      "display_name": "Python 3"
    }
  },
  "cells": [
    {
      "metadata": {
        "id": "mQbnXznHdxhZ",
        "colab_type": "code",
        "colab": {
          "autoexec": {
            "startup": false,
            "wait_interval": 0
          }
        }
      },
      "cell_type": "code",
      "source": [
        "import requests, json, time, urllib3, io\n",
        "import matplotlib.pyplot as plt\n",
        "import pandas as pd\n",
        "import datetime as dt"
      ],
      "execution_count": 0,
      "outputs": []
    },
    {
      "metadata": {
        "id": "N9H0Wsbbd13o",
        "colab_type": "code",
        "colab": {
          "autoexec": {
            "startup": false,
            "wait_interval": 0
          }
        }
      },
      "cell_type": "code",
      "source": [
        "def load(url, printout=False, remove_bottom_rows=0, remove_columns =[]):\n",
        "  headers = {'User-Agent': 'Mozilla/5.0 (Macintosh; Intel Mac OS X 10_10_1) AppleWebKit/537.36 (KHTML, like Gecko) Chrome/39.0.2171.95 Safari/537.36'}\n",
        "  response = requests.get(url, headers = headers)\n",
        "  df = pd.read_json(response.text)\n",
        "  \n",
        "  if remove_bottom_rows > 0:\n",
        "    df.drop(df.tail(remove_bottom_rows).index, inplace=True)\n",
        "    \n",
        "  df.drop(columns=remove_columns, axis=1, inplace=True)\n",
        "  \n",
        "  df = df.dropna(axis=1)\n",
        "  \n",
        "  if printout:\n",
        "    print(df.head())\n",
        "    print(df.shape)\n",
        "    \n",
        "  return df\n",
        "\n",
        "  "
      ],
      "execution_count": 0,
      "outputs": []
    },
    {
      "metadata": {
        "id": "OwCMDPqzd3Xl",
        "colab_type": "code",
        "colab": {
          "autoexec": {
            "startup": false,
            "wait_interval": 0
          }
        }
      },
      "cell_type": "code",
      "source": [
        "def get_trades_for_product(product_id):\n",
        "  type = '/trades'\n",
        "  url = \"https://api.gdax.com/products/\" + product_id + type\n",
        "  return load(url)"
      ],
      "execution_count": 0,
      "outputs": []
    },
    {
      "metadata": {
        "id": "zZghosQjd61b",
        "colab_type": "code",
        "colab": {
          "autoexec": {
            "startup": false,
            "wait_interval": 0
          }
        }
      },
      "cell_type": "code",
      "source": [
        "def initialize_blotter():\n",
        "  col_names = ['Timestamp', 'Pair', 'Quantitiy', 'Executed Price']\n",
        "  df = pd.DataFrame(columns = col_names)\n",
        "  return df, col_names\n",
        "  "
      ],
      "execution_count": 0,
      "outputs": []
    },
    {
      "metadata": {
        "id": "9DcVfrm3d7uL",
        "colab_type": "code",
        "colab": {
          "autoexec": {
            "startup": false,
            "wait_interval": 0
          }
        }
      },
      "cell_type": "code",
      "source": [
        "def get_price(pair):\n",
        "  type = '/book'\n",
        "  url = \"https://api.gdax.com/products/\" + pair + type\n",
        "  df = load(url)\n",
        "  ask = df.iloc[0]['asks'][0]\n",
        "  bid = df.iloc[0]['bids'][0]\n",
        "  return bid, ask"
      ],
      "execution_count": 0,
      "outputs": []
    },
    {
      "metadata": {
        "id": "2KSH-LeVd8qE",
        "colab_type": "code",
        "colab": {
          "autoexec": {
            "startup": false,
            "wait_interval": 0
          }
        }
      },
      "cell_type": "code",
      "source": [
        "def initialize_pl(pairs):\n",
        "  col_names = ['Pair', 'Positions', 'VMAP', 'UPL', 'RPL']\n",
        "  pl = pd.DataFrame(columns=col_names)\n",
        "  for p in pairs:\n",
        "    data = pd.DataFrame([[p,0,0,0,0]], columns = col_names)\n",
        "    pl = pl.append(data, ignore_index = True)\n",
        "  return pl, col_names"
      ],
      "execution_count": 0,
      "outputs": []
    },
    {
      "metadata": {
        "id": "1zXX8ohJeYyX",
        "colab_type": "code",
        "colab": {
          "autoexec": {
            "startup": false,
            "wait_interval": 0
          }
        }
      },
      "cell_type": "code",
      "source": [
        "def trade(blotter, pl, qty, pair):\n",
        "  bid, ask = get_price(pair)\n",
        "  if qty > 0:\n",
        "    price = ask\n",
        "  else:\n",
        "    price = bid\n",
        "  \n",
        "  data = pd.DataFrame([[dt.datetime.now(), pair, qty, price]], columns=['Timestamp', 'Pair', 'Quantitiy', 'Executed Price'])\n",
        "  \n",
        "  blotter = blotter.append(data, ignore_index = True)\n",
        "  return blotter"
      ],
      "execution_count": 0,
      "outputs": []
    },
    {
      "metadata": {
        "id": "v8ecZbQTd9m1",
        "colab_type": "code",
        "colab": {
          "autoexec": {
            "startup": false,
            "wait_interval": 0
          },
          "base_uri": "https://localhost:8080/",
          "height": 90
        },
        "outputId": "b189c89b-2d47-4c41-f8af-44eb62887501",
        "executionInfo": {
          "status": "ok",
          "timestamp": 1527624259317,
          "user_tz": 240,
          "elapsed": 824,
          "user": {
            "displayName": "Jay Lohokare",
            "photoUrl": "//lh3.googleusercontent.com/-0bBtDx-OpcA/AAAAAAAAAAI/AAAAAAAAo0k/wOog6yUZ1yM/s50-c-k-no/photo.jpg",
            "userId": "101298074449851112405"
          }
        }
      },
      "cell_type": "code",
      "source": [
        "pairs = ['eth-usd', 'btc-usd']\n",
        "blotter, col_names = initialize_blotter()\n",
        "pl, pl_col_names = initialize_pl(pairs)\n",
        "\n",
        "\n",
        "#Coin Codes\n",
        "ETH_USD = 0\n",
        "BTC_USD = 1\n",
        "\n",
        "blotter = trade(blotter, pl, 1, pairs[ETH_USD])\n",
        "blotter = trade(blotter, pl, 2, pairs[ETH_USD])\n",
        "blotter = trade(blotter, pl, -1, pairs[BTC_USD])\n",
        "\n",
        "print(blotter)"
      ],
      "execution_count": 21,
      "outputs": [
        {
          "output_type": "stream",
          "text": [
            "                   Timestamp     Pair Quantitiy Executed Price\n",
            "0 2018-05-29 20:04:17.848874  eth-usd         1         563.41\n",
            "1 2018-05-29 20:04:17.985142  eth-usd         2         563.41\n",
            "2 2018-05-29 20:04:18.133557  btc-usd        -1        7456.74\n"
          ],
          "name": "stdout"
        }
      ]
    },
    {
      "metadata": {
        "id": "nkWFnu4peX3x",
        "colab_type": "code",
        "colab": {
          "autoexec": {
            "startup": false,
            "wait_interval": 0
          }
        }
      },
      "cell_type": "code",
      "source": [
        ""
      ],
      "execution_count": 0,
      "outputs": []
    }
  ]
}